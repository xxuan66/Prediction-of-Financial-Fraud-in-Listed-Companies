{
 "cells": [
  {
   "cell_type": "markdown",
   "id": "considerable-garbage",
   "metadata": {},
   "source": [
    "# 提取指标"
   ]
  },
  {
   "cell_type": "code",
   "execution_count": 13,
   "id": "emerging-wrist",
   "metadata": {},
   "outputs": [
    {
     "name": "stdout",
     "output_type": "stream",
     "text": [
      "['交通运输、仓储和邮政业清洗完成的数据.csv', '住宿和餐饮业清洗完成的数据.csv', '信息传输、软件和信息技术服务业清洗完成的数据.csv', '农、林、牧、渔业清洗完成的数据.csv', '制造业清洗完成的数据.csv', '卫生和社会工作清洗完成的数据.csv', '居民服务、修理和其他服务业清洗完成的数据.csv', '建筑业清洗完成的数据.csv', '房地产业清洗完成的数据.csv', '批发和零售业清洗完成的数据.csv', '教育清洗完成的数据.csv', '文化、体育和娱乐业清洗完成的数据.csv', '水利、环境和公共设施管理业清洗完成的数据.csv', '电力、热力、燃气及水生产和供应业清洗完成的数据.csv', '科学研究和技术服务业清洗完成的数据.csv', '租赁和商务服务业清洗完成的数据.csv', '综合清洗完成的数据.csv', '采矿业清洗完成的数据.csv', '金融业清洗完成的数据.csv', '问题2(1).csv', '问题2.csv']\n",
      "交通运输、仓储和邮政业清洗完成的数据.csv\n"
     ]
    }
   ],
   "source": [
    "import os\n",
    "import pandas as pd\n",
    "import numpy as np\n",
    "from sklearn.model_selection import train_test_split\n",
    "from imblearn.over_sampling import SMOTE   # SMOTE采样\n",
    "from collections import Counter\n",
    "from sklearn.ensemble import AdaBoostClassifier\n",
    "import warnings\n",
    "warnings.filterwarnings('ignore')\n",
    "warnings.simplefilter('ignore')\n",
    "\n",
    "\n",
    "col_list = pd.read_csv('./指标/300次训练.csv',encoding='gbk',header=None)\n",
    "new_col = list(col_list[col_list[0]=='制造业'][1])\n",
    "new_col.append('TICKER_SYMBOL')\n",
    "new_col.append('FLAG')\n",
    "os.getcwd()  # 'C:\\\\Users\\\\dell\\\\zhaoxuan'\n",
    "os.listdir()  # 列出所有文件\n",
    "\n",
    "filelist = os.listdir()\n",
    "\n",
    "csv_list = [x for x in filelist if 'csv' in x]\n",
    "print(csv_list)\n",
    "print(csv_list[0])"
   ]
  },
  {
   "cell_type": "code",
   "execution_count": 16,
   "id": "sticky-niger",
   "metadata": {},
   "outputs": [
    {
     "name": "stdout",
     "output_type": "stream",
     "text": [
      "Accuracy of adaboost Classifier: 0.8444444444444444\n",
      "              precision    recall  f1-score   support\n",
      "\n",
      "           0       0.94      0.88      0.91       246\n",
      "           1       0.28      0.46      0.34        24\n",
      "\n",
      "    accuracy                           0.84       270\n",
      "   macro avg       0.61      0.67      0.63       270\n",
      "weighted avg       0.88      0.84      0.86       270\n",
      "\n",
      "0.6702235772357723\n",
      "Accuracy of RF Classifier: 0.8962962962962963\n",
      "              precision    recall  f1-score   support\n",
      "\n",
      "           0       0.93      0.96      0.94       246\n",
      "           1       0.36      0.21      0.26        24\n",
      "\n",
      "    accuracy                           0.90       270\n",
      "   macro avg       0.64      0.59      0.60       270\n",
      "weighted avg       0.88      0.90      0.88       270\n",
      "\n",
      "0.5858739837398373\n",
      "Accuracy of DT Classifier: 0.837037037037037\n",
      "              precision    recall  f1-score   support\n",
      "\n",
      "           0       0.92      0.89      0.91       246\n",
      "           1       0.19      0.25      0.21        24\n",
      "\n",
      "    accuracy                           0.84       270\n",
      "   macro avg       0.56      0.57      0.56       270\n",
      "weighted avg       0.86      0.84      0.85       270\n",
      "\n",
      "0.5721544715447154\n",
      "Accuracy of LR Classifier: 0.5851851851851851\n",
      "              precision    recall  f1-score   support\n",
      "\n",
      "           0       0.95      0.57      0.72       246\n",
      "           1       0.14      0.71      0.23        24\n",
      "\n",
      "    accuracy                           0.59       270\n",
      "   macro avg       0.55      0.64      0.47       270\n",
      "weighted avg       0.88      0.59      0.67       270\n",
      "\n",
      "0.6407520325203253\n",
      "Accuracy of GBDT Classifier: 0.8592592592592593\n",
      "              precision    recall  f1-score   support\n",
      "\n",
      "           0       0.94      0.91      0.92       246\n",
      "           1       0.28      0.38      0.32        24\n",
      "\n",
      "    accuracy                           0.86       270\n",
      "   macro avg       0.61      0.64      0.62       270\n",
      "weighted avg       0.88      0.86      0.87       270\n",
      "\n",
      "0.6407520325203252\n",
      "Accuracy of SVM Classifier: 0.25925925925925924\n",
      "              precision    recall  f1-score   support\n",
      "\n",
      "           0       0.94      0.20      0.33       246\n",
      "           1       0.10      0.88      0.17        24\n",
      "\n",
      "    accuracy                           0.26       270\n",
      "   macro avg       0.52      0.54      0.25       270\n",
      "weighted avg       0.87      0.26      0.32       270\n",
      "\n",
      "0.5370934959349594\n"
     ]
    }
   ],
   "source": [
    "data_rate = pd.read_csv(csv_list[4])\n",
    "data_rate = data_rate[new_col]\n",
    "data_X = data_rate[~data_rate['FLAG'].isnull()]\n",
    "data_Y = data_rate[data_rate['FLAG'].isnull()]\n",
    "data_X['FLAG'] = data_X['FLAG'].apply(lambda x :int(x))\n",
    "X_1 = data_X[data_X['FLAG']==1]\n",
    "X_0 = data_X[data_X['FLAG']==0].sample(1000)\n",
    "X_0 = X_0.append(X_1)\n",
    "X_tr, X_te, Y_tr, Y_te = train_test_split(X_0.iloc[:,:-2],X_0.iloc[:,-1],test_size=0.25)   # 拆分训练集、测试集,12,134\n",
    "\n",
    "sos = SMOTE(random_state=0)  # SMOTE采样\n",
    "X_sos, y_sos = sos.fit_resample(X_tr, Y_tr)\n",
    "\n",
    "from sklearn.ensemble import RandomForestClassifier  # 随机森林\n",
    "import lightgbm as lgb # lightgbm\n",
    "from sklearn.ensemble import GradientBoostingClassifier # GBDT\n",
    "from sklearn.linear_model import LogisticRegression # 逻辑回归\n",
    "from sklearn.tree import DecisionTreeClassifier \n",
    "from sklearn.svm import SVC\n",
    "# import xgboost\n",
    "# from xgboost import XGBClassifier\n",
    "from sklearn.metrics import classification_report\n",
    "from sklearn.metrics import roc_auc_score\n",
    "\n",
    "\n",
    "\n",
    "clf_adaboost = AdaBoostClassifier()\n",
    "clf_adaboost.fit(X_sos, y_sos)\n",
    "pre_adaboost = clf_adaboost.predict(X_te)\n",
    "# acc_te_adaboost = sum(pre_adaboost == Y_te)/len(pre_adaboost)\n",
    "# print('adaboost测试集的准确率',acc_te_adaboost)\n",
    "print('Accuracy of adaboost Classifier:', clf_adaboost.score(X_te, Y_te))\n",
    "print(classification_report(Y_te, pre_adaboost, target_names=['0', '1']))\n",
    "auc_score = roc_auc_score(Y_te,pre_adaboost)\n",
    "print(auc_score)\n",
    "# pre_q2 = clf_adaboost.predict(data_Y.iloc[:,:-2])\n",
    "data_Y['FLAG'] = pre_q2\n",
    "data_Y.iloc[:,-2:].to_csv('问题3.csv')\n",
    "\n",
    "# clf_RF = RandomForestClassifier()\n",
    "# clf_RF.fit(X_sos, y_sos)\n",
    "# pre_RF = clf_RF.predict(X_te)\n",
    "# # acc_te_RF = sum(pre_RF == Y_te)/len(pre_RF)\n",
    "# # print('RF测试集的准确率',acc_te_RF)\n",
    "# print('Accuracy of RF Classifier:', clf_RF.score(X_te, Y_te))\n",
    "# print(classification_report(Y_te, pre_RF, target_names=['0', '1']))\n",
    "# auc_score = roc_auc_score(Y_te,pre_RF)\n",
    "# print(auc_score)\n",
    "\n",
    "# clf_DT = DecisionTreeClassifier()\n",
    "# clf_DT.fit(X_sos, y_sos)\n",
    "# pre_DT = clf_DT.predict(X_te)\n",
    "# # acc_te_DT = sum(pre_DT == Y_te)/len(pre_DT)\n",
    "# # print('DT测试集的准确率',acc_te_DT)\n",
    "# print('Accuracy of DT Classifier:', clf_DT.score(X_te, Y_te))\n",
    "# print(classification_report(Y_te, pre_DT, target_names=['0', '1']))\n",
    "# auc_score = roc_auc_score(Y_te,pre_DT)\n",
    "# print(auc_score)\n",
    "\n",
    "# clf_LR = LogisticRegression()\n",
    "# clf_LR.fit(X_sos, y_sos)\n",
    "# pre_LR = clf_LR.predict(X_te)\n",
    "# # acc_te_LR = sum(pre_LR == Y_te)/len(pre_LR)\n",
    "# # print('LR测试集的准确率',acc_te_logistic)\n",
    "# print('Accuracy of LR Classifier:', clf_LR.score(X_te, Y_te))\n",
    "# print(classification_report(Y_te, pre_LR, target_names=['0', '1']))\n",
    "# auc_score = roc_auc_score(Y_te,pre_LR)\n",
    "# print(auc_score)\n",
    "\n",
    "clf_gdbt = GradientBoostingClassifier()\n",
    "clf_gdbt.fit(X_sos, y_sos)\n",
    "pre_gdbt = clf_gdbt.predict(X_te)\n",
    "# acc_te_gdbt = sum(pre_gdbt == Y_te)/len(pre_gdbt)\n",
    "# print('GBDT测试集的准确率',acc_te_gdbt)\n",
    "print('Accuracy of GBDT Classifier:', clf_gdbt.score(X_te, Y_te))\n",
    "print(classification_report(Y_te, pre_gdbt, target_names=['0', '1']))\n",
    "auc_score = roc_auc_score(Y_te,pre_gdbt)\n",
    "print(auc_score)\n",
    "\n",
    "# clf_xgb = XGBClassifier()\n",
    "# clf_xgb.fit(X_sos, y_sos)\n",
    "# pre_xgb = clf_xgb.predict(X_te)\n",
    "# # acc_te_xgb = sum(pre_xgb == Y_te)/len(pre_xgb)\n",
    "# # print('xgb测试集的准确率',acc_te_xgb)\n",
    "# print('Accuracy of xgb Classifier:', clf_xgb.score(X_te, Y_te))\n",
    "# print(classification_report(Y_te, pre_xgb, target_names=['0', '1']))\n",
    "# auc_score = roc_auc_score(Y_te,pre_xgb)\n",
    "# print(auc_score)\n",
    "# pre_q2 = clf_xgb.predict(data_Y.iloc[:,:-2])\n",
    "# data_Y['FLAG'] = pre_q2\n",
    "# data_Y.to_csv('问题2(1).csv')\n",
    "\n",
    "# clf_SVM = SVC()\n",
    "# clf_SVM.fit(X_sos, y_sos)\n",
    "# pre_SVM = clf_SVM.predict(X_te)\n",
    "# # acc_te_SVM  = sum(pre_SVM  == Y_te)/len(pre_SVM )\n",
    "# # print('SVM 测试集的准确率',acc_te_adaboost)\n",
    "# print('Accuracy of SVM Classifier:', clf_SVM.score(X_te, Y_te))\n",
    "# print(classification_report(Y_te, pre_SVM, target_names=['0', '1']))\n",
    "# auc_score = roc_auc_score(Y_te,pre_SVM)\n",
    "# print(auc_score)\n",
    "\n",
    "# lgb_train = lgb.Dataset(X_sos, y_sos)\n",
    "# lgb_eval = lgb.Dataset(X_te, Y_te, reference=lgb_train)\n",
    "# params = {\n",
    "#     'task': 'train',\n",
    "#     'boosting_type': 'gbdt',  # 设置提升类型\n",
    "#     'objective': 'regression',  # 目标函数\n",
    "#     'metric': {'l2', 'auc'},  # 评估函数\n",
    "#     'num_leaves': 31,  # 叶子节点数\n",
    "#     'learning_rate': 0.04,  # 学习速率\n",
    "#     'feature_fraction': 0.9,  # 建树的特征选择比例\n",
    "#     'bagging_fraction': 0.8,  # 建树的样本采样比例\n",
    "#     'bagging_freq': 5,  # k 意味着每 k 次迭代执行bagging\n",
    "#     'verbose': -1  # <0 显示致命的, =0 显示错误 (警告), >0 显示信息\n",
    "# }\n",
    "# gbm = lgb.train(params, lgb_train, num_boost_round=400, valid_sets=lgb_eval, early_stopping_rounds=200)\n",
    "# pre_gbm = gbm.predict(X_te, num_iteration=gbm.best_iteration)\n",
    "# a = []\n",
    "# for i in pre_gbm:\n",
    "#     if i<=0.5:\n",
    "#         a.append(0)\n",
    "#     else:\n",
    "#         a.append(1)\n",
    "# # acc_te_gbm = sum(a == Y_te)/len(pre_gbm)\n",
    "# # print('lightgbm的准确率',acc_te_gbm)\n",
    "# print('Accuracy of lgb Classifier:', gbm.score(X_te, Y_te))\n",
    "# print(classification_report(Y_te, a, target_names=['0', '1']))"
   ]
  },
  {
   "cell_type": "code",
   "execution_count": 17,
   "id": "novel-harvard",
   "metadata": {},
   "outputs": [
    {
     "data": {
      "text/plain": [
       "(1508, 30)"
      ]
     },
     "execution_count": 17,
     "metadata": {},
     "output_type": "execute_result"
    }
   ],
   "source": [
    "X_sos.shape"
   ]
  },
  {
   "cell_type": "code",
   "execution_count": 5,
   "id": "molecular-nomination",
   "metadata": {},
   "outputs": [
    {
     "name": "stdout",
     "output_type": "stream",
     "text": [
      "2.2.0\n"
     ]
    }
   ],
   "source": [
    "import tensorflow as tf\n",
    "from keras.models import Sequential\n",
    "from keras.layers import Dense\n",
    "from keras.optimizers import Adam\n",
    "import pandas as pd\n",
    "print(tf.__version__)\n",
    "\n",
    "\n",
    "\n"
   ]
  },
  {
   "cell_type": "code",
   "execution_count": 103,
   "id": "incorporated-massage",
   "metadata": {},
   "outputs": [],
   "source": [
    "model = Sequential()"
   ]
  },
  {
   "cell_type": "code",
   "execution_count": 107,
   "id": "romantic-clause",
   "metadata": {},
   "outputs": [],
   "source": [
    "model.add(Dense(10, input_shape=(30,), activation='relu'))"
   ]
  },
  {
   "cell_type": "code",
   "execution_count": 108,
   "id": "miniature-samuel",
   "metadata": {},
   "outputs": [
    {
     "name": "stdout",
     "output_type": "stream",
     "text": [
      "Model: \"sequential_18\"\n",
      "_________________________________________________________________\n",
      "Layer (type)                 Output Shape              Param #   \n",
      "=================================================================\n",
      "dense_82 (Dense)             (None, 9)                 279       \n",
      "_________________________________________________________________\n",
      "dense_83 (Dense)             (None, 8)                 80        \n",
      "_________________________________________________________________\n",
      "dense_84 (Dense)             (None, 4)                 36        \n",
      "_________________________________________________________________\n",
      "dense_85 (Dense)             (None, 2)                 10        \n",
      "_________________________________________________________________\n",
      "dense_86 (Dense)             (None, 10)                30        \n",
      "_________________________________________________________________\n",
      "dense_87 (Dense)             (None, 6)                 66        \n",
      "_________________________________________________________________\n",
      "dense_88 (Dense)             (None, 4)                 28        \n",
      "_________________________________________________________________\n",
      "dense_89 (Dense)             (None, 2)                 10        \n",
      "=================================================================\n",
      "Total params: 539\n",
      "Trainable params: 539\n",
      "Non-trainable params: 0\n",
      "_________________________________________________________________\n"
     ]
    }
   ],
   "source": [
    "model.add(Dense(6, activation='relu'))\n",
    "model.add(Dense(4, activation='relu'))\n",
    "model.add(Dense(2, activation='sigmoid'))\n",
    "model.compile(Adam(lr=0.04), 'categorical_crossentropy', metrics=['accuracy'])\n",
    "model.summary()"
   ]
  },
  {
   "cell_type": "code",
   "execution_count": 109,
   "id": "grand-charger",
   "metadata": {},
   "outputs": [
    {
     "name": "stdout",
     "output_type": "stream",
     "text": [
      "Epoch 1/20\n",
      "48/48 [==============================] - 0s 3ms/step - loss: 0.6948 - accuracy: 0.5066\n",
      "Epoch 2/20\n",
      "48/48 [==============================] - 0s 3ms/step - loss: 0.6934 - accuracy: 0.5027\n",
      "Epoch 3/20\n",
      "48/48 [==============================] - 0s 3ms/step - loss: 0.6933 - accuracy: 0.5027\n",
      "Epoch 4/20\n",
      "48/48 [==============================] - 0s 3ms/step - loss: 0.6939 - accuracy: 0.5080\n",
      "Epoch 5/20\n",
      "48/48 [==============================] - 0s 3ms/step - loss: 0.6925 - accuracy: 0.5146\n",
      "Epoch 6/20\n",
      "48/48 [==============================] - 0s 3ms/step - loss: 0.6952 - accuracy: 0.4907\n",
      "Epoch 7/20\n",
      "48/48 [==============================] - 0s 3ms/step - loss: 0.6938 - accuracy: 0.4920: 0s - loss: 0.6937 - accuracy: 0.\n",
      "Epoch 8/20\n",
      "48/48 [==============================] - 0s 3ms/step - loss: 0.6941 - accuracy: 0.4907\n",
      "Epoch 9/20\n",
      "48/48 [==============================] - 0s 3ms/step - loss: 0.6948 - accuracy: 0.4920\n",
      "Epoch 10/20\n",
      "48/48 [==============================] - 0s 3ms/step - loss: 0.6945 - accuracy: 0.4761\n",
      "Epoch 11/20\n",
      "48/48 [==============================] - 0s 3ms/step - loss: 0.6936 - accuracy: 0.4881\n",
      "Epoch 12/20\n",
      "48/48 [==============================] - 0s 3ms/step - loss: 0.6938 - accuracy: 0.4947\n",
      "Epoch 13/20\n",
      "48/48 [==============================] - 0s 3ms/step - loss: 0.6941 - accuracy: 0.4748\n",
      "Epoch 14/20\n",
      "48/48 [==============================] - 0s 3ms/step - loss: 0.6935 - accuracy: 0.4907\n",
      "Epoch 15/20\n",
      "48/48 [==============================] - 0s 3ms/step - loss: 0.6948 - accuracy: 0.4881\n",
      "Epoch 16/20\n",
      "48/48 [==============================] - 0s 3ms/step - loss: 0.6943 - accuracy: 0.4761\n",
      "Epoch 17/20\n",
      "48/48 [==============================] - 0s 3ms/step - loss: 0.6943 - accuracy: 0.4748\n",
      "Epoch 18/20\n",
      "48/48 [==============================] - 0s 3ms/step - loss: 0.6937 - accuracy: 0.4881\n",
      "Epoch 19/20\n",
      "48/48 [==============================] - 0s 3ms/step - loss: 0.6957 - accuracy: 0.4761\n",
      "Epoch 20/20\n",
      "48/48 [==============================] - 0s 3ms/step - loss: 0.6941 - accuracy: 0.4761\n"
     ]
    },
    {
     "data": {
      "text/html": [
       "<div>\n",
       "<style scoped>\n",
       "    .dataframe tbody tr th:only-of-type {\n",
       "        vertical-align: middle;\n",
       "    }\n",
       "\n",
       "    .dataframe tbody tr th {\n",
       "        vertical-align: top;\n",
       "    }\n",
       "\n",
       "    .dataframe thead th {\n",
       "        text-align: right;\n",
       "    }\n",
       "</style>\n",
       "<table border=\"1\" class=\"dataframe\">\n",
       "  <thead>\n",
       "    <tr style=\"text-align: right;\">\n",
       "      <th></th>\n",
       "      <th>pre</th>\n",
       "      <th>true</th>\n",
       "    </tr>\n",
       "  </thead>\n",
       "  <tbody>\n",
       "    <tr>\n",
       "      <th>1952</th>\n",
       "      <td>1</td>\n",
       "      <td>1</td>\n",
       "    </tr>\n",
       "    <tr>\n",
       "      <th>8775</th>\n",
       "      <td>1</td>\n",
       "      <td>1</td>\n",
       "    </tr>\n",
       "    <tr>\n",
       "      <th>5228</th>\n",
       "      <td>1</td>\n",
       "      <td>1</td>\n",
       "    </tr>\n",
       "    <tr>\n",
       "      <th>9702</th>\n",
       "      <td>1</td>\n",
       "      <td>1</td>\n",
       "    </tr>\n",
       "    <tr>\n",
       "      <th>9201</th>\n",
       "      <td>1</td>\n",
       "      <td>1</td>\n",
       "    </tr>\n",
       "    <tr>\n",
       "      <th>9353</th>\n",
       "      <td>1</td>\n",
       "      <td>1</td>\n",
       "    </tr>\n",
       "    <tr>\n",
       "      <th>2220</th>\n",
       "      <td>1</td>\n",
       "      <td>1</td>\n",
       "    </tr>\n",
       "    <tr>\n",
       "      <th>4093</th>\n",
       "      <td>1</td>\n",
       "      <td>1</td>\n",
       "    </tr>\n",
       "    <tr>\n",
       "      <th>7044</th>\n",
       "      <td>1</td>\n",
       "      <td>1</td>\n",
       "    </tr>\n",
       "    <tr>\n",
       "      <th>9606</th>\n",
       "      <td>1</td>\n",
       "      <td>1</td>\n",
       "    </tr>\n",
       "    <tr>\n",
       "      <th>3831</th>\n",
       "      <td>1</td>\n",
       "      <td>1</td>\n",
       "    </tr>\n",
       "    <tr>\n",
       "      <th>4903</th>\n",
       "      <td>1</td>\n",
       "      <td>1</td>\n",
       "    </tr>\n",
       "    <tr>\n",
       "      <th>3804</th>\n",
       "      <td>1</td>\n",
       "      <td>1</td>\n",
       "    </tr>\n",
       "    <tr>\n",
       "      <th>7145</th>\n",
       "      <td>1</td>\n",
       "      <td>1</td>\n",
       "    </tr>\n",
       "    <tr>\n",
       "      <th>7788</th>\n",
       "      <td>1</td>\n",
       "      <td>1</td>\n",
       "    </tr>\n",
       "    <tr>\n",
       "      <th>3881</th>\n",
       "      <td>1</td>\n",
       "      <td>1</td>\n",
       "    </tr>\n",
       "    <tr>\n",
       "      <th>7835</th>\n",
       "      <td>1</td>\n",
       "      <td>1</td>\n",
       "    </tr>\n",
       "    <tr>\n",
       "      <th>1224</th>\n",
       "      <td>1</td>\n",
       "      <td>1</td>\n",
       "    </tr>\n",
       "    <tr>\n",
       "      <th>9285</th>\n",
       "      <td>1</td>\n",
       "      <td>1</td>\n",
       "    </tr>\n",
       "    <tr>\n",
       "      <th>6495</th>\n",
       "      <td>1</td>\n",
       "      <td>1</td>\n",
       "    </tr>\n",
       "    <tr>\n",
       "      <th>6721</th>\n",
       "      <td>1</td>\n",
       "      <td>1</td>\n",
       "    </tr>\n",
       "    <tr>\n",
       "      <th>3280</th>\n",
       "      <td>1</td>\n",
       "      <td>1</td>\n",
       "    </tr>\n",
       "    <tr>\n",
       "      <th>9247</th>\n",
       "      <td>1</td>\n",
       "      <td>1</td>\n",
       "    </tr>\n",
       "    <tr>\n",
       "      <th>5430</th>\n",
       "      <td>1</td>\n",
       "      <td>1</td>\n",
       "    </tr>\n",
       "  </tbody>\n",
       "</table>\n",
       "</div>"
      ],
      "text/plain": [
       "      pre  true\n",
       "1952    1     1\n",
       "8775    1     1\n",
       "5228    1     1\n",
       "9702    1     1\n",
       "9201    1     1\n",
       "9353    1     1\n",
       "2220    1     1\n",
       "4093    1     1\n",
       "7044    1     1\n",
       "9606    1     1\n",
       "3831    1     1\n",
       "4903    1     1\n",
       "3804    1     1\n",
       "7145    1     1\n",
       "7788    1     1\n",
       "3881    1     1\n",
       "7835    1     1\n",
       "1224    1     1\n",
       "9285    1     1\n",
       "6495    1     1\n",
       "6721    1     1\n",
       "3280    1     1\n",
       "9247    1     1\n",
       "5430    1     1"
      ]
     },
     "execution_count": 109,
     "metadata": {},
     "output_type": "execute_result"
    }
   ],
   "source": [
    "Y = pd.get_dummies(y_sos).values\n",
    "model.fit(X_sos, Y, epochs=20)\n",
    "y_pred = model.predict(X_te)\n",
    "y_pred_class = np.argmax(y_pred, axis=1)  # 其实就是记录每个数组中值最大的数的index\n",
    "a = {'pre':y_pred_class,'true':Y_te}\n",
    "a = pd.DataFrame(a)\n",
    "a[a['true']==1]"
   ]
  },
  {
   "cell_type": "code",
   "execution_count": 110,
   "id": "worst-perfume",
   "metadata": {},
   "outputs": [
    {
     "data": {
      "text/html": [
       "<div>\n",
       "<style scoped>\n",
       "    .dataframe tbody tr th:only-of-type {\n",
       "        vertical-align: middle;\n",
       "    }\n",
       "\n",
       "    .dataframe tbody tr th {\n",
       "        vertical-align: top;\n",
       "    }\n",
       "\n",
       "    .dataframe thead th {\n",
       "        text-align: right;\n",
       "    }\n",
       "</style>\n",
       "<table border=\"1\" class=\"dataframe\">\n",
       "  <thead>\n",
       "    <tr style=\"text-align: right;\">\n",
       "      <th></th>\n",
       "      <th>pre</th>\n",
       "      <th>true</th>\n",
       "    </tr>\n",
       "  </thead>\n",
       "  <tbody>\n",
       "    <tr>\n",
       "      <th>137</th>\n",
       "      <td>1</td>\n",
       "      <td>0</td>\n",
       "    </tr>\n",
       "    <tr>\n",
       "      <th>9144</th>\n",
       "      <td>1</td>\n",
       "      <td>0</td>\n",
       "    </tr>\n",
       "    <tr>\n",
       "      <th>5893</th>\n",
       "      <td>1</td>\n",
       "      <td>0</td>\n",
       "    </tr>\n",
       "    <tr>\n",
       "      <th>277</th>\n",
       "      <td>1</td>\n",
       "      <td>0</td>\n",
       "    </tr>\n",
       "    <tr>\n",
       "      <th>1952</th>\n",
       "      <td>1</td>\n",
       "      <td>1</td>\n",
       "    </tr>\n",
       "    <tr>\n",
       "      <th>...</th>\n",
       "      <td>...</td>\n",
       "      <td>...</td>\n",
       "    </tr>\n",
       "    <tr>\n",
       "      <th>9735</th>\n",
       "      <td>1</td>\n",
       "      <td>0</td>\n",
       "    </tr>\n",
       "    <tr>\n",
       "      <th>8702</th>\n",
       "      <td>1</td>\n",
       "      <td>0</td>\n",
       "    </tr>\n",
       "    <tr>\n",
       "      <th>1638</th>\n",
       "      <td>1</td>\n",
       "      <td>0</td>\n",
       "    </tr>\n",
       "    <tr>\n",
       "      <th>9607</th>\n",
       "      <td>1</td>\n",
       "      <td>0</td>\n",
       "    </tr>\n",
       "    <tr>\n",
       "      <th>7334</th>\n",
       "      <td>1</td>\n",
       "      <td>0</td>\n",
       "    </tr>\n",
       "  </tbody>\n",
       "</table>\n",
       "<p>270 rows × 2 columns</p>\n",
       "</div>"
      ],
      "text/plain": [
       "      pre  true\n",
       "137     1     0\n",
       "9144    1     0\n",
       "5893    1     0\n",
       "277     1     0\n",
       "1952    1     1\n",
       "...   ...   ...\n",
       "9735    1     0\n",
       "8702    1     0\n",
       "1638    1     0\n",
       "9607    1     0\n",
       "7334    1     0\n",
       "\n",
       "[270 rows x 2 columns]"
      ]
     },
     "execution_count": 110,
     "metadata": {},
     "output_type": "execute_result"
    }
   ],
   "source": [
    "a"
   ]
  },
  {
   "cell_type": "code",
   "execution_count": 194,
   "id": "enclosed-farming",
   "metadata": {},
   "outputs": [
    {
     "name": "stdout",
     "output_type": "stream",
     "text": [
      "0.6654545454545454\n"
     ]
    }
   ],
   "source": [
    "clf = RandomForestClassifier(random_state=2,max_depth=None,n_estimators=120)\n",
    "clf.fit(X_sos, y_sos)\n",
    "pre = clf.predict(X_te)\n",
    "auc_score = roc_auc_score(Y_te,pre)\n",
    "print(auc_score)"
   ]
  },
  {
   "cell_type": "markdown",
   "id": "collaborative-ebony",
   "metadata": {},
   "source": [
    "# 未提取指标"
   ]
  },
  {
   "cell_type": "markdown",
   "id": "pointed-fight",
   "metadata": {},
   "source": [
    "## 采样"
   ]
  },
  {
   "cell_type": "code",
   "execution_count": 131,
   "id": "organizational-backing",
   "metadata": {},
   "outputs": [
    {
     "name": "stdout",
     "output_type": "stream",
     "text": [
      "[05:55:38] WARNING: C:/Users/Administrator/workspace/xgboost-win64_release_1.4.0/src/learner.cc:1095: Starting in XGBoost 1.3.0, the default evaluation metric used with the objective 'binary:logistic' was changed from 'error' to 'logloss'. Explicitly set eval_metric if you'd like to restore the old behavior.\n",
      "训练结束\n"
     ]
    },
    {
     "data": {
      "text/plain": [
       "<Figure size 432x288 with 0 Axes>"
      ]
     },
     "metadata": {},
     "output_type": "display_data"
    },
    {
     "data": {
      "image/png": "[encoded data removed]",
      "text/plain": [
       "<Figure size 720x720 with 1 Axes>"
      ]
     },
     "metadata": {
      "needs_background": "light"
     },
     "output_type": "display_data"
    }
   ],
   "source": [
    "import os\n",
    "import pandas as pd\n",
    "import numpy as np\n",
    "import matplotlib.pyplot as plt\n",
    "from sklearn.model_selection import train_test_split\n",
    "from imblearn.over_sampling import SMOTE   # SMOTE采样\n",
    "from collections import Counter\n",
    "from sklearn.ensemble import AdaBoostClassifier\n",
    "import warnings\n",
    "warnings.filterwarnings('ignore')\n",
    "warnings.simplefilter('ignore')\n",
    "\n",
    "os.getcwd()  # 'C:\\\\Users\\\\dell\\\\zhaoxuan'\n",
    "os.listdir()  # 列出所有文件\n",
    "\n",
    "filelist = os.listdir()\n",
    "\n",
    "csv_list = [x for x in filelist if 'csv' in x]\n",
    "# print(csv_list)\n",
    "# print(csv_list[0])\n",
    "\n",
    "data_rate = pd.read_csv(csv_list[4])\n",
    "data_X = data_rate[~data_rate['FLAG'].isnull()]\n",
    "data_Y = data_rate[data_rate['FLAG'].isnull()]\n",
    "data_X['FLAG'] = data_X['FLAG'].apply(lambda x :int(x))\n",
    "X_1 = data_X[data_X['FLAG']==1]\n",
    "X_0 = data_X[data_X['FLAG']==0]\n",
    "X_0 = X_0.append(X_1)\n",
    "X_tr, X_te, Y_tr, Y_te = train_test_split(X_0.iloc[:,12:-1],X_0.iloc[:,-1],test_size=0.25)   # 拆分训练集、测试集,12,134\n",
    "\n",
    "sos = SMOTE(random_state=0)  # SMOTE采样\n",
    "X_sos, y_sos = sos.fit_resample(X_tr, Y_tr)\n",
    "\n",
    "from sklearn.ensemble import RandomForestClassifier  # 随机森林\n",
    "import lightgbm as lgb # lightgbm\n",
    "from sklearn.ensemble import GradientBoostingClassifier # GBDT\n",
    "from sklearn.linear_model import LogisticRegression # 逻辑回归\n",
    "from sklearn.tree import DecisionTreeClassifier \n",
    "import xgboost\n",
    "from xgboost import XGBClassifier\n",
    "from sklearn import metrics\n",
    "from sklearn.metrics import classification_report\n",
    "from sklearn.metrics import roc_curve, auc\n",
    "from sklearn.svm import SVC\n",
    "\n",
    "clf_adaboost = AdaBoostClassifier(n_estimators=500, random_state=2,learning_rate=0.3)\n",
    "y_score_adaboost = clf_adaboost.fit(X_sos, y_sos).predict_proba(X_te)[:,1]\n",
    "pre_adaboost = clf_adaboost.predict(X_te)\n",
    "# acc_te_adaboost = sum(pre_adaboost == Y_te)/len(pre_adaboost)\n",
    "# print('adaboost测试集的准确率',acc_te_adaboost)\n",
    "# print('Accuracy of adaboost Classifier:', clf_adaboost.score(X_te, Y_te))\n",
    "# print(classification_report(Y_te, pre_adaboost, target_names=['0', '1']))\n",
    "fpr_adaboost,tpr_adaboost,thresholds_adaboost = metrics.roc_curve(Y_te, y_score_adaboost, pos_label=1)\n",
    "roc_auc_adaboost = metrics.auc(fpr_adaboost,tpr_adaboost)  # 计算auc的值\n",
    "\n",
    "clf_RF = RandomForestClassifier(max_depth=4, random_state=2,n_estimators=120)\n",
    "y_score_RF = clf_RF.fit(X_sos, y_sos).predict_proba(X_te)[:,1]\n",
    "pre_RF = clf_RF.predict(X_te)\n",
    "# acc_te_RF = sum(pre_RF == Y_te)/len(pre_RF)\n",
    "# print('RF测试集的准确率',acc_te_RF)\n",
    "# print('Accuracy of RF Classifier:', clf_RF.score(X_te, Y_te))\n",
    "# print(classification_report(Y_te, pre_RF, target_names=['0', '1']))\n",
    "fpr_RF,tpr_RF,thresholds_RF = metrics.roc_curve(Y_te, y_score_RF, pos_label=1)\n",
    "roc_auc_RF = metrics.auc(fpr_RF,tpr_RF)  # 计算auc的值\n",
    "\n",
    "clf_DT = DecisionTreeClassifier(random_state=2)\n",
    "y_score_DT = clf_DT.fit(X_sos, y_sos).predict_proba(X_te)[:,1]\n",
    "fpr_DT,tpr_DT,thresholds_DT = metrics.roc_curve(Y_te, y_score_DT, pos_label=1)\n",
    "roc_auc_DT = metrics.auc(fpr_DT,tpr_DT)  # 计算auc的值\n",
    "pre_DT = clf_DT.predict(X_te)\n",
    "# acc_te_DT = sum(pre_DT == Y_te)/len(pre_DT)\n",
    "# print('DT测试集的准确率',acc_te_DT)\n",
    "# print('Accuracy of DT Classifier:', clf_DT.score(X_te, Y_te))\n",
    "# print(classification_report(Y_te, pre_DT, target_names=['0', '1']))\n",
    "\n",
    "clf_LR = LogisticRegression(random_state=2)\n",
    "y_score_LR = clf_LR.fit(X_sos, y_sos).predict_proba(X_te)[:,1]\n",
    "pre_LR = clf_LR.predict(X_te)\n",
    "# acc_te_LR = sum(pre_LR == Y_te)/len(pre_LR)\n",
    "# print('LR测试集的准确率',acc_te_logistic)\n",
    "# print('Accuracy of LR Classifier:', clf_LR.score(X_te, Y_te))\n",
    "# print(classification_report(Y_te, pre_LR, target_names=['0', '1']))\n",
    "fpr_LR,tpr_LR,thresholds_LR = metrics.roc_curve(Y_te, y_score_LR, pos_label=1)\n",
    "roc_auc_LR = metrics.auc(fpr_LR,tpr_LR)  # 计算auc的值\n",
    "\n",
    "\n",
    "clf_gdbt = GradientBoostingClassifier(random_state=2)\n",
    "y_score_GBDT = clf_gdbt.fit(X_sos, y_sos).predict_proba(X_te)[:,1]\n",
    "pre_gdbt = clf_gdbt.predict(X_te)\n",
    "# acc_te_gdbt = sum(pre_gdbt == Y_te)/len(pre_gdbt)\n",
    "# print('GBDT测试集的准确率',acc_te_gdbt)\n",
    "# print('Accuracy of GBDT Classifier:', clf_gdbt.score(X_te, Y_te))\n",
    "# print(classification_report(Y_te, pre_gdbt, target_names=['0', '1']))\n",
    "fpr_GBDT,tpr_GBDT,thresholds_GBDT = metrics.roc_curve(Y_te, y_score_GBDT, pos_label=1)\n",
    "roc_auc_GBDT = metrics.auc(fpr_GBDT,tpr_GBDT)  # 计算auc的值\n",
    "\n",
    "clf_xgb = XGBClassifier(random_state=2)\n",
    "y_score_xgb = clf_xgb.fit(X_sos, y_sos).predict_proba(X_te)[:,1]\n",
    "pre_xgb = clf_xgb.predict(X_te)\n",
    "# acc_te_xgb = sum(pre_xgb == Y_te)/len(pre_xgb)\n",
    "# print('xgb测试集的准确率',acc_te_xgb)\n",
    "# print('Accuracy of xgb Classifier:', clf_xgb.score(X_te, Y_te))\n",
    "# print(classification_report(Y_te, pre_xgb, target_names=['0', '1']))\n",
    "fpr_xgb,tpr_xgb,thresholds_xgb = metrics.roc_curve(Y_te, y_score_xgb, pos_label=1)\n",
    "roc_auc_xgb = metrics.auc(fpr_xgb,tpr_xgb)  # 计算auc的值\n",
    "\n",
    "clf_svm = SVC(probability=True,random_state=2)\n",
    "y_score_svm=clf_svm.fit(X_sos,y_sos).predict_proba(X_te)[:,1]\n",
    "fpr_svm,tpr_svm,thresholds_svm = metrics.roc_curve(Y_te, y_score_svm, pos_label=1)\n",
    "roc_auc_svm = metrics.auc(fpr_svm,tpr_svm)  # 计算auc的值\n",
    "print('训练结束')\n",
    "# lgb_train = lgb.Dataset(X_sos, y_sos)\n",
    "# lgb_eval = lgb.Dataset(X_te, Y_te, reference=lgb_train)\n",
    "# params = {\n",
    "#     'task': 'train',\n",
    "#     'boosting_type': 'gbdt',  # 设置提升类型\n",
    "#     'objective': 'regression',  # 目标函数\n",
    "#     'metric': {'l2', 'auc'},  # 评估函数\n",
    "#     'num_leaves': 31,  # 叶子节点数\n",
    "#     'learning_rate': 0.04,  # 学习速率\n",
    "#     'feature_fraction': 0.9,  # 建树的特征选择比例\n",
    "#     'bagging_fraction': 0.8,  # 建树的样本采样比例\n",
    "#     'bagging_freq': 5,  # k 意味着每 k 次迭代执行bagging\n",
    "#     'verbose': -1  # <0 显示致命的, =0 显示错误 (警告), >0 显示信息\n",
    "# }\n",
    "# gbm = lgb.train(params, lgb_train, num_boost_round=400, valid_sets=lgb_eval, early_stopping_rounds=200)\n",
    "# pre_gbm = gbm.predict(X_te, num_iteration=gbm.best_iteration)\n",
    "# a = []\n",
    "# for i in pre_gbm:\n",
    "#     if i<=0.5:\n",
    "#         a.append(0)\n",
    "#     else:\n",
    "#         a.append(1)\n",
    "# # acc_te_gbm = sum(a == Y_te)/len(pre_gbm)\n",
    "# # print('lightgbm的准确率',acc_te_gbm)\n",
    "# print('Accuracy of lgb Classifier:', gbm.score(X_te, Y_te))\n",
    "# print(classification_report(Y_te, a, target_names=['0', '1']))\n",
    "\n",
    "\n",
    "\n",
    "\n",
    "# 绘制roc曲线\n",
    "plt.figure()\n",
    "lw = 2\n",
    "plt.figure(figsize=(10,10))\n",
    "\n",
    "plt.plot(fpr_adaboost, tpr_adaboost, color='darkorange',lw=lw,label='Adaboost ROC curve (area = %0.2f)' % roc_auc_adaboost)\n",
    "plt.plot(fpr_DT, tpr_DT, color='red',lw=lw,label='DT ROC curve (area = %0.2f)' % roc_auc_DT)\n",
    "plt.plot(fpr_RF, tpr_RF, color='blue',lw=lw,label='RF ROC curve (area = %0.2f)' % roc_auc_RF)\n",
    "plt.plot(fpr_LR, tpr_LR, color='yellow',lw=lw,label='LR ROC curve (area = %0.2f)' % roc_auc_LR)\n",
    "plt.plot(fpr_GBDT, tpr_GBDT, color='green',lw=lw,label='GBDT ROC curve (area = %0.2f)' % roc_auc_GBDT)\n",
    "plt.plot(fpr_xgb, tpr_xgb, color='pink',lw=lw,label='xgb ROC curve (area = %0.2f)' % roc_auc_xgb)\n",
    "plt.plot(fpr_svm, tpr_svm, color='black',lw=lw,label='svm ROC curve (area = %0.2f)' % roc_auc_svm)\n",
    "\n",
    "\n",
    "plt.plot([0, 1], [0, 1], color='navy', lw=lw, linestyle='--')\n",
    "plt.xlim([0.0,1.0])\n",
    "plt.ylim([0.0,1.05])\n",
    "plt.xlabel('False Positive Rate')\n",
    "plt.ylabel('True Positive Rate')\n",
    "plt.title('compare')\n",
    "plt.legend(loc=\"lower right\")\n",
    "plt.savefig('ROC的对比.png')\n",
    "plt.show()"
   ]
  },
  {
   "cell_type": "markdown",
   "id": "accepted-omega",
   "metadata": {},
   "source": [
    "## 未采样"
   ]
  },
  {
   "cell_type": "code",
   "execution_count": 11,
   "id": "editorial-disorder",
   "metadata": {},
   "outputs": [
    {
     "name": "stdout",
     "output_type": "stream",
     "text": [
      "['交通运输、仓储和邮政业清洗完成的数据.csv', '住宿和餐饮业清洗完成的数据.csv', '信息传输、软件和信息技术服务业清洗完成的数据.csv', '农、林、牧、渔业清洗完成的数据.csv', '制造业清洗完成的数据.csv', '卫生和社会工作清洗完成的数据.csv', '居民服务、修理和其他服务业清洗完成的数据.csv', '建筑业清洗完成的数据.csv', '房地产业清洗完成的数据.csv', '批发和零售业清洗完成的数据.csv', '教育清洗完成的数据.csv', '文化、体育和娱乐业清洗完成的数据.csv', '水利、环境和公共设施管理业清洗完成的数据.csv', '电力、热力、燃气及水生产和供应业清洗完成的数据.csv', '科学研究和技术服务业清洗完成的数据.csv', '租赁和商务服务业清洗完成的数据.csv', '综合清洗完成的数据.csv', '采矿业清洗完成的数据.csv', '金融业清洗完成的数据.csv']\n",
      "交通运输、仓储和邮政业清洗完成的数据.csv\n",
      "Accuracy of adaboost Classifier: 0.9919549477071601\n",
      "              precision    recall  f1-score   support\n",
      "\n",
      "           0       0.99      1.00      1.00      2468\n",
      "           1       0.00      0.00      0.00        18\n",
      "\n",
      "    accuracy                           0.99      2486\n",
      "   macro avg       0.50      0.50      0.50      2486\n",
      "weighted avg       0.99      0.99      0.99      2486\n",
      "\n",
      "Accuracy of RF Classifier: 0.9927594529364441\n",
      "              precision    recall  f1-score   support\n",
      "\n",
      "           0       0.99      1.00      1.00      2468\n",
      "           1       0.00      0.00      0.00        18\n",
      "\n",
      "    accuracy                           0.99      2486\n",
      "   macro avg       0.50      0.50      0.50      2486\n",
      "weighted avg       0.99      0.99      0.99      2486\n",
      "\n",
      "Accuracy of DT Classifier: 0.9823008849557522\n",
      "              precision    recall  f1-score   support\n",
      "\n",
      "           0       0.99      0.99      0.99      2468\n",
      "           1       0.00      0.00      0.00        18\n",
      "\n",
      "    accuracy                           0.98      2486\n",
      "   macro avg       0.50      0.49      0.50      2486\n",
      "weighted avg       0.99      0.98      0.98      2486\n",
      "\n",
      "Accuracy of LR Classifier: 0.9927594529364441\n",
      "              precision    recall  f1-score   support\n",
      "\n",
      "           0       0.99      1.00      1.00      2468\n",
      "           1       0.00      0.00      0.00        18\n",
      "\n",
      "    accuracy                           0.99      2486\n",
      "   macro avg       0.50      0.50      0.50      2486\n",
      "weighted avg       0.99      0.99      0.99      2486\n",
      "\n",
      "Accuracy of GBDT Classifier: 0.9827031375703942\n",
      "              precision    recall  f1-score   support\n",
      "\n",
      "           0       0.99      0.99      0.99      2468\n",
      "           1       0.00      0.00      0.00        18\n",
      "\n",
      "    accuracy                           0.98      2486\n",
      "   macro avg       0.50      0.49      0.50      2486\n",
      "weighted avg       0.99      0.98      0.98      2486\n",
      "\n",
      "[01:13:41] WARNING: C:/Users/Administrator/workspace/xgboost-win64_release_1.4.0/src/learner.cc:1095: Starting in XGBoost 1.3.0, the default evaluation metric used with the objective 'binary:logistic' was changed from 'error' to 'logloss'. Explicitly set eval_metric if you'd like to restore the old behavior.\n",
      "Accuracy of xgb Classifier: 0.9927594529364441\n",
      "              precision    recall  f1-score   support\n",
      "\n",
      "           0       0.99      1.00      1.00      2468\n",
      "           1       0.00      0.00      0.00        18\n",
      "\n",
      "    accuracy                           0.99      2486\n",
      "   macro avg       0.50      0.50      0.50      2486\n",
      "weighted avg       0.99      0.99      0.99      2486\n",
      "\n",
      "训练结束\n"
     ]
    },
    {
     "data": {
      "text/plain": [
       "<Figure size 432x288 with 0 Axes>"
      ]
     },
     "metadata": {},
     "output_type": "display_data"
    },
    {
     "data": {
      "image/png": "[encoded data removed]",
      "text/plain": [
       "<Figure size 720x720 with 1 Axes>"
      ]
     },
     "metadata": {
      "needs_background": "light"
     },
     "output_type": "display_data"
    }
   ],
   "source": [
    "import os\n",
    "import pandas as pd\n",
    "import numpy as np\n",
    "from sklearn.model_selection import train_test_split\n",
    "from imblearn.over_sampling import SMOTE   # SMOTE采样\n",
    "from collections import Counter\n",
    "from sklearn.ensemble import AdaBoostClassifier\n",
    "import warnings\n",
    "warnings.filterwarnings('ignore')\n",
    "warnings.simplefilter('ignore')\n",
    "\n",
    "os.getcwd()  # 'C:\\\\Users\\\\dell\\\\zhaoxuan'\n",
    "os.listdir()  # 列出所有文件\n",
    "\n",
    "filelist = os.listdir()\n",
    "\n",
    "csv_list = [x for x in filelist if 'csv' in x]\n",
    "print(csv_list)\n",
    "print(csv_list[0])\n",
    "\n",
    "data_rate = pd.read_csv(csv_list[4])\n",
    "data_X = data_rate[~data_rate['FLAG'].isnull()]\n",
    "data_Y = data_rate[data_rate['FLAG'].isnull()]\n",
    "data_X['FLAG'] = data_X['FLAG'].apply(lambda x :int(x))\n",
    "X_1 = data_X[data_X['FLAG']==1]\n",
    "X_0 = data_X[data_X['FLAG']==0]\n",
    "X_0 = X_0.append(X_1)\n",
    "X_tr, X_te, Y_tr, Y_te = train_test_split(X_0.iloc[:,12:-1],X_0.iloc[:,-1],test_size=0.25)   # 拆分训练集、测试集,12,134\n",
    "\n",
    "# sos = SMOTE(random_state=0)  # SMOTE采样\n",
    "X_sos, y_sos = X_tr, Y_tr\n",
    "\n",
    "from sklearn.ensemble import RandomForestClassifier  # 随机森林\n",
    "import lightgbm as lgb # lightgbm\n",
    "from sklearn.ensemble import GradientBoostingClassifier # GBDT\n",
    "from sklearn.linear_model import LogisticRegression # 逻辑回归\n",
    "from sklearn.tree import DecisionTreeClassifier \n",
    "import xgboost\n",
    "from xgboost import XGBClassifier\n",
    "from sklearn.metrics import classification_report\n",
    "from sklearn.metrics import roc_curve, auc\n",
    "\n",
    "clf_adaboost = AdaBoostClassifier(n_estimators=500, random_state=2,learning_rate=0.3)\n",
    "y_score_adaboost = clf_adaboost.fit(X_sos, y_sos).predict_proba(X_te)[:,1]\n",
    "pre_adaboost = clf_adaboost.predict(X_te)\n",
    "# acc_te_adaboost = sum(pre_adaboost == Y_te)/len(pre_adaboost)\n",
    "# print('adaboost测试集的准确率',acc_te_adaboost)\n",
    "print('Accuracy of adaboost Classifier:', clf_adaboost.score(X_te, Y_te))\n",
    "print(classification_report(Y_te, pre_adaboost, target_names=['0', '1']))\n",
    "fpr_adaboost,tpr_adaboost,thresholds_adaboost = metrics.roc_curve(Y_te, y_score_adaboost, pos_label=1)\n",
    "roc_auc_adaboost = metrics.auc(fpr_adaboost,tpr_adaboost)  # 计算auc的值\n",
    "\n",
    "clf_RF = RandomForestClassifier(max_depth=4, random_state=2)\n",
    "y_score_RF = clf_RF.fit(X_sos, y_sos).predict_proba(X_te)[:,1]\n",
    "pre_RF = clf_RF.predict(X_te)\n",
    "# acc_te_RF = sum(pre_RF == Y_te)/len(pre_RF)\n",
    "# print('RF测试集的准确率',acc_te_RF)\n",
    "print('Accuracy of RF Classifier:', clf_RF.score(X_te, Y_te))\n",
    "print(classification_report(Y_te, pre_RF, target_names=['0', '1']))\n",
    "fpr_RF,tpr_RF,thresholds_RF = metrics.roc_curve(Y_te, y_score_RF, pos_label=1)\n",
    "roc_auc_RF = metrics.auc(fpr_RF,tpr_RF)  # 计算auc的值\n",
    "\n",
    "clf_DT = DecisionTreeClassifier(random_state=2)\n",
    "y_score_DT = clf_DT.fit(X_sos, y_sos).predict_proba(X_te)[:,1]\n",
    "fpr_DT,tpr_DT,thresholds_DT = metrics.roc_curve(Y_te, y_score_DT, pos_label=1)\n",
    "roc_auc_DT = metrics.auc(fpr_DT,tpr_DT)  # 计算auc的值\n",
    "pre_DT = clf_DT.predict(X_te)\n",
    "# acc_te_DT = sum(pre_DT == Y_te)/len(pre_DT)\n",
    "# print('DT测试集的准确率',acc_te_DT)\n",
    "print('Accuracy of DT Classifier:', clf_DT.score(X_te, Y_te))\n",
    "print(classification_report(Y_te, pre_DT, target_names=['0', '1']))\n",
    "\n",
    "clf_LR = LogisticRegression(random_state=2)\n",
    "y_score_LR = clf_LR.fit(X_sos, y_sos).predict_proba(X_te)[:,1]\n",
    "pre_LR = clf_LR.predict(X_te)\n",
    "# acc_te_LR = sum(pre_LR == Y_te)/len(pre_LR)\n",
    "# print('LR测试集的准确率',acc_te_logistic)\n",
    "print('Accuracy of LR Classifier:', clf_LR.score(X_te, Y_te))\n",
    "print(classification_report(Y_te, pre_LR, target_names=['0', '1']))\n",
    "fpr_LR,tpr_LR,thresholds_LR = metrics.roc_curve(Y_te, y_score_LR, pos_label=1)\n",
    "roc_auc_LR = metrics.auc(fpr_LR,tpr_LR)  # 计算auc的值\n",
    "\n",
    "\n",
    "clf_gdbt = GradientBoostingClassifier(random_state=2)\n",
    "y_score_GBDT = clf_gdbt.fit(X_sos, y_sos).predict_proba(X_te)[:,1]\n",
    "pre_gdbt = clf_gdbt.predict(X_te)\n",
    "# acc_te_gdbt = sum(pre_gdbt == Y_te)/len(pre_gdbt)\n",
    "# print('GBDT测试集的准确率',acc_te_gdbt)\n",
    "print('Accuracy of GBDT Classifier:', clf_gdbt.score(X_te, Y_te))\n",
    "print(classification_report(Y_te, pre_gdbt, target_names=['0', '1']))\n",
    "fpr_GBDT,tpr_GBDT,thresholds_GBDT = metrics.roc_curve(Y_te, y_score_GBDT, pos_label=1)\n",
    "roc_auc_GBDT = metrics.auc(fpr_GBDT,tpr_GBDT)  # 计算auc的值\n",
    "\n",
    "clf_xgb = XGBClassifier(random_state=2)\n",
    "y_score_xgb = clf_xgb.fit(X_sos, y_sos).predict_proba(X_te)[:,1]\n",
    "pre_xgb = clf_xgb.predict(X_te)\n",
    "# acc_te_xgb = sum(pre_xgb == Y_te)/len(pre_xgb)\n",
    "# print('xgb测试集的准确率',acc_te_xgb)\n",
    "print('Accuracy of xgb Classifier:', clf_xgb.score(X_te, Y_te))\n",
    "print(classification_report(Y_te, pre_xgb, target_names=['0', '1']))\n",
    "fpr_xgb,tpr_xgb,thresholds_xgb = metrics.roc_curve(Y_te, y_score_xgb, pos_label=1)\n",
    "roc_auc_xgb = metrics.auc(fpr_xgb,tpr_xgb)  # 计算auc的值\n",
    "\n",
    "clf_svm = SVC(probability=True,random_state=2)\n",
    "y_score_svm=clf_svm.fit(X_sos,y_sos).predict_proba(X_te)[:,1]\n",
    "fpr_svm,tpr_svm,thresholds_svm = metrics.roc_curve(Y_te, y_score_svm, pos_label=1)\n",
    "roc_auc_svm = metrics.auc(fpr_svm,tpr_svm)  # 计算auc的值\n",
    "print('训练结束')\n",
    "# lgb_train = lgb.Dataset(X_sos, y_sos)\n",
    "# lgb_eval = lgb.Dataset(X_te, Y_te, reference=lgb_train)\n",
    "# params = {\n",
    "#     'task': 'train',\n",
    "#     'boosting_type': 'gbdt',  # 设置提升类型\n",
    "#     'objective': 'regression',  # 目标函数\n",
    "#     'metric': {'l2', 'auc'},  # 评估函数\n",
    "#     'num_leaves': 31,  # 叶子节点数\n",
    "#     'learning_rate': 0.04,  # 学习速率\n",
    "#     'feature_fraction': 0.9,  # 建树的特征选择比例\n",
    "#     'bagging_fraction': 0.8,  # 建树的样本采样比例\n",
    "#     'bagging_freq': 5,  # k 意味着每 k 次迭代执行bagging\n",
    "#     'verbose': -1  # <0 显示致命的, =0 显示错误 (警告), >0 显示信息\n",
    "# }\n",
    "# gbm = lgb.train(params, lgb_train, num_boost_round=400, valid_sets=lgb_eval, early_stopping_rounds=200)\n",
    "# pre_gbm = gbm.predict(X_te, num_iteration=gbm.best_iteration)\n",
    "# a = []\n",
    "# for i in pre_gbm:\n",
    "#     if i<=0.5:\n",
    "#         a.append(0)\n",
    "#     else:\n",
    "#         a.append(1)\n",
    "# # acc_te_gbm = sum(a == Y_te)/len(pre_gbm)\n",
    "# # print('lightgbm的准确率',acc_te_gbm)\n",
    "# print('Accuracy of lgb Classifier:', gbm.score(X_te, Y_te))\n",
    "# print(classification_report(Y_te, a, target_names=['0', '1']))\n",
    "\n",
    "\n",
    "\n",
    "\n",
    "# 绘制roc曲线\n",
    "plt.figure()\n",
    "lw = 2\n",
    "plt.figure(figsize=(10,10))\n",
    "\n",
    "plt.plot(fpr_adaboost, tpr_adaboost, color='darkorange',lw=lw,label='Adaboost ROC curve (area = %0.2f)' % roc_auc_adaboost)\n",
    "plt.plot(fpr_DT, tpr_DT, color='red',lw=lw,label='DT ROC curve (area = %0.2f)' % roc_auc_DT)\n",
    "plt.plot(fpr_RF, tpr_RF, color='blue',lw=lw,label='RF ROC curve (area = %0.2f)' % roc_auc_RF)\n",
    "plt.plot(fpr_LR, tpr_LR, color='yellow',lw=lw,label='LR ROC curve (area = %0.2f)' % roc_auc_LR)\n",
    "plt.plot(fpr_GBDT, tpr_GBDT, color='green',lw=lw,label='GBDT ROC curve (area = %0.2f)' % roc_auc_GBDT)\n",
    "plt.plot(fpr_xgb, tpr_xgb, color='pink',lw=lw,label='xgb ROC curve (area = %0.2f)' % roc_auc_xgb)\n",
    "plt.plot(fpr_svm, tpr_svm, color='black',lw=lw,label='svm ROC curve (area = %0.2f)' % roc_auc_svm)\n",
    "\n",
    "plt.plot([0, 1], [0, 1], color='navy', lw=lw, linestyle='--')\n",
    "plt.xlim([0.0,1.0])\n",
    "plt.ylim([0.0,1.05])\n",
    "plt.xlabel('False Positive Rate')\n",
    "plt.ylabel('True Positive Rate')\n",
    "plt.title('Compare')\n",
    "plt.legend(loc=\"lower right\")\n",
    "plt.savefig('ROC对比2.png')\n",
    "plt.show()"
   ]
  },
  {
   "cell_type": "markdown",
   "id": "valued-martial",
   "metadata": {},
   "source": [
    "## 训练+提取指标"
   ]
  },
  {
   "cell_type": "code",
   "execution_count": 15,
   "id": "academic-tower",
   "metadata": {},
   "outputs": [
    {
     "name": "stdout",
     "output_type": "stream",
     "text": [
      "Accuracy of adaboost Classifier: 0.9903459372485921\n",
      "              precision    recall  f1-score   support\n",
      "\n",
      "           0       0.99      1.00      1.00      2465\n",
      "           1       0.00      0.00      0.00        21\n",
      "\n",
      "    accuracy                           0.99      2486\n",
      "   macro avg       0.50      0.50      0.50      2486\n",
      "weighted avg       0.98      0.99      0.99      2486\n",
      "\n",
      "['PREPAYMENT', 'INCOME_TAX', 'CASH_C_EQUIV', 'ADMIN_EXP', 'T_REVENUE', 'T_CA', 'N_CE_BEG_BAL', 'C_OUTF_FR_INVEST_A', 'INVENTORIES', 'C_OUTF_FR_FINAN_A', 'RETAINED_EARNINGS', 'OTH_RECEIV', 'N_CF_OPERATE_A', 'REVENUE', 'DEFER_TAX_ASSETS', 'T_EQUITY_ATTR_P', 'N_CE_END_BAL', 'COGS', 'INVEST_INCOME', 'PAID_IN_CAPITAL', 'C_INF_FR_OPERATE_A', 'TAXES_PAYABLE', 'GOING_CONCERN_NI', 'T_SH_EQUITY', 'DILUTED_EPS', 'C_OUTF_OPERATE_A', 'N_INCOME', 'LT_EQUITY_INVEST', 'FIXED_ASSETS', 'ADVANCE_RECEIPTS', 'CIP', 'T_NCA', 'T_PROFIT', 'MINORITY_INT', 'INT_PAYABLE', 'OPERATE_PROFIT', 'T_NCL', 'OTH_PAYABLE', 'C_PAID_DIV_PROF_INT', 'DEFER_REVENUE']\n",
      "[01:27:37] WARNING: C:/Users/Administrator/workspace/xgboost-win64_release_1.4.0/src/learner.cc:1095: Starting in XGBoost 1.3.0, the default evaluation metric used with the objective 'binary:logistic' was changed from 'error' to 'logloss'. Explicitly set eval_metric if you'd like to restore the old behavior.\n"
     ]
    }
   ],
   "source": [
    "import os\n",
    "import pandas as pd\n",
    "import numpy as np\n",
    "from sklearn.model_selection import train_test_split\n",
    "from imblearn.over_sampling import SMOTE   # SMOTE采样\n",
    "from collections import Counter\n",
    "from sklearn.ensemble import AdaBoostClassifier\n",
    "import warnings\n",
    "warnings.filterwarnings('ignore')\n",
    "warnings.simplefilter('ignore')\n",
    "\n",
    "os.getcwd()  # 'C:\\\\Users\\\\dell\\\\zhaoxuan'\n",
    "os.listdir()  # 列出所有文件\n",
    "\n",
    "filelist = os.listdir()\n",
    "\n",
    "csv_list = [x for x in filelist if 'csv' in x]\n",
    "# print(csv_list)\n",
    "# print(csv_list[0])\n",
    "\n",
    "data_rate = pd.read_csv(csv_list[4])\n",
    "data_X = data_rate[~data_rate['FLAG'].isnull()]\n",
    "data_Y = data_rate[data_rate['FLAG'].isnull()]\n",
    "data_X['FLAG'] = data_X['FLAG'].apply(lambda x :int(x))\n",
    "X_1 = data_X[data_X['FLAG']==1]\n",
    "X_0 = data_X[data_X['FLAG']==0]\n",
    "X_0 = X_0.append(X_1)\n",
    "X_tr, X_te, Y_tr, Y_te = train_test_split(X_0.iloc[:,12:-1],X_0.iloc[:,-1],test_size=0.25)   # 拆分训练集、测试集,12,134\n",
    "\n",
    "# sos = SMOTE(random_state=0)  # SMOTE采样\n",
    "X_sos, y_sos = X_tr, Y_tr\n",
    "\n",
    "from sklearn.ensemble import RandomForestClassifier  # 随机森林\n",
    "import lightgbm as lgb # lightgbm\n",
    "from sklearn.ensemble import GradientBoostingClassifier # GBDT\n",
    "from sklearn.linear_model import LogisticRegression # 逻辑回归\n",
    "from sklearn.tree import DecisionTreeClassifier \n",
    "import xgboost\n",
    "from xgboost import XGBClassifier\n",
    "from sklearn.metrics import classification_report\n",
    "from sklearn.metrics import roc_curve, auc\n",
    "\n",
    "clf_adaboost = AdaBoostClassifier(n_estimators=500, random_state=2,learning_rate=0.3)\n",
    "y_score_adaboost = clf_adaboost.fit(X_sos, y_sos).predict_proba(X_te)[:,1]\n",
    "pre_adaboost = clf_adaboost.predict(X_te)\n",
    "# acc_te_adaboost = sum(pre_adaboost == Y_te)/len(pre_adaboost)\n",
    "# print('adaboost测试集的准确率',acc_te_adaboost)\n",
    "# print('Accuracy of adaboost Classifier:', clf_adaboost.score(X_te, Y_te))\n",
    "# print(classification_report(Y_te, pre_adaboost, target_names=['0', '1']))\n",
    "fpr_adaboost,tpr_adaboost,thresholds_adaboost = metrics.roc_curve(Y_te, y_score_adaboost, pos_label=1)\n",
    "roc_auc_adaboost = metrics.auc(fpr_adaboost,tpr_adaboost)  # 计算auc的值\n",
    "\n",
    "clf_RF = RandomForestClassifier(max_depth=4, random_state=2)\n",
    "y_score_RF = clf_RF.fit(X_sos, y_sos).predict_proba(X_te)[:,1]\n",
    "pre_RF = clf_RF.predict(X_te)\n",
    "# acc_te_RF = sum(pre_RF == Y_te)/len(pre_RF)\n",
    "# print('RF测试集的准确率',acc_te_RF)\n",
    "# print('Accuracy of RF Classifier:', clf_RF.score(X_te, Y_te))\n",
    "# print(classification_report(Y_te, pre_RF, target_names=['0', '1']))\n",
    "fpr_RF,tpr_RF,thresholds_RF = metrics.roc_curve(Y_te, y_score_RF, pos_label=1)\n",
    "roc_auc_RF = metrics.auc(fpr_RF,tpr_RF)  # 计算auc的值\n",
    "clf_RF.feature_importances_\n",
    "RF_features = []\n",
    "indices = np.argsort(clf_RF.feature_importances_)[::-1]\n",
    "for i in X_tr.columns.values[:][indices][:40]:\n",
    "    RF_features.append(i)\n",
    "print(RF_features)\n",
    "\n",
    "\n",
    "clf_gdbt = GradientBoostingClassifier(random_state=2)\n",
    "y_score_GBDT = clf_gdbt.fit(X_sos, y_sos).predict_proba(X_te)[:,1]\n",
    "pre_gdbt = clf_gdbt.predict(X_te)\n",
    "# acc_te_gdbt = sum(pre_gdbt == Y_te)/len(pre_gdbt)\n",
    "# print('GBDT测试集的准确率',acc_te_gdbt)\n",
    "# print('Accuracy of GBDT Classifier:', clf_gdbt.score(X_te, Y_te))\n",
    "# print(classification_report(Y_te, pre_gdbt, target_names=['0', '1']))\n",
    "fpr_GBDT,tpr_GBDT,thresholds_GBDT = metrics.roc_curve(Y_te, y_score_GBDT, pos_label=1)\n",
    "roc_auc_GBDT = metrics.auc(fpr_GBDT,tpr_GBDT)  # 计算auc的值\n",
    "\n",
    "clf_xgb = XGBClassifier(random_state=2)\n",
    "y_score_xgb = clf_xgb.fit(X_sos, y_sos).predict_proba(X_te)[:,1]\n",
    "pre_xgb = clf_xgb.predict(X_te)\n",
    "# acc_te_xgb = sum(pre_xgb == Y_te)/len(pre_xgb)\n",
    "# print('xgb测试集的准确率',acc_te_xgb)\n",
    "# print('Accuracy of xgb Classifier:', clf_xgb.score(X_te, Y_te))\n",
    "# print(classification_report(Y_te, pre_xgb, target_names=['0', '1']))\n",
    "fpr_xgb,tpr_xgb,thresholds_xgb = metrics.roc_curve(Y_te, y_score_xgb, pos_label=1)\n",
    "roc_auc_xgb = metrics.auc(fpr_xgb,tpr_xgb)  # 计算auc的值"
   ]
  },
  {
   "cell_type": "markdown",
   "id": "visible-shore",
   "metadata": {},
   "source": [
    "# 调参"
   ]
  },
  {
   "cell_type": "markdown",
   "id": "understanding-seeker",
   "metadata": {},
   "source": [
    "## Adaboost调参"
   ]
  },
  {
   "cell_type": "code",
   "execution_count": 2,
   "id": "lonely-constant",
   "metadata": {},
   "outputs": [
    {
     "ename": "ValueError",
     "evalue": "Input contains NaN, infinity or a value too large for dtype('float64').",
     "output_type": "error",
     "traceback": [
      "\u001b[1;31m---------------------------------------------------------------------------\u001b[0m",
      "\u001b[1;31mValueError\u001b[0m                                Traceback (most recent call last)",
      "\u001b[1;32m<ipython-input-2-9af47af6ac2d>\u001b[0m in \u001b[0;36m<module>\u001b[1;34m\u001b[0m\n\u001b[0;32m     25\u001b[0m \u001b[1;33m\u001b[0m\u001b[0m\n\u001b[0;32m     26\u001b[0m \u001b[0mkos\u001b[0m \u001b[1;33m=\u001b[0m \u001b[0mSMOTETomek\u001b[0m\u001b[1;33m(\u001b[0m\u001b[0mrandom_state\u001b[0m\u001b[1;33m=\u001b[0m\u001b[1;36m0\u001b[0m\u001b[1;33m)\u001b[0m  \u001b[1;31m# 综合采样\u001b[0m\u001b[1;33m\u001b[0m\u001b[1;33m\u001b[0m\u001b[0m\n\u001b[1;32m---> 27\u001b[1;33m \u001b[0mX_kos\u001b[0m\u001b[1;33m,\u001b[0m \u001b[0my_kos\u001b[0m \u001b[1;33m=\u001b[0m \u001b[0mkos\u001b[0m\u001b[1;33m.\u001b[0m\u001b[0mfit_resample\u001b[0m\u001b[1;33m(\u001b[0m\u001b[0mX_tr\u001b[0m\u001b[1;33m,\u001b[0m \u001b[0mY_tr\u001b[0m\u001b[1;33m)\u001b[0m\u001b[1;33m\u001b[0m\u001b[1;33m\u001b[0m\u001b[0m\n\u001b[0m\u001b[0;32m     28\u001b[0m \u001b[1;33m\u001b[0m\u001b[0m\n\u001b[0;32m     29\u001b[0m \u001b[0mclf\u001b[0m \u001b[1;33m=\u001b[0m \u001b[0mAdaBoostClassifier\u001b[0m\u001b[1;33m(\u001b[0m\u001b[1;33m)\u001b[0m\u001b[1;33m\u001b[0m\u001b[1;33m\u001b[0m\u001b[0m\n",
      "\u001b[1;32mF:\\software\\anaconda\\lib\\site-packages\\imblearn\\base.py\u001b[0m in \u001b[0;36mfit_resample\u001b[1;34m(self, X, y)\u001b[0m\n\u001b[0;32m     75\u001b[0m         \u001b[0mcheck_classification_targets\u001b[0m\u001b[1;33m(\u001b[0m\u001b[0my\u001b[0m\u001b[1;33m)\u001b[0m\u001b[1;33m\u001b[0m\u001b[1;33m\u001b[0m\u001b[0m\n\u001b[0;32m     76\u001b[0m         \u001b[0marrays_transformer\u001b[0m \u001b[1;33m=\u001b[0m \u001b[0mArraysTransformer\u001b[0m\u001b[1;33m(\u001b[0m\u001b[0mX\u001b[0m\u001b[1;33m,\u001b[0m \u001b[0my\u001b[0m\u001b[1;33m)\u001b[0m\u001b[1;33m\u001b[0m\u001b[1;33m\u001b[0m\u001b[0m\n\u001b[1;32m---> 77\u001b[1;33m         \u001b[0mX\u001b[0m\u001b[1;33m,\u001b[0m \u001b[0my\u001b[0m\u001b[1;33m,\u001b[0m \u001b[0mbinarize_y\u001b[0m \u001b[1;33m=\u001b[0m \u001b[0mself\u001b[0m\u001b[1;33m.\u001b[0m\u001b[0m_check_X_y\u001b[0m\u001b[1;33m(\u001b[0m\u001b[0mX\u001b[0m\u001b[1;33m,\u001b[0m \u001b[0my\u001b[0m\u001b[1;33m)\u001b[0m\u001b[1;33m\u001b[0m\u001b[1;33m\u001b[0m\u001b[0m\n\u001b[0m\u001b[0;32m     78\u001b[0m \u001b[1;33m\u001b[0m\u001b[0m\n\u001b[0;32m     79\u001b[0m         self.sampling_strategy_ = check_sampling_strategy(\n",
      "\u001b[1;32mF:\\software\\anaconda\\lib\\site-packages\\imblearn\\base.py\u001b[0m in \u001b[0;36m_check_X_y\u001b[1;34m(self, X, y, accept_sparse)\u001b[0m\n\u001b[0;32m    128\u001b[0m             \u001b[0maccept_sparse\u001b[0m \u001b[1;33m=\u001b[0m \u001b[1;33m[\u001b[0m\u001b[1;34m\"csr\"\u001b[0m\u001b[1;33m,\u001b[0m \u001b[1;34m\"csc\"\u001b[0m\u001b[1;33m]\u001b[0m\u001b[1;33m\u001b[0m\u001b[1;33m\u001b[0m\u001b[0m\n\u001b[0;32m    129\u001b[0m         \u001b[0my\u001b[0m\u001b[1;33m,\u001b[0m \u001b[0mbinarize_y\u001b[0m \u001b[1;33m=\u001b[0m \u001b[0mcheck_target_type\u001b[0m\u001b[1;33m(\u001b[0m\u001b[0my\u001b[0m\u001b[1;33m,\u001b[0m \u001b[0mindicate_one_vs_all\u001b[0m\u001b[1;33m=\u001b[0m\u001b[1;32mTrue\u001b[0m\u001b[1;33m)\u001b[0m\u001b[1;33m\u001b[0m\u001b[1;33m\u001b[0m\u001b[0m\n\u001b[1;32m--> 130\u001b[1;33m         \u001b[0mX\u001b[0m\u001b[1;33m,\u001b[0m \u001b[0my\u001b[0m \u001b[1;33m=\u001b[0m \u001b[0mself\u001b[0m\u001b[1;33m.\u001b[0m\u001b[0m_validate_data\u001b[0m\u001b[1;33m(\u001b[0m\u001b[0mX\u001b[0m\u001b[1;33m,\u001b[0m \u001b[0my\u001b[0m\u001b[1;33m,\u001b[0m \u001b[0mreset\u001b[0m\u001b[1;33m=\u001b[0m\u001b[1;32mTrue\u001b[0m\u001b[1;33m,\u001b[0m \u001b[0maccept_sparse\u001b[0m\u001b[1;33m=\u001b[0m\u001b[0maccept_sparse\u001b[0m\u001b[1;33m)\u001b[0m\u001b[1;33m\u001b[0m\u001b[1;33m\u001b[0m\u001b[0m\n\u001b[0m\u001b[0;32m    131\u001b[0m         \u001b[1;32mreturn\u001b[0m \u001b[0mX\u001b[0m\u001b[1;33m,\u001b[0m \u001b[0my\u001b[0m\u001b[1;33m,\u001b[0m \u001b[0mbinarize_y\u001b[0m\u001b[1;33m\u001b[0m\u001b[1;33m\u001b[0m\u001b[0m\n\u001b[0;32m    132\u001b[0m \u001b[1;33m\u001b[0m\u001b[0m\n",
      "\u001b[1;32mF:\\software\\anaconda\\lib\\site-packages\\sklearn\\base.py\u001b[0m in \u001b[0;36m_validate_data\u001b[1;34m(self, X, y, reset, validate_separately, **check_params)\u001b[0m\n\u001b[0;32m    431\u001b[0m                 \u001b[0my\u001b[0m \u001b[1;33m=\u001b[0m \u001b[0mcheck_array\u001b[0m\u001b[1;33m(\u001b[0m\u001b[0my\u001b[0m\u001b[1;33m,\u001b[0m \u001b[1;33m**\u001b[0m\u001b[0mcheck_y_params\u001b[0m\u001b[1;33m)\u001b[0m\u001b[1;33m\u001b[0m\u001b[1;33m\u001b[0m\u001b[0m\n\u001b[0;32m    432\u001b[0m             \u001b[1;32melse\u001b[0m\u001b[1;33m:\u001b[0m\u001b[1;33m\u001b[0m\u001b[1;33m\u001b[0m\u001b[0m\n\u001b[1;32m--> 433\u001b[1;33m                 \u001b[0mX\u001b[0m\u001b[1;33m,\u001b[0m \u001b[0my\u001b[0m \u001b[1;33m=\u001b[0m \u001b[0mcheck_X_y\u001b[0m\u001b[1;33m(\u001b[0m\u001b[0mX\u001b[0m\u001b[1;33m,\u001b[0m \u001b[0my\u001b[0m\u001b[1;33m,\u001b[0m \u001b[1;33m**\u001b[0m\u001b[0mcheck_params\u001b[0m\u001b[1;33m)\u001b[0m\u001b[1;33m\u001b[0m\u001b[1;33m\u001b[0m\u001b[0m\n\u001b[0m\u001b[0;32m    434\u001b[0m             \u001b[0mout\u001b[0m \u001b[1;33m=\u001b[0m \u001b[0mX\u001b[0m\u001b[1;33m,\u001b[0m \u001b[0my\u001b[0m\u001b[1;33m\u001b[0m\u001b[1;33m\u001b[0m\u001b[0m\n\u001b[0;32m    435\u001b[0m \u001b[1;33m\u001b[0m\u001b[0m\n",
      "\u001b[1;32mF:\\software\\anaconda\\lib\\site-packages\\sklearn\\utils\\validation.py\u001b[0m in \u001b[0;36minner_f\u001b[1;34m(*args, **kwargs)\u001b[0m\n\u001b[0;32m     61\u001b[0m             \u001b[0mextra_args\u001b[0m \u001b[1;33m=\u001b[0m \u001b[0mlen\u001b[0m\u001b[1;33m(\u001b[0m\u001b[0margs\u001b[0m\u001b[1;33m)\u001b[0m \u001b[1;33m-\u001b[0m \u001b[0mlen\u001b[0m\u001b[1;33m(\u001b[0m\u001b[0mall_args\u001b[0m\u001b[1;33m)\u001b[0m\u001b[1;33m\u001b[0m\u001b[1;33m\u001b[0m\u001b[0m\n\u001b[0;32m     62\u001b[0m             \u001b[1;32mif\u001b[0m \u001b[0mextra_args\u001b[0m \u001b[1;33m<=\u001b[0m \u001b[1;36m0\u001b[0m\u001b[1;33m:\u001b[0m\u001b[1;33m\u001b[0m\u001b[1;33m\u001b[0m\u001b[0m\n\u001b[1;32m---> 63\u001b[1;33m                 \u001b[1;32mreturn\u001b[0m \u001b[0mf\u001b[0m\u001b[1;33m(\u001b[0m\u001b[1;33m*\u001b[0m\u001b[0margs\u001b[0m\u001b[1;33m,\u001b[0m \u001b[1;33m**\u001b[0m\u001b[0mkwargs\u001b[0m\u001b[1;33m)\u001b[0m\u001b[1;33m\u001b[0m\u001b[1;33m\u001b[0m\u001b[0m\n\u001b[0m\u001b[0;32m     64\u001b[0m \u001b[1;33m\u001b[0m\u001b[0m\n\u001b[0;32m     65\u001b[0m             \u001b[1;31m# extra_args > 0\u001b[0m\u001b[1;33m\u001b[0m\u001b[1;33m\u001b[0m\u001b[1;33m\u001b[0m\u001b[0m\n",
      "\u001b[1;32mF:\\software\\anaconda\\lib\\site-packages\\sklearn\\utils\\validation.py\u001b[0m in \u001b[0;36mcheck_X_y\u001b[1;34m(X, y, accept_sparse, accept_large_sparse, dtype, order, copy, force_all_finite, ensure_2d, allow_nd, multi_output, ensure_min_samples, ensure_min_features, y_numeric, estimator)\u001b[0m\n\u001b[0;32m    812\u001b[0m         \u001b[1;32mraise\u001b[0m \u001b[0mValueError\u001b[0m\u001b[1;33m(\u001b[0m\u001b[1;34m\"y cannot be None\"\u001b[0m\u001b[1;33m)\u001b[0m\u001b[1;33m\u001b[0m\u001b[1;33m\u001b[0m\u001b[0m\n\u001b[0;32m    813\u001b[0m \u001b[1;33m\u001b[0m\u001b[0m\n\u001b[1;32m--> 814\u001b[1;33m     X = check_array(X, accept_sparse=accept_sparse,\n\u001b[0m\u001b[0;32m    815\u001b[0m                     \u001b[0maccept_large_sparse\u001b[0m\u001b[1;33m=\u001b[0m\u001b[0maccept_large_sparse\u001b[0m\u001b[1;33m,\u001b[0m\u001b[1;33m\u001b[0m\u001b[1;33m\u001b[0m\u001b[0m\n\u001b[0;32m    816\u001b[0m                     \u001b[0mdtype\u001b[0m\u001b[1;33m=\u001b[0m\u001b[0mdtype\u001b[0m\u001b[1;33m,\u001b[0m \u001b[0morder\u001b[0m\u001b[1;33m=\u001b[0m\u001b[0morder\u001b[0m\u001b[1;33m,\u001b[0m \u001b[0mcopy\u001b[0m\u001b[1;33m=\u001b[0m\u001b[0mcopy\u001b[0m\u001b[1;33m,\u001b[0m\u001b[1;33m\u001b[0m\u001b[1;33m\u001b[0m\u001b[0m\n",
      "\u001b[1;32mF:\\software\\anaconda\\lib\\site-packages\\sklearn\\utils\\validation.py\u001b[0m in \u001b[0;36minner_f\u001b[1;34m(*args, **kwargs)\u001b[0m\n\u001b[0;32m     61\u001b[0m             \u001b[0mextra_args\u001b[0m \u001b[1;33m=\u001b[0m \u001b[0mlen\u001b[0m\u001b[1;33m(\u001b[0m\u001b[0margs\u001b[0m\u001b[1;33m)\u001b[0m \u001b[1;33m-\u001b[0m \u001b[0mlen\u001b[0m\u001b[1;33m(\u001b[0m\u001b[0mall_args\u001b[0m\u001b[1;33m)\u001b[0m\u001b[1;33m\u001b[0m\u001b[1;33m\u001b[0m\u001b[0m\n\u001b[0;32m     62\u001b[0m             \u001b[1;32mif\u001b[0m \u001b[0mextra_args\u001b[0m \u001b[1;33m<=\u001b[0m \u001b[1;36m0\u001b[0m\u001b[1;33m:\u001b[0m\u001b[1;33m\u001b[0m\u001b[1;33m\u001b[0m\u001b[0m\n\u001b[1;32m---> 63\u001b[1;33m                 \u001b[1;32mreturn\u001b[0m \u001b[0mf\u001b[0m\u001b[1;33m(\u001b[0m\u001b[1;33m*\u001b[0m\u001b[0margs\u001b[0m\u001b[1;33m,\u001b[0m \u001b[1;33m**\u001b[0m\u001b[0mkwargs\u001b[0m\u001b[1;33m)\u001b[0m\u001b[1;33m\u001b[0m\u001b[1;33m\u001b[0m\u001b[0m\n\u001b[0m\u001b[0;32m     64\u001b[0m \u001b[1;33m\u001b[0m\u001b[0m\n\u001b[0;32m     65\u001b[0m             \u001b[1;31m# extra_args > 0\u001b[0m\u001b[1;33m\u001b[0m\u001b[1;33m\u001b[0m\u001b[1;33m\u001b[0m\u001b[0m\n",
      "\u001b[1;32mF:\\software\\anaconda\\lib\\site-packages\\sklearn\\utils\\validation.py\u001b[0m in \u001b[0;36mcheck_array\u001b[1;34m(array, accept_sparse, accept_large_sparse, dtype, order, copy, force_all_finite, ensure_2d, allow_nd, ensure_min_samples, ensure_min_features, estimator)\u001b[0m\n\u001b[0;32m    661\u001b[0m \u001b[1;33m\u001b[0m\u001b[0m\n\u001b[0;32m    662\u001b[0m         \u001b[1;32mif\u001b[0m \u001b[0mforce_all_finite\u001b[0m\u001b[1;33m:\u001b[0m\u001b[1;33m\u001b[0m\u001b[1;33m\u001b[0m\u001b[0m\n\u001b[1;32m--> 663\u001b[1;33m             _assert_all_finite(array,\n\u001b[0m\u001b[0;32m    664\u001b[0m                                allow_nan=force_all_finite == 'allow-nan')\n\u001b[0;32m    665\u001b[0m \u001b[1;33m\u001b[0m\u001b[0m\n",
      "\u001b[1;32mF:\\software\\anaconda\\lib\\site-packages\\sklearn\\utils\\validation.py\u001b[0m in \u001b[0;36m_assert_all_finite\u001b[1;34m(X, allow_nan, msg_dtype)\u001b[0m\n\u001b[0;32m    101\u001b[0m                 not allow_nan and not np.isfinite(X).all()):\n\u001b[0;32m    102\u001b[0m             \u001b[0mtype_err\u001b[0m \u001b[1;33m=\u001b[0m \u001b[1;34m'infinity'\u001b[0m \u001b[1;32mif\u001b[0m \u001b[0mallow_nan\u001b[0m \u001b[1;32melse\u001b[0m \u001b[1;34m'NaN, infinity'\u001b[0m\u001b[1;33m\u001b[0m\u001b[1;33m\u001b[0m\u001b[0m\n\u001b[1;32m--> 103\u001b[1;33m             raise ValueError(\n\u001b[0m\u001b[0;32m    104\u001b[0m                     \u001b[0mmsg_err\u001b[0m\u001b[1;33m.\u001b[0m\u001b[0mformat\u001b[0m\u001b[1;33m\u001b[0m\u001b[1;33m\u001b[0m\u001b[0m\n\u001b[0;32m    105\u001b[0m                     (type_err,\n",
      "\u001b[1;31mValueError\u001b[0m: Input contains NaN, infinity or a value too large for dtype('float64')."
     ]
    }
   ],
   "source": [
    "import os\n",
    "import pandas as pd\n",
    "from sklearn.ensemble import AdaBoostClassifier\n",
    "import warnings\n",
    "warnings.filterwarnings('ignore')\n",
    "warnings.simplefilter('ignore')\n",
    "from sklearn.metrics import roc_auc_score\n",
    "from sklearn.model_selection import train_test_split\n",
    "from imblearn.over_sampling import SMOTE   # SMOTE采样\n",
    "from imblearn.combine import SMOTETomek   # 综合采样\n",
    "from collections import Counter\n",
    "\n",
    "filelist = os.listdir()\n",
    "csv_list = [x for x in filelist if 'csv' in x]\n",
    "data_rate = pd.read_csv(csv_list[4])\n",
    "data_X = data_rate[~data_rate['FLAG'].isnull()]\n",
    "data_Y = data_rate[data_rate['FLAG'].isnull()]\n",
    "data_X['FLAG'] = data_X['FLAG'].apply(lambda x :int(x))\n",
    "X_1 = data_X[data_X['FLAG']==1]\n",
    "X_0 = data_X[data_X['FLAG']==0].head(240) # .head(240)\n",
    "X_0 = X_0.append(X_1)\n",
    "\n",
    "\n",
    "X_tr, X_te, Y_tr, Y_te = train_test_split(X_0.iloc[:,12:-1],X_0.iloc[:,-1],random_state=1,test_size=0.3)   # 拆分训练集、测试集\n",
    "\n",
    "kos = SMOTETomek(random_state=0)  # 综合采样\n",
    "X_kos, y_kos = kos.fit_resample(X_tr, Y_tr)\n",
    "\n",
    "clf = AdaBoostClassifier()\n",
    "clf.fit(X_tr, Y_tr)\n",
    "pre = clf.predict(X_te)\n",
    "auc_score = roc_auc_score(Y_te,pre)\n",
    "print(auc_score)"
   ]
  },
  {
   "cell_type": "markdown",
   "id": "velvet-poison",
   "metadata": {},
   "source": [
    "### learning_rate"
   ]
  },
  {
   "cell_type": "code",
   "execution_count": 155,
   "id": "polished-vector",
   "metadata": {},
   "outputs": [
    {
     "name": "stdout",
     "output_type": "stream",
     "text": [
      "0.4642857142857143\n"
     ]
    }
   ],
   "source": [
    "clf = AdaBoostClassifier(n_estimators=400, random_state=2,learning_rate=0.3)\n",
    "clf.fit(X_kos, y_kos)\n",
    "pre = clf.predict(X_te)\n",
    "auc_score = roc_auc_score(Y_te,pre)\n",
    "print(auc_score)"
   ]
  },
  {
   "cell_type": "code",
   "execution_count": 76,
   "id": "ordinary-mixture",
   "metadata": {},
   "outputs": [
    {
     "name": "stdout",
     "output_type": "stream",
     "text": [
      "0.8907042253521127\n"
     ]
    }
   ],
   "source": [
    "clf = AdaBoostClassifier(random_state=2)\n",
    "clf.fit(X_kos, y_kos)\n",
    "pre = clf.predict(X_te)\n",
    "auc_score = roc_auc_score(Y_te,pre)\n",
    "print(auc_score)"
   ]
  },
  {
   "cell_type": "code",
   "execution_count": 77,
   "id": "effective-pacific",
   "metadata": {},
   "outputs": [
    {
     "name": "stdout",
     "output_type": "stream",
     "text": [
      "0.8577464788732394\n"
     ]
    }
   ],
   "source": [
    "clf = AdaBoostClassifier(random_state=2,learning_rate=0.5)\n",
    "clf.fit(X_kos, y_kos)\n",
    "pre = clf.predict(X_te)\n",
    "auc_score = roc_auc_score(Y_te,pre)\n",
    "print(auc_score)"
   ]
  },
  {
   "cell_type": "code",
   "execution_count": 78,
   "id": "pleased-makeup",
   "metadata": {},
   "outputs": [
    {
     "name": "stdout",
     "output_type": "stream",
     "text": [
      "0.823661971830986\n"
     ]
    }
   ],
   "source": [
    "clf = AdaBoostClassifier(random_state=2,learning_rate=0.75)\n",
    "clf.fit(X_kos, y_kos)\n",
    "pre = clf.predict(X_te)\n",
    "auc_score = roc_auc_score(Y_te,pre)\n",
    "print(auc_score)"
   ]
  },
  {
   "cell_type": "code",
   "execution_count": 79,
   "id": "bright-cheese",
   "metadata": {},
   "outputs": [
    {
     "name": "stdout",
     "output_type": "stream",
     "text": [
      "0.8307042253521126\n"
     ]
    }
   ],
   "source": [
    "clf = AdaBoostClassifier(random_state=2,learning_rate=0.9)\n",
    "clf.fit(X_kos, y_kos)\n",
    "pre = clf.predict(X_te)\n",
    "auc_score = roc_auc_score(Y_te,pre)\n",
    "print(auc_score)"
   ]
  },
  {
   "cell_type": "code",
   "execution_count": 88,
   "id": "romance-handy",
   "metadata": {},
   "outputs": [
    {
     "name": "stdout",
     "output_type": "stream",
     "text": [
      "0.8847887323943661\n"
     ]
    }
   ],
   "source": [
    "clf = AdaBoostClassifier(random_state=2,learning_rate=1.3)\n",
    "clf.fit(X_kos, y_kos)\n",
    "pre = clf.predict(X_te)\n",
    "auc_score = roc_auc_score(Y_te,pre)\n",
    "print(auc_score)"
   ]
  },
  {
   "cell_type": "code",
   "execution_count": 91,
   "id": "attempted-mineral",
   "metadata": {},
   "outputs": [
    {
     "name": "stdout",
     "output_type": "stream",
     "text": [
      "0.7754929577464789\n"
     ]
    }
   ],
   "source": [
    "clf = AdaBoostClassifier(random_state=2,learning_rate=1.5)\n",
    "clf.fit(X_kos, y_kos)\n",
    "pre = clf.predict(X_te)\n",
    "auc_score = roc_auc_score(Y_te,pre)\n",
    "print(auc_score)"
   ]
  },
  {
   "cell_type": "markdown",
   "id": "widespread-fleet",
   "metadata": {},
   "source": [
    "### n_estimators"
   ]
  },
  {
   "cell_type": "code",
   "execution_count": 85,
   "id": "pending-invention",
   "metadata": {},
   "outputs": [
    {
     "name": "stdout",
     "output_type": "stream",
     "text": [
      "0.8907042253521127\n"
     ]
    }
   ],
   "source": [
    "clf = AdaBoostClassifier(random_state=2,learning_rate=1,n_estimators=50)\n",
    "clf.fit(X_kos, y_kos)\n",
    "pre = clf.predict(X_te)\n",
    "auc_score = roc_auc_score(Y_te,pre)\n",
    "print(auc_score)"
   ]
  },
  {
   "cell_type": "code",
   "execution_count": 81,
   "id": "controlled-gamma",
   "metadata": {
    "scrolled": true
   },
   "outputs": [
    {
     "name": "stdout",
     "output_type": "stream",
     "text": [
      "0.8307042253521126\n"
     ]
    }
   ],
   "source": [
    "clf = AdaBoostClassifier(random_state=2,learning_rate=1,n_estimators=40)\n",
    "clf.fit(X_kos, y_kos)\n",
    "pre = clf.predict(X_te)\n",
    "auc_score = roc_auc_score(Y_te,pre)\n",
    "print(auc_score)"
   ]
  },
  {
   "cell_type": "code",
   "execution_count": 82,
   "id": "flying-contract",
   "metadata": {},
   "outputs": [
    {
     "name": "stdout",
     "output_type": "stream",
     "text": [
      "0.8507042253521127\n"
     ]
    }
   ],
   "source": [
    "clf = AdaBoostClassifier(random_state=2,learning_rate=1,n_estimators=30)\n",
    "clf.fit(X_kos, y_kos)\n",
    "pre = clf.predict(X_te)\n",
    "auc_score = roc_auc_score(Y_te,pre)\n",
    "print(auc_score)"
   ]
  },
  {
   "cell_type": "code",
   "execution_count": 83,
   "id": "correct-negotiation",
   "metadata": {},
   "outputs": [
    {
     "name": "stdout",
     "output_type": "stream",
     "text": [
      "0.8707042253521127\n"
     ]
    }
   ],
   "source": [
    "clf = AdaBoostClassifier(random_state=2,learning_rate=1,n_estimators=20)\n",
    "clf.fit(X_kos, y_kos)\n",
    "pre = clf.predict(X_te)\n",
    "auc_score = roc_auc_score(Y_te,pre)\n",
    "print(auc_score)"
   ]
  },
  {
   "cell_type": "markdown",
   "id": "proof-nashville",
   "metadata": {},
   "source": [
    "### 提取指标"
   ]
  },
  {
   "cell_type": "code",
   "execution_count": 182,
   "id": "equipped-monaco",
   "metadata": {},
   "outputs": [
    {
     "name": "stdout",
     "output_type": "stream",
     "text": [
      "['DISP_FIX_ASSETS_OTH', 'FOREX_EFFECTS', 'SELL_EXP', 'C_PAID_INVEST', 'FINAN_EXP', 'C_PAID_G_S', 'TAXES_PAYABLE', 'REFUND_OF_TAX', 'INVEST_INCOME', 'OTH_PAYABLE', 'BIZ_TAX_SURCHG', 'NOPERATE_EXP', 'C_PAID_OTH_FINAN_A', 'C_FR_BORR', 'CAPITAL_RESER', 'INT_PAYABLE', 'NOTES_RECEIV', 'OTH_COMPRE_INCOME', 'C_PAID_FOR_TAXES', 'C_INF_FR_OPERATE_A']\n"
     ]
    },
    {
     "data": {
      "text/plain": [
       "<Figure size 432x288 with 0 Axes>"
      ]
     },
     "metadata": {},
     "output_type": "display_data"
    },
    {
     "data": {
      "image/png": "[encoded data removed]",
      "text/plain": [
       "<Figure size 1440x576 with 1 Axes>"
      ]
     },
     "metadata": {
      "needs_background": "light"
     },
     "output_type": "display_data"
    }
   ],
   "source": [
    "clf = AdaBoostClassifier(random_state=2)\n",
    "clf.fit(X_kos, y_kos)\n",
    "pre = clf.predict(X_te)\n",
    "auc_score = roc_auc_score(Y_te,pre)\n",
    "clf.feature_importances_\n",
    "Ada_features = []\n",
    "indices = np.argsort(clf.feature_importances_)[::-1]\n",
    "for i in X_tr.columns.values[:][indices][:20]:\n",
    "    Ada_features.append(i)\n",
    "print(Ada_features)\n",
    "\n",
    "import matplotlib.pyplot as plt\n",
    "import numpy as np\n",
    "\n",
    "indices = np.argsort(clf.feature_importances_)[::-1]  # 先将值按大小排序再提取索引\n",
    "\n",
    "# 绘图过程\n",
    "plt.figure()\n",
    "plt.figure(figsize=(20,8))\n",
    "plt.title(\"Adaboost Feature importances\")\n",
    "\n",
    "plt.rcParams['font.sans-serif'] = ['SimHei']\n",
    "plt.rcParams['axes.unicode_minus'] =False\n",
    "\n",
    "plt.barh(range(20), clf.feature_importances_[indices][:20], height=0.7, color='steelblue', alpha=0.8)      # 从下往上画\n",
    "plt.yticks(range(20), X_kos.columns.values[:][indices][:20])\n",
    "# plt.xlim([0, max(clf.feature_importances_[indices])])\n",
    "plt.savefig('Adaboost.png')\n",
    "plt.show()"
   ]
  },
  {
   "cell_type": "markdown",
   "id": "violent-habitat",
   "metadata": {},
   "source": [
    "## GBDT"
   ]
  },
  {
   "cell_type": "code",
   "execution_count": 158,
   "id": "certified-cookie",
   "metadata": {},
   "outputs": [
    {
     "name": "stdout",
     "output_type": "stream",
     "text": [
      "0.8318309859154929\n"
     ]
    }
   ],
   "source": [
    "import os\n",
    "import pandas as pd\n",
    "from sklearn.ensemble import GradientBoostingClassifier # GBDT\n",
    "import warnings\n",
    "warnings.filterwarnings('ignore')\n",
    "warnings.simplefilter('ignore')\n",
    "from sklearn.metrics import roc_auc_score\n",
    "from sklearn.model_selection import train_test_split\n",
    "from imblearn.over_sampling import SMOTE   # SMOTE采样\n",
    "from imblearn.combine import SMOTETomek   # 综合采样\n",
    "from collections import Counter\n",
    "\n",
    "filelist = os.listdir()\n",
    "csv_list = [x for x in filelist if 'csv' in x]\n",
    "data_rate = pd.read_csv(csv_list[4])\n",
    "data_X = data_rate[~data_rate['FLAG'].isnull()]\n",
    "data_Y = data_rate[data_rate['FLAG'].isnull()]\n",
    "data_X['FLAG'] = data_X['FLAG'].apply(lambda x :int(x))\n",
    "X_1 = data_X[data_X['FLAG']==1]\n",
    "X_0 = data_X[data_X['FLAG']==0].head(240) # .head(240)\n",
    "X_0 = X_0.append(X_1)\n",
    "\n",
    "\n",
    "X_tr, X_te, Y_tr, Y_te = train_test_split(X_0.iloc[:,12:-1],X_0.iloc[:,-1],random_state=1,test_size=0.3)   # 拆分训练集、测试集\n",
    "\n",
    "kos = SMOTETomek(random_state=0)  # 综合采样\n",
    "X_kos, y_kos = kos.fit_resample(X_tr, Y_tr)\n",
    "\n",
    "clf = GradientBoostingClassifier(random_state=2)\n",
    "clf.fit(X_tr, Y_tr)\n",
    "pre = clf.predict(X_te)\n",
    "auc_score = roc_auc_score(Y_te,pre)\n",
    "print(auc_score)"
   ]
  },
  {
   "cell_type": "markdown",
   "id": "numerical-going",
   "metadata": {},
   "source": [
    "### learning_rate "
   ]
  },
  {
   "cell_type": "code",
   "execution_count": 93,
   "id": "tropical-trunk",
   "metadata": {},
   "outputs": [
    {
     "name": "stdout",
     "output_type": "stream",
     "text": [
      "0.8529577464788732\n"
     ]
    }
   ],
   "source": [
    "clf = GradientBoostingClassifier(random_state=2,learning_rate=0.7)\n",
    "clf.fit(X_tr, Y_tr)\n",
    "pre = clf.predict(X_te)\n",
    "auc_score = roc_auc_score(Y_te,pre)\n",
    "print(auc_score)"
   ]
  },
  {
   "cell_type": "code",
   "execution_count": 94,
   "id": "distinguished-queen",
   "metadata": {},
   "outputs": [
    {
     "name": "stdout",
     "output_type": "stream",
     "text": [
      "0.8247887323943661\n"
     ]
    }
   ],
   "source": [
    "clf = GradientBoostingClassifier(random_state=2,learning_rate=0.5)\n",
    "clf.fit(X_tr, Y_tr)\n",
    "pre = clf.predict(X_te)\n",
    "auc_score = roc_auc_score(Y_te,pre)\n",
    "print(auc_score)"
   ]
  },
  {
   "cell_type": "code",
   "execution_count": 95,
   "id": "matched-highlight",
   "metadata": {},
   "outputs": [
    {
     "name": "stdout",
     "output_type": "stream",
     "text": [
      "0.8177464788732394\n"
     ]
    }
   ],
   "source": [
    "clf = GradientBoostingClassifier(random_state=2,learning_rate=0.3)\n",
    "clf.fit(X_tr, Y_tr)\n",
    "pre = clf.predict(X_te)\n",
    "auc_score = roc_auc_score(Y_te,pre)\n",
    "print(auc_score)"
   ]
  },
  {
   "cell_type": "code",
   "execution_count": 96,
   "id": "catholic-skating",
   "metadata": {},
   "outputs": [
    {
     "name": "stdout",
     "output_type": "stream",
     "text": [
      "0.8659154929577465\n"
     ]
    }
   ],
   "source": [
    "clf = GradientBoostingClassifier(random_state=2,learning_rate=0.9)\n",
    "clf.fit(X_tr, Y_tr)\n",
    "pre = clf.predict(X_te)\n",
    "auc_score = roc_auc_score(Y_te,pre)\n",
    "print(auc_score)"
   ]
  },
  {
   "cell_type": "code",
   "execution_count": 97,
   "id": "cognitive-chrome",
   "metadata": {},
   "outputs": [
    {
     "name": "stdout",
     "output_type": "stream",
     "text": [
      "0.8388732394366198\n"
     ]
    }
   ],
   "source": [
    "clf = GradientBoostingClassifier(random_state=2,learning_rate=0.8)\n",
    "clf.fit(X_tr, Y_tr)\n",
    "pre = clf.predict(X_te)\n",
    "auc_score = roc_auc_score(Y_te,pre)\n",
    "print(auc_score)"
   ]
  },
  {
   "cell_type": "markdown",
   "id": "trying-certificate",
   "metadata": {},
   "source": [
    "### n_estimators "
   ]
  },
  {
   "cell_type": "code",
   "execution_count": 103,
   "id": "exotic-beauty",
   "metadata": {},
   "outputs": [
    {
     "name": "stdout",
     "output_type": "stream",
     "text": [
      "0.8659154929577465\n"
     ]
    }
   ],
   "source": [
    "clf = GradientBoostingClassifier(random_state=2,learning_rate=0.9,n_estimators=140)\n",
    "clf.fit(X_tr, Y_tr)\n",
    "pre = clf.predict(X_te)\n",
    "auc_score = roc_auc_score(Y_te,pre)\n",
    "print(auc_score)"
   ]
  },
  {
   "cell_type": "code",
   "execution_count": 104,
   "id": "animated-warning",
   "metadata": {},
   "outputs": [
    {
     "name": "stdout",
     "output_type": "stream",
     "text": [
      "0.8588732394366198\n"
     ]
    }
   ],
   "source": [
    "clf = GradientBoostingClassifier(random_state=2,learning_rate=0.9,n_estimators=90)\n",
    "clf.fit(X_tr, Y_tr)\n",
    "pre = clf.predict(X_te)\n",
    "auc_score = roc_auc_score(Y_te,pre)\n",
    "print(auc_score)"
   ]
  },
  {
   "cell_type": "code",
   "execution_count": 105,
   "id": "hispanic-laugh",
   "metadata": {},
   "outputs": [
    {
     "name": "stdout",
     "output_type": "stream",
     "text": [
      "0.8659154929577465\n"
     ]
    }
   ],
   "source": [
    "clf = GradientBoostingClassifier(random_state=2,learning_rate=0.9,n_estimators=80)\n",
    "clf.fit(X_tr, Y_tr)\n",
    "pre = clf.predict(X_te)\n",
    "auc_score = roc_auc_score(Y_te,pre)\n",
    "print(auc_score)"
   ]
  },
  {
   "cell_type": "code",
   "execution_count": 106,
   "id": "secondary-penalty",
   "metadata": {},
   "outputs": [
    {
     "name": "stdout",
     "output_type": "stream",
     "text": [
      "0.8659154929577465\n"
     ]
    }
   ],
   "source": [
    "clf = GradientBoostingClassifier(random_state=2,learning_rate=0.9,n_estimators=70)\n",
    "clf.fit(X_tr, Y_tr)\n",
    "pre = clf.predict(X_te)\n",
    "auc_score = roc_auc_score(Y_te,pre)\n",
    "print(auc_score)"
   ]
  },
  {
   "cell_type": "markdown",
   "id": "fitted-surname",
   "metadata": {},
   "source": [
    "### min_samples_split "
   ]
  },
  {
   "cell_type": "code",
   "execution_count": 107,
   "id": "impressive-stockholm",
   "metadata": {},
   "outputs": [
    {
     "name": "stdout",
     "output_type": "stream",
     "text": [
      "0.8659154929577465\n"
     ]
    }
   ],
   "source": [
    "clf = GradientBoostingClassifier(random_state=2,learning_rate=0.9,n_estimators=100,min_samples_split=2)\n",
    "clf.fit(X_tr, Y_tr)\n",
    "pre = clf.predict(X_te)\n",
    "auc_score = roc_auc_score(Y_te,pre)\n",
    "print(auc_score)"
   ]
  },
  {
   "cell_type": "code",
   "execution_count": 108,
   "id": "working-selection",
   "metadata": {},
   "outputs": [
    {
     "name": "stdout",
     "output_type": "stream",
     "text": [
      "0.8459154929577465\n"
     ]
    }
   ],
   "source": [
    "clf = GradientBoostingClassifier(random_state=2,learning_rate=0.9,n_estimators=100,min_samples_split=3)\n",
    "clf.fit(X_tr, Y_tr)\n",
    "pre = clf.predict(X_te)\n",
    "auc_score = roc_auc_score(Y_te,pre)\n",
    "print(auc_score)"
   ]
  },
  {
   "cell_type": "code",
   "execution_count": 110,
   "id": "offensive-penalty",
   "metadata": {},
   "outputs": [
    {
     "name": "stdout",
     "output_type": "stream",
     "text": [
      "0.8588732394366198\n"
     ]
    }
   ],
   "source": [
    "clf = GradientBoostingClassifier(random_state=2,learning_rate=0.9,n_estimators=100,min_samples_split=4)\n",
    "clf.fit(X_tr, Y_tr)\n",
    "pre = clf.predict(X_te)\n",
    "auc_score = roc_auc_score(Y_te,pre)\n",
    "print(auc_score)"
   ]
  },
  {
   "cell_type": "code",
   "execution_count": 111,
   "id": "western-yugoslavia",
   "metadata": {},
   "outputs": [
    {
     "name": "stdout",
     "output_type": "stream",
     "text": [
      "0.8588732394366198\n"
     ]
    }
   ],
   "source": [
    "clf = GradientBoostingClassifier(random_state=2,learning_rate=0.9,n_estimators=100,min_samples_split=5)\n",
    "clf.fit(X_tr, Y_tr)\n",
    "pre = clf.predict(X_te)\n",
    "auc_score = roc_auc_score(Y_te,pre)\n",
    "print(auc_score)"
   ]
  },
  {
   "cell_type": "code",
   "execution_count": 112,
   "id": "driving-roots",
   "metadata": {},
   "outputs": [
    {
     "name": "stdout",
     "output_type": "stream",
     "text": [
      "0.8588732394366198\n"
     ]
    }
   ],
   "source": [
    "clf = GradientBoostingClassifier(random_state=2,learning_rate=0.9,n_estimators=100,min_samples_split=6)\n",
    "clf.fit(X_tr, Y_tr)\n",
    "pre = clf.predict(X_te)\n",
    "auc_score = roc_auc_score(Y_te,pre)\n",
    "print(auc_score)"
   ]
  },
  {
   "cell_type": "markdown",
   "id": "efficient-console",
   "metadata": {},
   "source": [
    "### min_samples_leaf "
   ]
  },
  {
   "cell_type": "code",
   "execution_count": 113,
   "id": "aboriginal-behalf",
   "metadata": {},
   "outputs": [
    {
     "name": "stdout",
     "output_type": "stream",
     "text": [
      "0.8659154929577465\n"
     ]
    }
   ],
   "source": [
    "clf = GradientBoostingClassifier(random_state=2,learning_rate=0.9,n_estimators=100,min_samples_split=2,min_samples_leaf=1)\n",
    "clf.fit(X_tr, Y_tr)\n",
    "pre = clf.predict(X_te)\n",
    "auc_score = roc_auc_score(Y_te,pre)\n",
    "print(auc_score)"
   ]
  },
  {
   "cell_type": "code",
   "execution_count": 114,
   "id": "victorian-bonus",
   "metadata": {},
   "outputs": [
    {
     "name": "stdout",
     "output_type": "stream",
     "text": [
      "0.8318309859154929\n"
     ]
    }
   ],
   "source": [
    "clf = GradientBoostingClassifier(random_state=2,learning_rate=0.9,n_estimators=100,min_samples_split=2,min_samples_leaf=2)\n",
    "clf.fit(X_tr, Y_tr)\n",
    "pre = clf.predict(X_te)\n",
    "auc_score = roc_auc_score(Y_te,pre)\n",
    "print(auc_score)"
   ]
  },
  {
   "cell_type": "code",
   "execution_count": 115,
   "id": "sunrise-percentage",
   "metadata": {},
   "outputs": [
    {
     "name": "stdout",
     "output_type": "stream",
     "text": [
      "0.8318309859154929\n"
     ]
    }
   ],
   "source": [
    "clf = GradientBoostingClassifier(random_state=2,learning_rate=0.9,n_estimators=100,min_samples_split=2,min_samples_leaf=3)\n",
    "clf.fit(X_tr, Y_tr)\n",
    "pre = clf.predict(X_te)\n",
    "auc_score = roc_auc_score(Y_te,pre)\n",
    "print(auc_score)"
   ]
  },
  {
   "cell_type": "code",
   "execution_count": 116,
   "id": "massive-square",
   "metadata": {},
   "outputs": [
    {
     "name": "stdout",
     "output_type": "stream",
     "text": [
      "0.6484507042253521\n"
     ]
    }
   ],
   "source": [
    "clf = GradientBoostingClassifier(random_state=2,learning_rate=0.9,n_estimators=100,min_samples_split=2,min_samples_leaf=0.5)\n",
    "clf.fit(X_tr, Y_tr)\n",
    "pre = clf.predict(X_te)\n",
    "auc_score = roc_auc_score(Y_te,pre)\n",
    "print(auc_score)"
   ]
  },
  {
   "cell_type": "markdown",
   "id": "informative-pension",
   "metadata": {},
   "source": [
    "### min_weight_fraction_leaf"
   ]
  },
  {
   "cell_type": "code",
   "execution_count": 121,
   "id": "alpha-auditor",
   "metadata": {},
   "outputs": [
    {
     "name": "stdout",
     "output_type": "stream",
     "text": [
      "0.8659154929577465\n"
     ]
    }
   ],
   "source": [
    "clf = GradientBoostingClassifier(random_state=2,learning_rate=0.9,n_estimators=100,min_samples_split=2,min_samples_leaf=1,min_weight_fraction_leaf=0)\n",
    "clf.fit(X_tr, Y_tr)\n",
    "pre = clf.predict(X_te)\n",
    "auc_score = roc_auc_score(Y_te,pre)\n",
    "print(auc_score)"
   ]
  },
  {
   "cell_type": "code",
   "execution_count": 122,
   "id": "peaceful-fabric",
   "metadata": {},
   "outputs": [
    {
     "name": "stdout",
     "output_type": "stream",
     "text": [
      "0.6425352112676056\n"
     ]
    }
   ],
   "source": [
    "clf = GradientBoostingClassifier(random_state=2,learning_rate=0.9,n_estimators=100,min_samples_split=2,min_samples_leaf=1,min_weight_fraction_leaf=0.2)\n",
    "clf.fit(X_tr, Y_tr)\n",
    "pre = clf.predict(X_te)\n",
    "auc_score = roc_auc_score(Y_te,pre)\n",
    "print(auc_score)"
   ]
  },
  {
   "cell_type": "code",
   "execution_count": 123,
   "id": "optimum-preservation",
   "metadata": {},
   "outputs": [
    {
     "name": "stdout",
     "output_type": "stream",
     "text": [
      "0.8247887323943661\n"
     ]
    }
   ],
   "source": [
    "clf = GradientBoostingClassifier(random_state=2,learning_rate=0.9,n_estimators=100,min_samples_split=2,min_samples_leaf=1,min_weight_fraction_leaf=0.1)\n",
    "clf.fit(X_tr, Y_tr)\n",
    "pre = clf.predict(X_te)\n",
    "auc_score = roc_auc_score(Y_te,pre)\n",
    "print(auc_score)"
   ]
  },
  {
   "cell_type": "code",
   "execution_count": 124,
   "id": "auburn-warning",
   "metadata": {},
   "outputs": [
    {
     "name": "stdout",
     "output_type": "stream",
     "text": [
      "0.6484507042253521\n"
     ]
    }
   ],
   "source": [
    "clf = GradientBoostingClassifier(random_state=2,learning_rate=0.9,n_estimators=100,min_samples_split=2,min_samples_leaf=1,min_weight_fraction_leaf=0.5)\n",
    "clf.fit(X_tr, Y_tr)\n",
    "pre = clf.predict(X_te)\n",
    "auc_score = roc_auc_score(Y_te,pre)\n",
    "print(auc_score)"
   ]
  },
  {
   "cell_type": "markdown",
   "id": "automotive-dance",
   "metadata": {},
   "source": [
    "### max_depth "
   ]
  },
  {
   "cell_type": "code",
   "execution_count": 125,
   "id": "contrary-bridge",
   "metadata": {},
   "outputs": [
    {
     "name": "stdout",
     "output_type": "stream",
     "text": [
      "0.8659154929577465\n"
     ]
    }
   ],
   "source": [
    "clf = GradientBoostingClassifier(random_state=2,learning_rate=0.9,n_estimators=100,min_samples_split=2,\n",
    "                                 min_samples_leaf=1,min_weight_fraction_leaf=0,max_depth=3)\n",
    "clf.fit(X_tr, Y_tr)\n",
    "pre = clf.predict(X_te)\n",
    "auc_score = roc_auc_score(Y_te,pre)\n",
    "print(auc_score)"
   ]
  },
  {
   "cell_type": "code",
   "execution_count": 126,
   "id": "neutral-laser",
   "metadata": {},
   "outputs": [
    {
     "name": "stdout",
     "output_type": "stream",
     "text": [
      "0.8247887323943661\n"
     ]
    }
   ],
   "source": [
    "clf = GradientBoostingClassifier(random_state=2,learning_rate=0.9,n_estimators=100,min_samples_split=2,\n",
    "                                 min_samples_leaf=1,min_weight_fraction_leaf=0,max_depth=4)\n",
    "clf.fit(X_tr, Y_tr)\n",
    "pre = clf.predict(X_te)\n",
    "auc_score = roc_auc_score(Y_te,pre)\n",
    "print(auc_score)"
   ]
  },
  {
   "cell_type": "code",
   "execution_count": 127,
   "id": "cellular-falls",
   "metadata": {},
   "outputs": [
    {
     "name": "stdout",
     "output_type": "stream",
     "text": [
      "0.8447887323943661\n"
     ]
    }
   ],
   "source": [
    "clf = GradientBoostingClassifier(random_state=2,learning_rate=0.9,n_estimators=100,min_samples_split=2,\n",
    "                                 min_samples_leaf=1,min_weight_fraction_leaf=0,max_depth=5)\n",
    "clf.fit(X_tr, Y_tr)\n",
    "pre = clf.predict(X_te)\n",
    "auc_score = roc_auc_score(Y_te,pre)\n",
    "print(auc_score)"
   ]
  },
  {
   "cell_type": "code",
   "execution_count": 128,
   "id": "tested-efficiency",
   "metadata": {},
   "outputs": [
    {
     "name": "stdout",
     "output_type": "stream",
     "text": [
      "0.8259154929577467\n"
     ]
    }
   ],
   "source": [
    "clf = GradientBoostingClassifier(random_state=2,learning_rate=0.9,n_estimators=100,min_samples_split=2,\n",
    "                                 min_samples_leaf=1,min_weight_fraction_leaf=0,max_depth=6)\n",
    "clf.fit(X_tr, Y_tr)\n",
    "pre = clf.predict(X_te)\n",
    "auc_score = roc_auc_score(Y_te,pre)\n",
    "print(auc_score)"
   ]
  },
  {
   "cell_type": "code",
   "execution_count": 129,
   "id": "opened-senator",
   "metadata": {},
   "outputs": [
    {
     "name": "stdout",
     "output_type": "stream",
     "text": [
      "0.7307042253521127\n"
     ]
    }
   ],
   "source": [
    "clf = GradientBoostingClassifier(random_state=2,learning_rate=0.9,n_estimators=100,min_samples_split=2,\n",
    "                                 min_samples_leaf=1,min_weight_fraction_leaf=0,max_depth=7)\n",
    "clf.fit(X_tr, Y_tr)\n",
    "pre = clf.predict(X_te)\n",
    "auc_score = roc_auc_score(Y_te,pre)\n",
    "print(auc_score)"
   ]
  },
  {
   "cell_type": "markdown",
   "id": "romantic-illustration",
   "metadata": {},
   "source": [
    "### min_impurity_decrease"
   ]
  },
  {
   "cell_type": "code",
   "execution_count": 130,
   "id": "automotive-senator",
   "metadata": {},
   "outputs": [
    {
     "name": "stdout",
     "output_type": "stream",
     "text": [
      "0.8659154929577465\n"
     ]
    }
   ],
   "source": [
    "clf = GradientBoostingClassifier(random_state=2,learning_rate=0.9,n_estimators=100,min_samples_split=2,\n",
    "                                 min_samples_leaf=1,min_weight_fraction_leaf=0,max_depth=3,min_impurity_decrease=0)\n",
    "clf.fit(X_tr, Y_tr)\n",
    "pre = clf.predict(X_te)\n",
    "auc_score = roc_auc_score(Y_te,pre)\n",
    "print(auc_score)"
   ]
  },
  {
   "cell_type": "code",
   "execution_count": 131,
   "id": "applied-findings",
   "metadata": {},
   "outputs": [
    {
     "name": "stdout",
     "output_type": "stream",
     "text": [
      "0.811830985915493\n"
     ]
    }
   ],
   "source": [
    "clf = GradientBoostingClassifier(random_state=2,learning_rate=0.9,n_estimators=100,min_samples_split=2,\n",
    "                                 min_samples_leaf=1,min_weight_fraction_leaf=0,max_depth=3,min_impurity_decrease=0.1)\n",
    "clf.fit(X_tr, Y_tr)\n",
    "pre = clf.predict(X_te)\n",
    "auc_score = roc_auc_score(Y_te,pre)\n",
    "print(auc_score)"
   ]
  },
  {
   "cell_type": "code",
   "execution_count": 132,
   "id": "affecting-aging",
   "metadata": {},
   "outputs": [
    {
     "name": "stdout",
     "output_type": "stream",
     "text": [
      "0.811830985915493\n"
     ]
    }
   ],
   "source": [
    "clf = GradientBoostingClassifier(random_state=2,learning_rate=0.9,n_estimators=100,min_samples_split=2,\n",
    "                                 min_samples_leaf=1,min_weight_fraction_leaf=0,max_depth=3,min_impurity_decrease=0.2)\n",
    "clf.fit(X_tr, Y_tr)\n",
    "pre = clf.predict(X_te)\n",
    "auc_score = roc_auc_score(Y_te,pre)\n",
    "print(auc_score)"
   ]
  },
  {
   "cell_type": "code",
   "execution_count": 133,
   "id": "historical-fusion",
   "metadata": {},
   "outputs": [
    {
     "name": "stdout",
     "output_type": "stream",
     "text": [
      "0.8447887323943661\n"
     ]
    }
   ],
   "source": [
    "clf = GradientBoostingClassifier(random_state=2,learning_rate=0.9,n_estimators=100,min_samples_split=2,\n",
    "                                 min_samples_leaf=1,min_weight_fraction_leaf=0,max_depth=3,min_impurity_decrease=0.3)\n",
    "clf.fit(X_tr, Y_tr)\n",
    "pre = clf.predict(X_te)\n",
    "auc_score = roc_auc_score(Y_te,pre)\n",
    "print(auc_score)"
   ]
  },
  {
   "cell_type": "code",
   "execution_count": 134,
   "id": "heavy-quarter",
   "metadata": {},
   "outputs": [
    {
     "name": "stdout",
     "output_type": "stream",
     "text": [
      "0.8447887323943661\n"
     ]
    }
   ],
   "source": [
    "clf = GradientBoostingClassifier(random_state=2,learning_rate=0.9,n_estimators=100,min_samples_split=2,\n",
    "                                 min_samples_leaf=1,min_weight_fraction_leaf=0,max_depth=3,min_impurity_decrease=0.4)\n",
    "clf.fit(X_tr, Y_tr)\n",
    "pre = clf.predict(X_te)\n",
    "auc_score = roc_auc_score(Y_te,pre)\n",
    "print(auc_score)"
   ]
  },
  {
   "cell_type": "code",
   "execution_count": 135,
   "id": "colonial-skill",
   "metadata": {},
   "outputs": [
    {
     "name": "stdout",
     "output_type": "stream",
     "text": [
      "0.8588732394366198\n"
     ]
    }
   ],
   "source": [
    "clf = GradientBoostingClassifier(random_state=2,learning_rate=0.9,n_estimators=100,min_samples_split=2,\n",
    "                                 min_samples_leaf=1,min_weight_fraction_leaf=0,max_depth=3,min_impurity_decrease=0.5)\n",
    "clf.fit(X_tr, Y_tr)\n",
    "pre = clf.predict(X_te)\n",
    "auc_score = roc_auc_score(Y_te,pre)\n",
    "print(auc_score)"
   ]
  },
  {
   "cell_type": "code",
   "execution_count": 136,
   "id": "cooked-darwin",
   "metadata": {},
   "outputs": [
    {
     "name": "stdout",
     "output_type": "stream",
     "text": [
      "0.8388732394366198\n"
     ]
    }
   ],
   "source": [
    "clf = GradientBoostingClassifier(random_state=2,learning_rate=0.9,n_estimators=100,min_samples_split=2,\n",
    "                                 min_samples_leaf=1,min_weight_fraction_leaf=0,max_depth=3,min_impurity_decrease=0.6)\n",
    "clf.fit(X_tr, Y_tr)\n",
    "pre = clf.predict(X_te)\n",
    "auc_score = roc_auc_score(Y_te,pre)\n",
    "print(auc_score)"
   ]
  },
  {
   "cell_type": "markdown",
   "id": "suspended-prediction",
   "metadata": {},
   "source": [
    "### 提取指标"
   ]
  },
  {
   "cell_type": "code",
   "execution_count": 183,
   "id": "discrete-inside",
   "metadata": {},
   "outputs": [
    {
     "name": "stdout",
     "output_type": "stream",
     "text": [
      "['GOING_CONCERN_NI', 'RETAINED_EARNINGS', 'C_PAID_FOR_TAXES', 'FOREX_EFFECTS', 'OTH_COMPR_INCOME', 'N_CHANGE_IN_CASH', 'MINORITY_GAIN', 'C_INF_FR_OPERATE_A', 'ASSETS_IMPAIR_LOSS', 'N_INCOME', 'OPERATE_PROFIT', 'BASIC_EPS', 'N_CF_FR_FINAN_A', 'N_CF_FR_INVEST_A', 'LT_EQUITY_INVEST', 'INVEST_INCOME', 'MINORITY_INT', 'C_PAID_INVEST', 'OTH_COMPRE_INCOME', 'C_PAID_OTH_FINAN_A']\n"
     ]
    },
    {
     "data": {
      "text/plain": [
       "<Figure size 432x288 with 0 Axes>"
      ]
     },
     "metadata": {},
     "output_type": "display_data"
    },
    {
     "data": {
      "image/png": "[encoded data removed]",
      "text/plain": [
       "<Figure size 1440x576 with 1 Axes>"
      ]
     },
     "metadata": {
      "needs_background": "light"
     },
     "output_type": "display_data"
    }
   ],
   "source": [
    "clf = GradientBoostingClassifier(random_state=2,learning_rate=0.9,n_estimators=100,min_samples_split=2,\n",
    "                                 min_samples_leaf=1,min_weight_fraction_leaf=0,max_depth=3,min_impurity_decrease=0)\n",
    "clf.fit(X_tr, Y_tr)\n",
    "GBDT_features = []\n",
    "indices = np.argsort(clf.feature_importances_)[::-1]\n",
    "for i in X_tr.columns.values[:][indices][:20]:\n",
    "    GBDT_features.append(i)\n",
    "print(GBDT_features)\n",
    "indices = np.argsort(clf.feature_importances_)[::-1]  # 先将值按大小排序再提取索引\n",
    "\n",
    "# 绘图过程\n",
    "plt.figure()\n",
    "plt.figure(figsize=(20,8))\n",
    "plt.title(\"GBDT Feature importances\")\n",
    "\n",
    "plt.rcParams['font.sans-serif'] = ['SimHei']\n",
    "plt.rcParams['axes.unicode_minus'] =False\n",
    "\n",
    "plt.barh(range(20), clf.feature_importances_[indices][:20], height=0.7, color='steelblue', alpha=0.8)      # 从下往上画\n",
    "plt.yticks(range(20), X_kos.columns.values[:][indices][:20])\n",
    "# plt.xlim([0, max(clf.feature_importances_[indices])])\n",
    "plt.savefig('GBDT.png')\n",
    "plt.show()"
   ]
  },
  {
   "cell_type": "markdown",
   "id": "global-tulsa",
   "metadata": {},
   "source": [
    "## RF"
   ]
  },
  {
   "cell_type": "code",
   "execution_count": 111,
   "id": "coral-vermont",
   "metadata": {},
   "outputs": [
    {
     "name": "stdout",
     "output_type": "stream",
     "text": [
      "0.7729577464788733\n"
     ]
    }
   ],
   "source": [
    "import os\n",
    "import pandas as pd\n",
    "from sklearn.ensemble import RandomForestClassifier  # 随机森林\n",
    "import warnings\n",
    "warnings.filterwarnings('ignore')\n",
    "warnings.simplefilter('ignore')\n",
    "from sklearn.metrics import roc_auc_score\n",
    "from sklearn.model_selection import train_test_split\n",
    "from imblearn.over_sampling import SMOTE   # SMOTE采样\n",
    "from imblearn.combine import SMOTETomek   # 综合采样\n",
    "from collections import Counter\n",
    "\n",
    "filelist = os.listdir()\n",
    "csv_list = [x for x in filelist if 'csv' in x]\n",
    "data_rate = pd.read_csv(csv_list[4])\n",
    "data_X = data_rate[~data_rate['FLAG'].isnull()]\n",
    "data_Y = data_rate[data_rate['FLAG'].isnull()]\n",
    "data_X['FLAG'] = data_X['FLAG'].apply(lambda x :int(x))\n",
    "X_1 = data_X[data_X['FLAG']==1]\n",
    "X_0 = data_X[data_X['FLAG']==0].head(240) # .head(240)\n",
    "X_0 = X_0.append(X_1)\n",
    "\n",
    "\n",
    "X_tr, X_te, Y_tr, Y_te = train_test_split(X_0.iloc[:,12:-1],X_0.iloc[:,-1],random_state=1,test_size=0.3)   # 拆分训练集、测试集\n",
    "\n",
    "kos = SMOTETomek(random_state=0)  # 综合采样\n",
    "X_kos, y_kos = kos.fit_resample(X_tr, Y_tr)\n",
    "\n",
    "clf = RandomForestClassifier(random_state=2)\n",
    "clf.fit(X_tr, Y_tr)\n",
    "pre = clf.predict(X_te)\n",
    "auc_score = roc_auc_score(Y_te,pre)\n",
    "print(auc_score)"
   ]
  },
  {
   "cell_type": "markdown",
   "id": "involved-liechtenstein",
   "metadata": {},
   "source": [
    "### max_depth "
   ]
  },
  {
   "cell_type": "code",
   "execution_count": 112,
   "id": "brief-service",
   "metadata": {},
   "outputs": [
    {
     "name": "stdout",
     "output_type": "stream",
     "text": [
      "0.7529577464788733\n"
     ]
    }
   ],
   "source": [
    "clf = RandomForestClassifier(random_state=2,max_depth=11)\n",
    "clf.fit(X_tr, Y_tr)\n",
    "pre = clf.predict(X_te)\n",
    "auc_score = roc_auc_score(Y_te,pre)\n",
    "print(auc_score)"
   ]
  },
  {
   "cell_type": "code",
   "execution_count": 113,
   "id": "threaded-staff",
   "metadata": {},
   "outputs": [
    {
     "name": "stdout",
     "output_type": "stream",
     "text": [
      "0.7529577464788733\n"
     ]
    }
   ],
   "source": [
    "clf = RandomForestClassifier(random_state=2,max_depth=9)\n",
    "clf.fit(X_tr, Y_tr)\n",
    "pre = clf.predict(X_te)\n",
    "auc_score = roc_auc_score(Y_te,pre)\n",
    "print(auc_score)"
   ]
  },
  {
   "cell_type": "code",
   "execution_count": 114,
   "id": "historic-rebecca",
   "metadata": {},
   "outputs": [
    {
     "name": "stdout",
     "output_type": "stream",
     "text": [
      "0.7129577464788732\n"
     ]
    }
   ],
   "source": [
    "clf = RandomForestClassifier(random_state=2,max_depth=5)\n",
    "clf.fit(X_tr, Y_tr)\n",
    "pre = clf.predict(X_te)\n",
    "auc_score = roc_auc_score(Y_te,pre)\n",
    "print(auc_score)"
   ]
  },
  {
   "cell_type": "code",
   "execution_count": 115,
   "id": "seventh-supervisor",
   "metadata": {},
   "outputs": [
    {
     "name": "stdout",
     "output_type": "stream",
     "text": [
      "0.7529577464788733\n"
     ]
    }
   ],
   "source": [
    "clf = RandomForestClassifier(random_state=2,max_depth=7)\n",
    "clf.fit(X_tr, Y_tr)\n",
    "pre = clf.predict(X_te)\n",
    "auc_score = roc_auc_score(Y_te,pre)\n",
    "print(auc_score)"
   ]
  },
  {
   "cell_type": "code",
   "execution_count": 116,
   "id": "demographic-exemption",
   "metadata": {},
   "outputs": [
    {
     "name": "stdout",
     "output_type": "stream",
     "text": [
      "0.7529577464788733\n"
     ]
    }
   ],
   "source": [
    "clf = RandomForestClassifier(random_state=2,max_depth=11)\n",
    "clf.fit(X_tr, Y_tr)\n",
    "pre = clf.predict(X_te)\n",
    "auc_score = roc_auc_score(Y_te,pre)\n",
    "print(auc_score)"
   ]
  },
  {
   "cell_type": "code",
   "execution_count": 117,
   "id": "prescribed-brunei",
   "metadata": {},
   "outputs": [
    {
     "name": "stdout",
     "output_type": "stream",
     "text": [
      "0.7529577464788733\n"
     ]
    }
   ],
   "source": [
    "clf = RandomForestClassifier(random_state=2,max_depth=12)\n",
    "clf.fit(X_tr, Y_tr)\n",
    "pre = clf.predict(X_te)\n",
    "auc_score = roc_auc_score(Y_te,pre)\n",
    "print(auc_score)"
   ]
  },
  {
   "cell_type": "markdown",
   "id": "demonstrated-arnold",
   "metadata": {},
   "source": [
    "### n_estimators "
   ]
  },
  {
   "cell_type": "code",
   "execution_count": 118,
   "id": "universal-bicycle",
   "metadata": {},
   "outputs": [
    {
     "name": "stdout",
     "output_type": "stream",
     "text": [
      "0.7788732394366198\n"
     ]
    }
   ],
   "source": [
    "clf = RandomForestClassifier(random_state=2,max_depth=None,n_estimators=150)\n",
    "clf.fit(X_tr, Y_tr)\n",
    "pre = clf.predict(X_te)\n",
    "auc_score = roc_auc_score(Y_te,pre)\n",
    "print(auc_score)"
   ]
  },
  {
   "cell_type": "code",
   "execution_count": 119,
   "id": "spoken-truck",
   "metadata": {},
   "outputs": [
    {
     "name": "stdout",
     "output_type": "stream",
     "text": [
      "0.8129577464788733\n"
     ]
    }
   ],
   "source": [
    "clf = RandomForestClassifier(random_state=2,max_depth=None,n_estimators=120)\n",
    "clf.fit(X_tr, Y_tr)\n",
    "pre = clf.predict(X_te)\n",
    "auc_score = roc_auc_score(Y_te,pre)\n",
    "print(auc_score)"
   ]
  },
  {
   "cell_type": "code",
   "execution_count": 120,
   "id": "right-patrick",
   "metadata": {},
   "outputs": [
    {
     "name": "stdout",
     "output_type": "stream",
     "text": [
      "0.7929577464788733\n"
     ]
    }
   ],
   "source": [
    "clf = RandomForestClassifier(random_state=2,max_depth=None,n_estimators=110)\n",
    "clf.fit(X_tr, Y_tr)\n",
    "pre = clf.predict(X_te)\n",
    "auc_score = roc_auc_score(Y_te,pre)\n",
    "print(auc_score)"
   ]
  },
  {
   "cell_type": "code",
   "execution_count": 121,
   "id": "extensive-blast",
   "metadata": {},
   "outputs": [
    {
     "name": "stdout",
     "output_type": "stream",
     "text": [
      "0.8059154929577466\n"
     ]
    }
   ],
   "source": [
    "clf = RandomForestClassifier(random_state=2,max_depth=None,n_estimators=130)\n",
    "clf.fit(X_tr, Y_tr)\n",
    "pre = clf.predict(X_te)\n",
    "auc_score = roc_auc_score(Y_te,pre)\n",
    "print(auc_score)"
   ]
  },
  {
   "cell_type": "code",
   "execution_count": 122,
   "id": "smooth-institute",
   "metadata": {},
   "outputs": [
    {
     "name": "stdout",
     "output_type": "stream",
     "text": [
      "0.8059154929577466\n"
     ]
    }
   ],
   "source": [
    "clf = RandomForestClassifier(random_state=2,max_depth=None,n_estimators=140)\n",
    "clf.fit(X_tr, Y_tr)\n",
    "pre = clf.predict(X_te)\n",
    "auc_score = roc_auc_score(Y_te,pre)\n",
    "print(auc_score)"
   ]
  },
  {
   "cell_type": "code",
   "execution_count": 123,
   "id": "lasting-leather",
   "metadata": {},
   "outputs": [
    {
     "name": "stdout",
     "output_type": "stream",
     "text": [
      "0.7988732394366198\n"
     ]
    }
   ],
   "source": [
    "clf = RandomForestClassifier(random_state=2,max_depth=None,n_estimators=200)\n",
    "clf.fit(X_tr, Y_tr)\n",
    "pre = clf.predict(X_te)\n",
    "auc_score = roc_auc_score(Y_te,pre)\n",
    "print(auc_score)"
   ]
  },
  {
   "cell_type": "code",
   "execution_count": 124,
   "id": "consolidated-weapon",
   "metadata": {},
   "outputs": [
    {
     "name": "stdout",
     "output_type": "stream",
     "text": [
      "0.7988732394366198\n"
     ]
    }
   ],
   "source": [
    "clf = RandomForestClassifier(random_state=2,max_depth=None,n_estimators=500)\n",
    "clf.fit(X_tr, Y_tr)\n",
    "pre = clf.predict(X_te)\n",
    "auc_score = roc_auc_score(Y_te,pre)\n",
    "print(auc_score)"
   ]
  },
  {
   "cell_type": "code",
   "execution_count": 125,
   "id": "inappropriate-positive",
   "metadata": {},
   "outputs": [
    {
     "name": "stdout",
     "output_type": "stream",
     "text": [
      "0.7659154929577465\n"
     ]
    }
   ],
   "source": [
    "clf = RandomForestClassifier(random_state=2,max_depth=None,n_estimators=1000)\n",
    "clf.fit(X_tr, Y_tr)\n",
    "pre = clf.predict(X_te)\n",
    "auc_score = roc_auc_score(Y_te,pre)\n",
    "print(auc_score)"
   ]
  },
  {
   "cell_type": "code",
   "execution_count": 129,
   "id": "possible-aspect",
   "metadata": {},
   "outputs": [
    {
     "name": "stdout",
     "output_type": "stream",
     "text": [
      "0.8129577464788733\n"
     ]
    }
   ],
   "source": [
    "clf = RandomForestClassifier(random_state=2,max_depth=None,n_estimators=120,max_features='sqrt')\n",
    "clf.fit(X_tr, Y_tr)\n",
    "pre = clf.predict(X_te)\n",
    "auc_score = roc_auc_score(Y_te,pre)\n",
    "print(auc_score)"
   ]
  },
  {
   "cell_type": "code",
   "execution_count": 130,
   "id": "radical-digit",
   "metadata": {},
   "outputs": [
    {
     "name": "stdout",
     "output_type": "stream",
     "text": [
      "0.7259154929577465\n"
     ]
    }
   ],
   "source": [
    "clf = RandomForestClassifier(random_state=2,max_depth=None,n_estimators=120,criterion='entropy')\n",
    "clf.fit(X_tr, Y_tr)\n",
    "pre = clf.predict(X_te)\n",
    "auc_score = roc_auc_score(Y_te,pre)\n",
    "print(auc_score)"
   ]
  },
  {
   "cell_type": "markdown",
   "id": "spare-visit",
   "metadata": {},
   "source": [
    "### 提取指标"
   ]
  },
  {
   "cell_type": "code",
   "execution_count": 184,
   "id": "attractive-state",
   "metadata": {},
   "outputs": [
    {
     "name": "stdout",
     "output_type": "stream",
     "text": [
      "['GOING_CONCERN_NI', 'RETAINED_EARNINGS', 'C_PAID_FOR_TAXES', 'FOREX_EFFECTS', 'OTH_COMPR_INCOME', 'N_CHANGE_IN_CASH', 'MINORITY_GAIN', 'C_INF_FR_OPERATE_A', 'ASSETS_IMPAIR_LOSS', 'N_INCOME', 'OPERATE_PROFIT', 'BASIC_EPS', 'N_CF_FR_FINAN_A', 'N_CF_FR_INVEST_A', 'LT_EQUITY_INVEST', 'INVEST_INCOME', 'MINORITY_INT', 'C_PAID_INVEST', 'OTH_COMPRE_INCOME', 'C_PAID_OTH_FINAN_A', 'GOING_CONCERN_NI', 'FOREX_EFFECTS', 'RETAINED_EARNINGS', 'BASIC_EPS', 'DILUTED_EPS', 'N_CHANGE_IN_CASH', 'PAID_IN_CAPITAL', 'COMPR_INC_ATTR_M_S', 'OPERATE_PROFIT', 'OTH_PAYABLE', 'REVENUE', 'INCOME_TAX', 'MINORITY_GAIN', 'T_PROFIT', 'C_OUTF_FR_INVEST_A', 'T_NCL', 'ASSETS_IMPAIR_LOSS', 'PAYROLL_PAYABLE', 'DISP_FIX_ASSETS_OTH', 'C_FR_SALE_G_S']\n"
     ]
    },
    {
     "data": {
      "text/plain": [
       "<Figure size 432x288 with 0 Axes>"
      ]
     },
     "metadata": {},
     "output_type": "display_data"
    },
    {
     "data": {
      "image/png": "[encoded data removed]",
      "text/plain": [
       "<Figure size 1440x576 with 1 Axes>"
      ]
     },
     "metadata": {
      "needs_background": "light"
     },
     "output_type": "display_data"
    }
   ],
   "source": [
    "clf = RandomForestClassifier(random_state=2,max_depth=None,n_estimators=120)\n",
    "clf.fit(X_tr, Y_tr)\n",
    "RF_features = []\n",
    "indices = np.argsort(clf.feature_importances_)[::-1]\n",
    "for i in X_tr.columns.values[:][indices][:20]:\n",
    "    GBDT_features.append(i)\n",
    "print(GBDT_features)\n",
    "indices = np.argsort(clf.feature_importances_)[::-1]  # 先将值按大小排序再提取索引\n",
    "\n",
    "# 绘图过程\n",
    "plt.figure()\n",
    "plt.figure(figsize=(20,8))\n",
    "plt.title(\"RF Feature importances\")\n",
    "\n",
    "plt.rcParams['font.sans-serif'] = ['SimHei']\n",
    "plt.rcParams['axes.unicode_minus'] =False\n",
    "\n",
    "plt.barh(range(20), clf.feature_importances_[indices][:20], height=0.7, color='steelblue', alpha=0.8)      # 从下往上画\n",
    "plt.yticks(range(20), X_kos.columns.values[:][indices][:20])\n",
    "# plt.xlim([0, max(clf.feature_importances_[indices])])\n",
    "plt.savefig('RF.png')\n",
    "plt.show()"
   ]
  },
  {
   "cell_type": "markdown",
   "id": "complete-romania",
   "metadata": {},
   "source": [
    "# 预测"
   ]
  },
  {
   "cell_type": "code",
   "execution_count": 136,
   "id": "upset-badge",
   "metadata": {},
   "outputs": [
    {
     "data": {
      "text/plain": [
       "'农、林、牧、渔业'"
      ]
     },
     "execution_count": 136,
     "metadata": {},
     "output_type": "execute_result"
    }
   ],
   "source": [
    "filelist = os.listdir()\n",
    "\n",
    "csv_list = [x for x in filelist if 'csv' in x]\n",
    "csv_list[3][:-11]"
   ]
  },
  {
   "cell_type": "code",
   "execution_count": 152,
   "id": "figured-meter",
   "metadata": {},
   "outputs": [
    {
     "name": "stdout",
     "output_type": "stream",
     "text": [
      "['交通运输、仓储和邮政业清洗完成的数据.csv', '住宿和餐饮业清洗完成的数据.csv', '信息传输、软件和信息技术服务业清洗完成的数据.csv', '农、林、牧、渔业清洗完成的数据.csv', '卫生和社会工作清洗完成的数据.csv', '居民服务、修理和其他服务业清洗完成的数据.csv', '建筑业清洗完成的数据.csv', '房地产业清洗完成的数据.csv', '批发和零售业清洗完成的数据.csv', '教育清洗完成的数据.csv', '文化、体育和娱乐业清洗完成的数据.csv', '水利、环境和公共设施管理业清洗完成的数据.csv', '电力、热力、燃气及水生产和供应业清洗完成的数据.csv', '科学研究和技术服务业清洗完成的数据.csv', '租赁和商务服务业清洗完成的数据.csv', '综合清洗完成的数据.csv', '采矿业清洗完成的数据.csv', '金融业清洗完成的数据.csv']\n",
      "交通运输、仓储和邮政业清洗完成的数据.csv\n"
     ]
    },
    {
     "ename": "ValueError",
     "evalue": "Expected n_neighbors <= n_samples,  but n_samples = 3, n_neighbors = 6",
     "output_type": "error",
     "traceback": [
      "\u001b[1;31m---------------------------------------------------------------------------\u001b[0m",
      "\u001b[1;31mValueError\u001b[0m                                Traceback (most recent call last)",
      "\u001b[1;32m<ipython-input-152-131595a4f84a>\u001b[0m in \u001b[0;36m<module>\u001b[1;34m\u001b[0m\n\u001b[0;32m     50\u001b[0m \u001b[1;33m\u001b[0m\u001b[0m\n\u001b[0;32m     51\u001b[0m     \u001b[0msos\u001b[0m \u001b[1;33m=\u001b[0m \u001b[0mSMOTE\u001b[0m\u001b[1;33m(\u001b[0m\u001b[0mrandom_state\u001b[0m\u001b[1;33m=\u001b[0m\u001b[1;36m0\u001b[0m\u001b[1;33m)\u001b[0m  \u001b[1;31m# SMOTE采样\u001b[0m\u001b[1;33m\u001b[0m\u001b[1;33m\u001b[0m\u001b[0m\n\u001b[1;32m---> 52\u001b[1;33m     \u001b[0mX_sos\u001b[0m\u001b[1;33m,\u001b[0m \u001b[0my_sos\u001b[0m \u001b[1;33m=\u001b[0m \u001b[0msos\u001b[0m\u001b[1;33m.\u001b[0m\u001b[0mfit_resample\u001b[0m\u001b[1;33m(\u001b[0m\u001b[0mX_tr\u001b[0m\u001b[1;33m,\u001b[0m \u001b[0mY_tr\u001b[0m\u001b[1;33m)\u001b[0m\u001b[1;33m\u001b[0m\u001b[1;33m\u001b[0m\u001b[0m\n\u001b[0m\u001b[0;32m     53\u001b[0m \u001b[1;33m\u001b[0m\u001b[0m\n\u001b[0;32m     54\u001b[0m \u001b[1;33m\u001b[0m\u001b[0m\n",
      "\u001b[1;32mF:\\software\\anaconda\\lib\\site-packages\\imblearn\\base.py\u001b[0m in \u001b[0;36mfit_resample\u001b[1;34m(self, X, y)\u001b[0m\n\u001b[0;32m     81\u001b[0m         )\n\u001b[0;32m     82\u001b[0m \u001b[1;33m\u001b[0m\u001b[0m\n\u001b[1;32m---> 83\u001b[1;33m         \u001b[0moutput\u001b[0m \u001b[1;33m=\u001b[0m \u001b[0mself\u001b[0m\u001b[1;33m.\u001b[0m\u001b[0m_fit_resample\u001b[0m\u001b[1;33m(\u001b[0m\u001b[0mX\u001b[0m\u001b[1;33m,\u001b[0m \u001b[0my\u001b[0m\u001b[1;33m)\u001b[0m\u001b[1;33m\u001b[0m\u001b[1;33m\u001b[0m\u001b[0m\n\u001b[0m\u001b[0;32m     84\u001b[0m \u001b[1;33m\u001b[0m\u001b[0m\n\u001b[0;32m     85\u001b[0m         \u001b[0my_\u001b[0m \u001b[1;33m=\u001b[0m \u001b[0mlabel_binarize\u001b[0m\u001b[1;33m(\u001b[0m\u001b[0moutput\u001b[0m\u001b[1;33m[\u001b[0m\u001b[1;36m1\u001b[0m\u001b[1;33m]\u001b[0m\u001b[1;33m,\u001b[0m \u001b[0mnp\u001b[0m\u001b[1;33m.\u001b[0m\u001b[0munique\u001b[0m\u001b[1;33m(\u001b[0m\u001b[0my\u001b[0m\u001b[1;33m)\u001b[0m\u001b[1;33m)\u001b[0m \u001b[1;32mif\u001b[0m \u001b[0mbinarize_y\u001b[0m \u001b[1;32melse\u001b[0m \u001b[0moutput\u001b[0m\u001b[1;33m[\u001b[0m\u001b[1;36m1\u001b[0m\u001b[1;33m]\u001b[0m\u001b[1;33m\u001b[0m\u001b[1;33m\u001b[0m\u001b[0m\n",
      "\u001b[1;32mF:\\software\\anaconda\\lib\\site-packages\\imblearn\\over_sampling\\_smote\\base.py\u001b[0m in \u001b[0;36m_fit_resample\u001b[1;34m(self, X, y)\u001b[0m\n\u001b[0;32m    307\u001b[0m \u001b[1;33m\u001b[0m\u001b[0m\n\u001b[0;32m    308\u001b[0m             \u001b[0mself\u001b[0m\u001b[1;33m.\u001b[0m\u001b[0mnn_k_\u001b[0m\u001b[1;33m.\u001b[0m\u001b[0mfit\u001b[0m\u001b[1;33m(\u001b[0m\u001b[0mX_class\u001b[0m\u001b[1;33m)\u001b[0m\u001b[1;33m\u001b[0m\u001b[1;33m\u001b[0m\u001b[0m\n\u001b[1;32m--> 309\u001b[1;33m             \u001b[0mnns\u001b[0m \u001b[1;33m=\u001b[0m \u001b[0mself\u001b[0m\u001b[1;33m.\u001b[0m\u001b[0mnn_k_\u001b[0m\u001b[1;33m.\u001b[0m\u001b[0mkneighbors\u001b[0m\u001b[1;33m(\u001b[0m\u001b[0mX_class\u001b[0m\u001b[1;33m,\u001b[0m \u001b[0mreturn_distance\u001b[0m\u001b[1;33m=\u001b[0m\u001b[1;32mFalse\u001b[0m\u001b[1;33m)\u001b[0m\u001b[1;33m[\u001b[0m\u001b[1;33m:\u001b[0m\u001b[1;33m,\u001b[0m \u001b[1;36m1\u001b[0m\u001b[1;33m:\u001b[0m\u001b[1;33m]\u001b[0m\u001b[1;33m\u001b[0m\u001b[1;33m\u001b[0m\u001b[0m\n\u001b[0m\u001b[0;32m    310\u001b[0m             X_new, y_new = self._make_samples(\n\u001b[0;32m    311\u001b[0m                 \u001b[0mX_class\u001b[0m\u001b[1;33m,\u001b[0m \u001b[0my\u001b[0m\u001b[1;33m.\u001b[0m\u001b[0mdtype\u001b[0m\u001b[1;33m,\u001b[0m \u001b[0mclass_sample\u001b[0m\u001b[1;33m,\u001b[0m \u001b[0mX_class\u001b[0m\u001b[1;33m,\u001b[0m \u001b[0mnns\u001b[0m\u001b[1;33m,\u001b[0m \u001b[0mn_samples\u001b[0m\u001b[1;33m,\u001b[0m \u001b[1;36m1.0\u001b[0m\u001b[1;33m\u001b[0m\u001b[1;33m\u001b[0m\u001b[0m\n",
      "\u001b[1;32mF:\\software\\anaconda\\lib\\site-packages\\sklearn\\neighbors\\_base.py\u001b[0m in \u001b[0;36mkneighbors\u001b[1;34m(self, X, n_neighbors, return_distance)\u001b[0m\n\u001b[0;32m    678\u001b[0m         \u001b[0mn_samples_fit\u001b[0m \u001b[1;33m=\u001b[0m \u001b[0mself\u001b[0m\u001b[1;33m.\u001b[0m\u001b[0mn_samples_fit_\u001b[0m\u001b[1;33m\u001b[0m\u001b[1;33m\u001b[0m\u001b[0m\n\u001b[0;32m    679\u001b[0m         \u001b[1;32mif\u001b[0m \u001b[0mn_neighbors\u001b[0m \u001b[1;33m>\u001b[0m \u001b[0mn_samples_fit\u001b[0m\u001b[1;33m:\u001b[0m\u001b[1;33m\u001b[0m\u001b[1;33m\u001b[0m\u001b[0m\n\u001b[1;32m--> 680\u001b[1;33m             raise ValueError(\n\u001b[0m\u001b[0;32m    681\u001b[0m                 \u001b[1;34m\"Expected n_neighbors <= n_samples, \"\u001b[0m\u001b[1;33m\u001b[0m\u001b[1;33m\u001b[0m\u001b[0m\n\u001b[0;32m    682\u001b[0m                 \u001b[1;34m\" but n_samples = %d, n_neighbors = %d\"\u001b[0m \u001b[1;33m%\u001b[0m\u001b[1;33m\u001b[0m\u001b[1;33m\u001b[0m\u001b[0m\n",
      "\u001b[1;31mValueError\u001b[0m: Expected n_neighbors <= n_samples,  but n_samples = 3, n_neighbors = 6"
     ]
    }
   ],
   "source": [
    "import os\n",
    "import pandas as pd\n",
    "import numpy as np\n",
    "from sklearn.model_selection import train_test_split\n",
    "from imblearn.over_sampling import SMOTE   # SMOTE采样\n",
    "from collections import Counter\n",
    "from sklearn.ensemble import AdaBoostClassifier\n",
    "import warnings\n",
    "warnings.filterwarnings('ignore')\n",
    "warnings.simplefilter('ignore')\n",
    "from sklearn.ensemble import RandomForestClassifier  # 随机森林\n",
    "import lightgbm as lgb # lightgbm\n",
    "from sklearn.ensemble import GradientBoostingClassifier # GBDT\n",
    "from sklearn.linear_model import LogisticRegression # 逻辑回归\n",
    "from sklearn.tree import DecisionTreeClassifier \n",
    "from sklearn.svm import SVC\n",
    "# import xgboost\n",
    "# from xgboost import XGBClassifier\n",
    "from sklearn.metrics import classification_report\n",
    "from sklearn.metrics import roc_auc_score\n",
    "\n",
    "\n",
    "\n",
    "os.getcwd()  # 'C:\\\\Users\\\\dell\\\\zhaoxuan'\n",
    "os.listdir()  # 列出所有文件\n",
    "\n",
    "filelist = os.listdir()\n",
    "\n",
    "csv_list = [x for x in filelist if '数据.csv' in x]\n",
    "print(csv_list)\n",
    "print(csv_list[0])\n",
    "\n",
    "for i in range(len(csv_list)):\n",
    "    \n",
    "    col_list = pd.read_csv('./指标/300次训练.csv',encoding='gbk',header=None)\n",
    "    new_col = list(col_list[col_list[0]==(csv_list[i][:-11])][1])\n",
    "    new_col.append('TICKER_SYMBOL')\n",
    "    new_col.append('FLAG')\n",
    "    data_rate = pd.read_csv(csv_list[i])\n",
    "    data_rate = data_rate[new_col]\n",
    "    data_X = data_rate[~data_rate['FLAG'].isnull()]\n",
    "    data_Y = data_rate[data_rate['FLAG'].isnull()]\n",
    "    data_X['FLAG'] = data_X['FLAG'].apply(lambda x :int(x))\n",
    "    X_1 = data_X[data_X['FLAG']==1]\n",
    "    X_0 = data_X[data_X['FLAG']==0].sample(X_1.shape[0]*3)\n",
    "    X_0 = X_0.append(X_1)\n",
    "    \n",
    "    X_tr,Y_tr = X_0.iloc[:,:-2] ,X_0.iloc[:,-1]\n",
    "\n",
    "\n",
    "    sos = SMOTE(random_state=0)  # SMOTE采样\n",
    "    X_sos, y_sos = sos.fit_resample(X_tr, Y_tr)\n",
    "\n",
    "\n",
    "    clf_adaboost = AdaBoostClassifier()\n",
    "    clf_adaboost.fit(X_sos, y_sos)\n",
    "    pre_q2 = clf_adaboost.predict(data_Y.iloc[:,:-2])\n",
    "    data_Y['FLAG'] = pre_q2\n",
    "    data_Y.iloc[:,-2:].to_csv('{}问题3.csv'.format(i))"
   ]
  },
  {
   "cell_type": "code",
   "execution_count": null,
   "id": "intimate-competition",
   "metadata": {},
   "outputs": [],
   "source": []
  }
 ],
 "metadata": {
  "kernelspec": {
   "display_name": "Python 3 (ipykernel)",
   "language": "python",
   "name": "python3"
  },
  "language_info": {
   "codemirror_mode": {
    "name": "ipython",
    "version": 3
   },
   "file_extension": ".py",
   "mimetype": "text/x-python",
   "name": "python",
   "nbconvert_exporter": "python",
   "pygments_lexer": "ipython3",
   "version": "3.11.5"
  },
  "toc": {
   "base_numbering": 1,
   "nav_menu": {
    "height": "148px",
    "width": "160px"
   },
   "number_sections": true,
   "sideBar": true,
   "skip_h1_title": false,
   "title_cell": "Table of Contents",
   "title_sidebar": "Contents",
   "toc_cell": false,
   "toc_position": {
    "height": "calc(100% - 180px)",
    "left": "10px",
    "top": "150px",
    "width": "307.2px"
   },
   "toc_section_display": true,
   "toc_window_display": true
  }
 },
 "nbformat": 4,
 "nbformat_minor": 5
}
