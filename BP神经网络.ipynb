{
 "cells": [
  {
   "cell_type": "code",
   "execution_count": null,
   "id": "referenced-excerpt",
   "metadata": {},
   "outputs": [],
   "source": [
    "import os\n",
    "import pandas as pd\n",
    "import numpy as np\n",
    "from sklearn.model_selection import train_test_split\n",
    "from imblearn.over_sampling import SMOTE   # SMOTE采样\n",
    "from collections import Counter\n",
    "from sklearn.ensemble import AdaBoostClassifier\n",
    "import warnings\n",
    "warnings.filterwarnings('ignore')\n",
    "warnings.simplefilter('ignore')\n",
    "\n",
    "\n",
    "col_list = pd.read_csv('./指标/300次训练.csv',encoding='gbk',header=None)\n",
    "new_col = list(col_list[col_list[0]=='制造业'][1])\n",
    "new_col.append('TICKER_SYMBOL')\n",
    "new_col.append('FLAG')\n",
    "os.getcwd()  # 'C:\\\\Users\\\\dell\\\\zhaoxuan'\n",
    "os.listdir()  # 列出所有文件\n",
    "\n",
    "filelist = os.listdir()\n",
    "\n",
    "csv_list = [x for x in filelist if 'csv' in x]\n",
    "print(csv_list)\n",
    "print(csv_list[0])"
   ]
  },
  {
   "cell_type": "code",
   "execution_count": null,
   "id": "ultimate-authorization",
   "metadata": {},
   "outputs": [],
   "source": [
    "data_rate = pd.read_csv(csv_list[4])\n",
    "data_rate = data_rate[new_col]\n",
    "data_X = data_rate[~data_rate['FLAG'].isnull()]\n",
    "data_Y = data_rate[data_rate['FLAG'].isnull()]\n",
    "data_X['FLAG'] = data_X['FLAG'].apply(lambda x :int(x))\n",
    "X_1 = data_X[data_X['FLAG']==1]\n",
    "X_0 = data_X[data_X['FLAG']==0].sample(1000)\n",
    "X_0 = X_0.append(X_1)\n",
    "X_tr, X_te, Y_tr, Y_te = train_test_split(X_0.iloc[:,:-2],X_0.iloc[:,-1],test_size=0.25)   # 拆分训练集、测试集,12,134\n",
    "\n",
    "sos = SMOTE(random_state=0)  # SMOTE采样\n",
    "X_sos, y_sos = sos.fit_resample(X_tr, Y_tr)"
   ]
  },
  {
   "cell_type": "code",
   "execution_count": null,
   "id": "mineral-replacement",
   "metadata": {},
   "outputs": [],
   "source": [
    "import tensorflow as tf\n",
    "from keras.models import Sequential\n",
    "from keras.layers import Dense\n",
    "from keras.optimizers import Adam\n",
    "print(tf.__version__)\n",
    "Y = pd.get_dummies(y_kos).values\n",
    "model = Sequential()\n",
    "model.add(Dense(16, input_shape=(90,), activation='relu'))\n",
    "model.add(Dense(8, activation='relu'))\n",
    "model.add(Dense(6, activation='relu'))\n",
    "model.add(Dense(2, activation='sigmoid'))\n",
    "model.compile(Adam(lr=0.04), 'categorical_crossentropy', metrics=['accuracy'])\n",
    "model.summary()\n",
    "model.fit(X_kos, Y, epochs=50)\n",
    "y_pred = model.predict(X_te)\n",
    "y_pred_class = np.argmax(y_pred, axis=1)  # 其实就是记录每个数组中值最大的数的index"
   ]
  }
 ],
 "metadata": {
  "kernelspec": {
   "display_name": "Python 3",
   "language": "python",
   "name": "python3"
  },
  "language_info": {
   "codemirror_mode": {
    "name": "ipython",
    "version": 3
   },
   "file_extension": ".py",
   "mimetype": "text/x-python",
   "name": "python",
   "nbconvert_exporter": "python",
   "pygments_lexer": "ipython3",
   "version": "3.8.5"
  },
  "toc": {
   "base_numbering": 1,
   "nav_menu": {},
   "number_sections": true,
   "sideBar": true,
   "skip_h1_title": false,
   "title_cell": "Table of Contents",
   "title_sidebar": "Contents",
   "toc_cell": false,
   "toc_position": {},
   "toc_section_display": true,
   "toc_window_display": false
  }
 },
 "nbformat": 4,
 "nbformat_minor": 5
}
