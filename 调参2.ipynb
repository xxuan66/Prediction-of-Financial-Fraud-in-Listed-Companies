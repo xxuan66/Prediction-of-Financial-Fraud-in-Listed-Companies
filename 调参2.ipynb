{
 "cells": [
  {
   "cell_type": "markdown",
   "id": "visible-shore",
   "metadata": {},
   "source": [
    "# 调参"
   ]
  },
  {
   "cell_type": "markdown",
   "id": "understanding-seeker",
   "metadata": {},
   "source": [
    "## Adaboost调参"
   ]
  },
  {
   "cell_type": "code",
   "execution_count": 1,
   "id": "lonely-constant",
   "metadata": {},
   "outputs": [
    {
     "name": "stdout",
     "output_type": "stream",
     "text": [
      "0.8907042253521127\n"
     ]
    }
   ],
   "source": [
    "import os\n",
    "import pandas as pd\n",
    "from sklearn.ensemble import AdaBoostClassifier\n",
    "import warnings\n",
    "warnings.filterwarnings('ignore')\n",
    "warnings.simplefilter('ignore')\n",
    "from sklearn.metrics import roc_auc_score\n",
    "from sklearn.model_selection import train_test_split\n",
    "from imblearn.over_sampling import SMOTE   # SMOTE采样\n",
    "from imblearn.combine import SMOTETomek   # 综合采样\n",
    "from collections import Counter\n",
    "\n",
    "os.chdir('./清理后的数据/')\n",
    "filelist = os.listdir()\n",
    "csv_list = [x for x in filelist if 'csv' in x]\n",
    "data_rate = pd.read_csv(csv_list[4])\n",
    "data_X = data_rate[~data_rate['FLAG'].isnull()]\n",
    "data_Y = data_rate[data_rate['FLAG'].isnull()]\n",
    "data_X['FLAG'] = data_X['FLAG'].apply(lambda x :int(x))\n",
    "X_1 = data_X[data_X['FLAG']==1]\n",
    "X_0 = data_X[data_X['FLAG']==0].head(240) # .head(240)\n",
    "X_0 = X_0.append(X_1)\n",
    "\n",
    "\n",
    "X_tr, X_te, Y_tr, Y_te = train_test_split(X_0.iloc[:,12:-1],X_0.iloc[:,-1],random_state=1,test_size=0.3)   # 拆分训练集、测试集\n",
    "\n",
    "kos = SMOTETomek(random_state=0)  # 综合采样\n",
    "X_kos, y_kos = kos.fit_resample(X_tr, Y_tr)\n",
    "\n",
    "clf = AdaBoostClassifier(random_state=2)\n",
    "clf.fit(X_kos, y_kos)\n",
    "pre = clf.predict(X_te)\n",
    "auc_score = roc_auc_score(Y_te,pre)\n",
    "print(auc_score)"
   ]
  },
  {
   "cell_type": "markdown",
   "id": "velvet-poison",
   "metadata": {},
   "source": [
    "### learning_rate"
   ]
  },
  {
   "cell_type": "code",
   "execution_count": 2,
   "id": "polished-vector",
   "metadata": {},
   "outputs": [
    {
     "name": "stdout",
     "output_type": "stream",
     "text": [
      "0.803661971830986\n"
     ]
    }
   ],
   "source": [
    "clf = AdaBoostClassifier(random_state=2,learning_rate=0.3)\n",
    "clf.fit(X_kos, y_kos)\n",
    "pre = clf.predict(X_te)\n",
    "auc_score = roc_auc_score(Y_te,pre)\n",
    "print(auc_score)"
   ]
  },
  {
   "cell_type": "code",
   "execution_count": 3,
   "id": "ordinary-mixture",
   "metadata": {},
   "outputs": [
    {
     "name": "stdout",
     "output_type": "stream",
     "text": [
      "0.8847887323943661\n"
     ]
    }
   ],
   "source": [
    "clf = AdaBoostClassifier(random_state=2,learning_rate=0.7)\n",
    "clf.fit(X_kos, y_kos)\n",
    "pre = clf.predict(X_te)\n",
    "auc_score = roc_auc_score(Y_te,pre)\n",
    "print(auc_score)"
   ]
  },
  {
   "cell_type": "code",
   "execution_count": 4,
   "id": "effective-pacific",
   "metadata": {},
   "outputs": [
    {
     "name": "stdout",
     "output_type": "stream",
     "text": [
      "0.803661971830986\n"
     ]
    }
   ],
   "source": [
    "clf = AdaBoostClassifier(random_state=2,learning_rate=1.1)\n",
    "clf.fit(X_kos, y_kos)\n",
    "pre = clf.predict(X_te)\n",
    "auc_score = roc_auc_score(Y_te,pre)\n",
    "print(auc_score)"
   ]
  },
  {
   "cell_type": "code",
   "execution_count": 5,
   "id": "pleased-makeup",
   "metadata": {},
   "outputs": [
    {
     "name": "stdout",
     "output_type": "stream",
     "text": [
      "0.8307042253521126\n"
     ]
    }
   ],
   "source": [
    "clf = AdaBoostClassifier(random_state=2,learning_rate=0.9)\n",
    "clf.fit(X_kos, y_kos)\n",
    "pre = clf.predict(X_te)\n",
    "auc_score = roc_auc_score(Y_te,pre)\n",
    "print(auc_score)"
   ]
  },
  {
   "cell_type": "code",
   "execution_count": 6,
   "id": "bright-cheese",
   "metadata": {},
   "outputs": [
    {
     "name": "stdout",
     "output_type": "stream",
     "text": [
      "0.8977464788732394\n"
     ]
    }
   ],
   "source": [
    "clf = AdaBoostClassifier(random_state=2,learning_rate=0.99)\n",
    "clf.fit(X_kos, y_kos)\n",
    "pre = clf.predict(X_te)\n",
    "auc_score = roc_auc_score(Y_te,pre)\n",
    "print(auc_score)"
   ]
  },
  {
   "cell_type": "code",
   "execution_count": 7,
   "id": "romance-handy",
   "metadata": {},
   "outputs": [
    {
     "name": "stdout",
     "output_type": "stream",
     "text": [
      "0.8447887323943661\n"
     ]
    }
   ],
   "source": [
    "clf = AdaBoostClassifier(random_state=2,learning_rate=1.01)\n",
    "clf.fit(X_kos, y_kos)\n",
    "pre = clf.predict(X_te)\n",
    "auc_score = roc_auc_score(Y_te,pre)\n",
    "print(auc_score)"
   ]
  },
  {
   "cell_type": "code",
   "execution_count": 8,
   "id": "attempted-mineral",
   "metadata": {},
   "outputs": [
    {
     "name": "stdout",
     "output_type": "stream",
     "text": [
      "0.7754929577464789\n"
     ]
    }
   ],
   "source": [
    "clf = AdaBoostClassifier(random_state=2,learning_rate=1.5)\n",
    "clf.fit(X_kos, y_kos)\n",
    "pre = clf.predict(X_te)\n",
    "auc_score = roc_auc_score(Y_te,pre)\n",
    "print(auc_score)"
   ]
  },
  {
   "cell_type": "markdown",
   "id": "widespread-fleet",
   "metadata": {},
   "source": [
    "### n_estimators"
   ]
  },
  {
   "cell_type": "code",
   "execution_count": 9,
   "id": "pending-invention",
   "metadata": {},
   "outputs": [
    {
     "name": "stdout",
     "output_type": "stream",
     "text": [
      "0.8977464788732394\n"
     ]
    }
   ],
   "source": [
    "clf = AdaBoostClassifier(random_state=2,learning_rate=0.99,n_estimators=50)\n",
    "clf.fit(X_kos, y_kos)\n",
    "pre = clf.predict(X_te)\n",
    "auc_score = roc_auc_score(Y_te,pre)\n",
    "print(auc_score)"
   ]
  },
  {
   "cell_type": "code",
   "execution_count": 10,
   "id": "controlled-gamma",
   "metadata": {
    "scrolled": true
   },
   "outputs": [
    {
     "name": "stdout",
     "output_type": "stream",
     "text": [
      "0.8307042253521126\n"
     ]
    }
   ],
   "source": [
    "clf = AdaBoostClassifier(random_state=2,learning_rate=0.99,n_estimators=40)\n",
    "clf.fit(X_kos, y_kos)\n",
    "pre = clf.predict(X_te)\n",
    "auc_score = roc_auc_score(Y_te,pre)\n",
    "print(auc_score)"
   ]
  },
  {
   "cell_type": "code",
   "execution_count": 11,
   "id": "flying-contract",
   "metadata": {},
   "outputs": [
    {
     "name": "stdout",
     "output_type": "stream",
     "text": [
      "0.8507042253521127\n"
     ]
    }
   ],
   "source": [
    "clf = AdaBoostClassifier(random_state=2,learning_rate=0.99,n_estimators=30)\n",
    "clf.fit(X_kos, y_kos)\n",
    "pre = clf.predict(X_te)\n",
    "auc_score = roc_auc_score(Y_te,pre)\n",
    "print(auc_score)"
   ]
  },
  {
   "cell_type": "code",
   "execution_count": 12,
   "id": "correct-negotiation",
   "metadata": {},
   "outputs": [
    {
     "name": "stdout",
     "output_type": "stream",
     "text": [
      "0.8707042253521127\n"
     ]
    }
   ],
   "source": [
    "clf = AdaBoostClassifier(random_state=2,learning_rate=0.99,n_estimators=20)\n",
    "clf.fit(X_kos, y_kos)\n",
    "pre = clf.predict(X_te)\n",
    "auc_score = roc_auc_score(Y_te,pre)\n",
    "print(auc_score)"
   ]
  },
  {
   "cell_type": "code",
   "execution_count": 13,
   "id": "sized-poverty",
   "metadata": {},
   "outputs": [
    {
     "name": "stdout",
     "output_type": "stream",
     "text": [
      "0.8777464788732394\n"
     ]
    }
   ],
   "source": [
    "clf = AdaBoostClassifier(random_state=2,learning_rate=0.99,n_estimators=60)\n",
    "clf.fit(X_kos, y_kos)\n",
    "pre = clf.predict(X_te)\n",
    "auc_score = roc_auc_score(Y_te,pre)\n",
    "print(auc_score)"
   ]
  },
  {
   "cell_type": "code",
   "execution_count": 14,
   "id": "isolated-muscle",
   "metadata": {},
   "outputs": [
    {
     "name": "stdout",
     "output_type": "stream",
     "text": [
      "0.8507042253521127\n"
     ]
    }
   ],
   "source": [
    "clf = AdaBoostClassifier(random_state=2,learning_rate=0.99,n_estimators=80)\n",
    "clf.fit(X_kos, y_kos)\n",
    "pre = clf.predict(X_te)\n",
    "auc_score = roc_auc_score(Y_te,pre)\n",
    "print(auc_score)"
   ]
  },
  {
   "cell_type": "code",
   "execution_count": 15,
   "id": "noted-luxembourg",
   "metadata": {},
   "outputs": [
    {
     "name": "stdout",
     "output_type": "stream",
     "text": [
      "0.8166197183098591\n"
     ]
    }
   ],
   "source": [
    "clf = AdaBoostClassifier(random_state=2,learning_rate=0.99,n_estimators=100)\n",
    "clf.fit(X_kos, y_kos)\n",
    "pre = clf.predict(X_te)\n",
    "auc_score = roc_auc_score(Y_te,pre)\n",
    "print(auc_score)"
   ]
  },
  {
   "cell_type": "code",
   "execution_count": 16,
   "id": "apart-easter",
   "metadata": {},
   "outputs": [
    {
     "name": "stdout",
     "output_type": "stream",
     "text": [
      "0.8107042253521127\n"
     ]
    }
   ],
   "source": [
    "clf = AdaBoostClassifier(random_state=2,learning_rate=0.99,n_estimators=200)\n",
    "clf.fit(X_kos, y_kos)\n",
    "pre = clf.predict(X_te)\n",
    "auc_score = roc_auc_score(Y_te,pre)\n",
    "print(auc_score)"
   ]
  },
  {
   "cell_type": "code",
   "execution_count": 21,
   "id": "appreciated-vegetable",
   "metadata": {},
   "outputs": [
    {
     "name": "stdout",
     "output_type": "stream",
     "text": [
      "0.8977464788732394\n"
     ]
    }
   ],
   "source": [
    "clf = AdaBoostClassifier(random_state=2,learning_rate=0.99,n_estimators=50)\n",
    "clf.fit(X_kos, y_kos)\n",
    "pre = clf.predict(X_te)\n",
    "auc_score = roc_auc_score(Y_te,pre)\n",
    "print(auc_score)"
   ]
  },
  {
   "cell_type": "markdown",
   "id": "proof-nashville",
   "metadata": {},
   "source": [
    "### 提取指标"
   ]
  },
  {
   "cell_type": "code",
   "execution_count": 182,
   "id": "equipped-monaco",
   "metadata": {},
   "outputs": [
    {
     "name": "stdout",
     "output_type": "stream",
     "text": [
      "['DISP_FIX_ASSETS_OTH', 'FOREX_EFFECTS', 'SELL_EXP', 'C_PAID_INVEST', 'FINAN_EXP', 'C_PAID_G_S', 'TAXES_PAYABLE', 'REFUND_OF_TAX', 'INVEST_INCOME', 'OTH_PAYABLE', 'BIZ_TAX_SURCHG', 'NOPERATE_EXP', 'C_PAID_OTH_FINAN_A', 'C_FR_BORR', 'CAPITAL_RESER', 'INT_PAYABLE', 'NOTES_RECEIV', 'OTH_COMPRE_INCOME', 'C_PAID_FOR_TAXES', 'C_INF_FR_OPERATE_A']\n"
     ]
    },
    {
     "data": {
      "text/plain": [
       "<Figure size 432x288 with 0 Axes>"
      ]
     },
     "metadata": {},
     "output_type": "display_data"
    },
    {
     "data": {
      "image/png": "[encoded data removed]",
      "text/plain": [
       "<Figure size 1440x576 with 1 Axes>"
      ]
     },
     "metadata": {
      "needs_background": "light"
     },
     "output_type": "display_data"
    }
   ],
   "source": [
    "clf = AdaBoostClassifier(random_state=2)\n",
    "clf.fit(X_kos, y_kos)\n",
    "pre = clf.predict(X_te)\n",
    "auc_score = roc_auc_score(Y_te,pre)\n",
    "clf.feature_importances_\n",
    "Ada_features = []\n",
    "indices = np.argsort(clf.feature_importances_)[::-1]\n",
    "for i in X_tr.columns.values[:][indices][:20]:\n",
    "    Ada_features.append(i)\n",
    "print(Ada_features)\n",
    "\n",
    "import matplotlib.pyplot as plt\n",
    "import numpy as np\n",
    "\n",
    "indices = np.argsort(clf.feature_importances_)[::-1]  # 先将值按大小排序再提取索引\n",
    "\n",
    "# 绘图过程\n",
    "plt.figure()\n",
    "plt.figure(figsize=(20,8))\n",
    "plt.title(\"Adaboost Feature importances\")\n",
    "\n",
    "plt.rcParams['font.sans-serif'] = ['SimHei']\n",
    "plt.rcParams['axes.unicode_minus'] =False\n",
    "\n",
    "plt.barh(range(20), clf.feature_importances_[indices][:20], height=0.7, color='steelblue', alpha=0.8)      # 从下往上画\n",
    "plt.yticks(range(20), X_kos.columns.values[:][indices][:20])\n",
    "# plt.xlim([0, max(clf.feature_importances_[indices])])\n",
    "plt.savefig('Adaboost.png')\n",
    "plt.show()"
   ]
  },
  {
   "cell_type": "markdown",
   "id": "violent-habitat",
   "metadata": {},
   "source": [
    "## GBDT"
   ]
  },
  {
   "cell_type": "code",
   "execution_count": 158,
   "id": "certified-cookie",
   "metadata": {},
   "outputs": [
    {
     "name": "stdout",
     "output_type": "stream",
     "text": [
      "0.8318309859154929\n"
     ]
    }
   ],
   "source": [
    "import os\n",
    "import pandas as pd\n",
    "from sklearn.ensemble import GradientBoostingClassifier # GBDT\n",
    "import warnings\n",
    "warnings.filterwarnings('ignore')\n",
    "warnings.simplefilter('ignore')\n",
    "from sklearn.metrics import roc_auc_score\n",
    "from sklearn.model_selection import train_test_split\n",
    "from imblearn.over_sampling import SMOTE   # SMOTE采样\n",
    "from imblearn.combine import SMOTETomek   # 综合采样\n",
    "from collections import Counter\n",
    "\n",
    "filelist = os.listdir()\n",
    "csv_list = [x for x in filelist if 'csv' in x]\n",
    "data_rate = pd.read_csv(csv_list[4])\n",
    "data_X = data_rate[~data_rate['FLAG'].isnull()]\n",
    "data_Y = data_rate[data_rate['FLAG'].isnull()]\n",
    "data_X['FLAG'] = data_X['FLAG'].apply(lambda x :int(x))\n",
    "X_1 = data_X[data_X['FLAG']==1]\n",
    "X_0 = data_X[data_X['FLAG']==0].head(240) # .head(240)\n",
    "X_0 = X_0.append(X_1)\n",
    "\n",
    "\n",
    "X_tr, X_te, Y_tr, Y_te = train_test_split(X_0.iloc[:,12:-1],X_0.iloc[:,-1],random_state=1,test_size=0.3)   # 拆分训练集、测试集\n",
    "\n",
    "kos = SMOTETomek(random_state=0)  # 综合采样\n",
    "X_kos, y_kos = kos.fit_resample(X_tr, Y_tr)\n",
    "\n",
    "clf = GradientBoostingClassifier(random_state=2)\n",
    "clf.fit(X_tr, Y_tr)\n",
    "pre = clf.predict(X_te)\n",
    "auc_score = roc_auc_score(Y_te,pre)\n",
    "print(auc_score)"
   ]
  },
  {
   "cell_type": "markdown",
   "id": "numerical-going",
   "metadata": {},
   "source": [
    "### learning_rate "
   ]
  },
  {
   "cell_type": "code",
   "execution_count": 93,
   "id": "tropical-trunk",
   "metadata": {},
   "outputs": [
    {
     "name": "stdout",
     "output_type": "stream",
     "text": [
      "0.8529577464788732\n"
     ]
    }
   ],
   "source": [
    "clf = GradientBoostingClassifier(random_state=2,learning_rate=0.7)\n",
    "clf.fit(X_tr, Y_tr)\n",
    "pre = clf.predict(X_te)\n",
    "auc_score = roc_auc_score(Y_te,pre)\n",
    "print(auc_score)"
   ]
  },
  {
   "cell_type": "code",
   "execution_count": 94,
   "id": "distinguished-queen",
   "metadata": {},
   "outputs": [
    {
     "name": "stdout",
     "output_type": "stream",
     "text": [
      "0.8247887323943661\n"
     ]
    }
   ],
   "source": [
    "clf = GradientBoostingClassifier(random_state=2,learning_rate=0.5)\n",
    "clf.fit(X_tr, Y_tr)\n",
    "pre = clf.predict(X_te)\n",
    "auc_score = roc_auc_score(Y_te,pre)\n",
    "print(auc_score)"
   ]
  },
  {
   "cell_type": "code",
   "execution_count": 95,
   "id": "matched-highlight",
   "metadata": {},
   "outputs": [
    {
     "name": "stdout",
     "output_type": "stream",
     "text": [
      "0.8177464788732394\n"
     ]
    }
   ],
   "source": [
    "clf = GradientBoostingClassifier(random_state=2,learning_rate=0.3)\n",
    "clf.fit(X_tr, Y_tr)\n",
    "pre = clf.predict(X_te)\n",
    "auc_score = roc_auc_score(Y_te,pre)\n",
    "print(auc_score)"
   ]
  },
  {
   "cell_type": "code",
   "execution_count": 96,
   "id": "catholic-skating",
   "metadata": {},
   "outputs": [
    {
     "name": "stdout",
     "output_type": "stream",
     "text": [
      "0.8659154929577465\n"
     ]
    }
   ],
   "source": [
    "clf = GradientBoostingClassifier(random_state=2,learning_rate=0.9)\n",
    "clf.fit(X_tr, Y_tr)\n",
    "pre = clf.predict(X_te)\n",
    "auc_score = roc_auc_score(Y_te,pre)\n",
    "print(auc_score)"
   ]
  },
  {
   "cell_type": "code",
   "execution_count": 97,
   "id": "cognitive-chrome",
   "metadata": {},
   "outputs": [
    {
     "name": "stdout",
     "output_type": "stream",
     "text": [
      "0.8388732394366198\n"
     ]
    }
   ],
   "source": [
    "clf = GradientBoostingClassifier(random_state=2,learning_rate=0.8)\n",
    "clf.fit(X_tr, Y_tr)\n",
    "pre = clf.predict(X_te)\n",
    "auc_score = roc_auc_score(Y_te,pre)\n",
    "print(auc_score)"
   ]
  },
  {
   "cell_type": "markdown",
   "id": "trying-certificate",
   "metadata": {},
   "source": [
    "### n_estimators "
   ]
  },
  {
   "cell_type": "code",
   "execution_count": 103,
   "id": "exotic-beauty",
   "metadata": {},
   "outputs": [
    {
     "name": "stdout",
     "output_type": "stream",
     "text": [
      "0.8659154929577465\n"
     ]
    }
   ],
   "source": [
    "clf = GradientBoostingClassifier(random_state=2,learning_rate=0.9,n_estimators=140)\n",
    "clf.fit(X_tr, Y_tr)\n",
    "pre = clf.predict(X_te)\n",
    "auc_score = roc_auc_score(Y_te,pre)\n",
    "print(auc_score)"
   ]
  },
  {
   "cell_type": "code",
   "execution_count": 104,
   "id": "animated-warning",
   "metadata": {},
   "outputs": [
    {
     "name": "stdout",
     "output_type": "stream",
     "text": [
      "0.8588732394366198\n"
     ]
    }
   ],
   "source": [
    "clf = GradientBoostingClassifier(random_state=2,learning_rate=0.9,n_estimators=90)\n",
    "clf.fit(X_tr, Y_tr)\n",
    "pre = clf.predict(X_te)\n",
    "auc_score = roc_auc_score(Y_te,pre)\n",
    "print(auc_score)"
   ]
  },
  {
   "cell_type": "code",
   "execution_count": 105,
   "id": "hispanic-laugh",
   "metadata": {},
   "outputs": [
    {
     "name": "stdout",
     "output_type": "stream",
     "text": [
      "0.8659154929577465\n"
     ]
    }
   ],
   "source": [
    "clf = GradientBoostingClassifier(random_state=2,learning_rate=0.9,n_estimators=80)\n",
    "clf.fit(X_tr, Y_tr)\n",
    "pre = clf.predict(X_te)\n",
    "auc_score = roc_auc_score(Y_te,pre)\n",
    "print(auc_score)"
   ]
  },
  {
   "cell_type": "code",
   "execution_count": 106,
   "id": "secondary-penalty",
   "metadata": {},
   "outputs": [
    {
     "name": "stdout",
     "output_type": "stream",
     "text": [
      "0.8659154929577465\n"
     ]
    }
   ],
   "source": [
    "clf = GradientBoostingClassifier(random_state=2,learning_rate=0.9,n_estimators=70)\n",
    "clf.fit(X_tr, Y_tr)\n",
    "pre = clf.predict(X_te)\n",
    "auc_score = roc_auc_score(Y_te,pre)\n",
    "print(auc_score)"
   ]
  },
  {
   "cell_type": "markdown",
   "id": "fitted-surname",
   "metadata": {},
   "source": [
    "### min_samples_split "
   ]
  },
  {
   "cell_type": "code",
   "execution_count": 107,
   "id": "impressive-stockholm",
   "metadata": {},
   "outputs": [
    {
     "name": "stdout",
     "output_type": "stream",
     "text": [
      "0.8659154929577465\n"
     ]
    }
   ],
   "source": [
    "clf = GradientBoostingClassifier(random_state=2,learning_rate=0.9,n_estimators=100,min_samples_split=2)\n",
    "clf.fit(X_tr, Y_tr)\n",
    "pre = clf.predict(X_te)\n",
    "auc_score = roc_auc_score(Y_te,pre)\n",
    "print(auc_score)"
   ]
  },
  {
   "cell_type": "code",
   "execution_count": 108,
   "id": "working-selection",
   "metadata": {},
   "outputs": [
    {
     "name": "stdout",
     "output_type": "stream",
     "text": [
      "0.8459154929577465\n"
     ]
    }
   ],
   "source": [
    "clf = GradientBoostingClassifier(random_state=2,learning_rate=0.9,n_estimators=100,min_samples_split=3)\n",
    "clf.fit(X_tr, Y_tr)\n",
    "pre = clf.predict(X_te)\n",
    "auc_score = roc_auc_score(Y_te,pre)\n",
    "print(auc_score)"
   ]
  },
  {
   "cell_type": "code",
   "execution_count": 110,
   "id": "offensive-penalty",
   "metadata": {},
   "outputs": [
    {
     "name": "stdout",
     "output_type": "stream",
     "text": [
      "0.8588732394366198\n"
     ]
    }
   ],
   "source": [
    "clf = GradientBoostingClassifier(random_state=2,learning_rate=0.9,n_estimators=100,min_samples_split=4)\n",
    "clf.fit(X_tr, Y_tr)\n",
    "pre = clf.predict(X_te)\n",
    "auc_score = roc_auc_score(Y_te,pre)\n",
    "print(auc_score)"
   ]
  },
  {
   "cell_type": "code",
   "execution_count": 111,
   "id": "western-yugoslavia",
   "metadata": {},
   "outputs": [
    {
     "name": "stdout",
     "output_type": "stream",
     "text": [
      "0.8588732394366198\n"
     ]
    }
   ],
   "source": [
    "clf = GradientBoostingClassifier(random_state=2,learning_rate=0.9,n_estimators=100,min_samples_split=5)\n",
    "clf.fit(X_tr, Y_tr)\n",
    "pre = clf.predict(X_te)\n",
    "auc_score = roc_auc_score(Y_te,pre)\n",
    "print(auc_score)"
   ]
  },
  {
   "cell_type": "code",
   "execution_count": 112,
   "id": "driving-roots",
   "metadata": {},
   "outputs": [
    {
     "name": "stdout",
     "output_type": "stream",
     "text": [
      "0.8588732394366198\n"
     ]
    }
   ],
   "source": [
    "clf = GradientBoostingClassifier(random_state=2,learning_rate=0.9,n_estimators=100,min_samples_split=6)\n",
    "clf.fit(X_tr, Y_tr)\n",
    "pre = clf.predict(X_te)\n",
    "auc_score = roc_auc_score(Y_te,pre)\n",
    "print(auc_score)"
   ]
  },
  {
   "cell_type": "markdown",
   "id": "efficient-console",
   "metadata": {},
   "source": [
    "### min_samples_leaf "
   ]
  },
  {
   "cell_type": "code",
   "execution_count": 113,
   "id": "aboriginal-behalf",
   "metadata": {},
   "outputs": [
    {
     "name": "stdout",
     "output_type": "stream",
     "text": [
      "0.8659154929577465\n"
     ]
    }
   ],
   "source": [
    "clf = GradientBoostingClassifier(random_state=2,learning_rate=0.9,n_estimators=100,min_samples_split=2,min_samples_leaf=1)\n",
    "clf.fit(X_tr, Y_tr)\n",
    "pre = clf.predict(X_te)\n",
    "auc_score = roc_auc_score(Y_te,pre)\n",
    "print(auc_score)"
   ]
  },
  {
   "cell_type": "code",
   "execution_count": 114,
   "id": "victorian-bonus",
   "metadata": {},
   "outputs": [
    {
     "name": "stdout",
     "output_type": "stream",
     "text": [
      "0.8318309859154929\n"
     ]
    }
   ],
   "source": [
    "clf = GradientBoostingClassifier(random_state=2,learning_rate=0.9,n_estimators=100,min_samples_split=2,min_samples_leaf=2)\n",
    "clf.fit(X_tr, Y_tr)\n",
    "pre = clf.predict(X_te)\n",
    "auc_score = roc_auc_score(Y_te,pre)\n",
    "print(auc_score)"
   ]
  },
  {
   "cell_type": "code",
   "execution_count": 115,
   "id": "sunrise-percentage",
   "metadata": {},
   "outputs": [
    {
     "name": "stdout",
     "output_type": "stream",
     "text": [
      "0.8318309859154929\n"
     ]
    }
   ],
   "source": [
    "clf = GradientBoostingClassifier(random_state=2,learning_rate=0.9,n_estimators=100,min_samples_split=2,min_samples_leaf=3)\n",
    "clf.fit(X_tr, Y_tr)\n",
    "pre = clf.predict(X_te)\n",
    "auc_score = roc_auc_score(Y_te,pre)\n",
    "print(auc_score)"
   ]
  },
  {
   "cell_type": "code",
   "execution_count": 116,
   "id": "massive-square",
   "metadata": {},
   "outputs": [
    {
     "name": "stdout",
     "output_type": "stream",
     "text": [
      "0.6484507042253521\n"
     ]
    }
   ],
   "source": [
    "clf = GradientBoostingClassifier(random_state=2,learning_rate=0.9,n_estimators=100,min_samples_split=2,min_samples_leaf=0.5)\n",
    "clf.fit(X_tr, Y_tr)\n",
    "pre = clf.predict(X_te)\n",
    "auc_score = roc_auc_score(Y_te,pre)\n",
    "print(auc_score)"
   ]
  },
  {
   "cell_type": "markdown",
   "id": "informative-pension",
   "metadata": {},
   "source": [
    "### min_weight_fraction_leaf"
   ]
  },
  {
   "cell_type": "code",
   "execution_count": 121,
   "id": "alpha-auditor",
   "metadata": {},
   "outputs": [
    {
     "name": "stdout",
     "output_type": "stream",
     "text": [
      "0.8659154929577465\n"
     ]
    }
   ],
   "source": [
    "clf = GradientBoostingClassifier(random_state=2,learning_rate=0.9,n_estimators=100,min_samples_split=2,min_samples_leaf=1,min_weight_fraction_leaf=0)\n",
    "clf.fit(X_tr, Y_tr)\n",
    "pre = clf.predict(X_te)\n",
    "auc_score = roc_auc_score(Y_te,pre)\n",
    "print(auc_score)"
   ]
  },
  {
   "cell_type": "code",
   "execution_count": 122,
   "id": "peaceful-fabric",
   "metadata": {},
   "outputs": [
    {
     "name": "stdout",
     "output_type": "stream",
     "text": [
      "0.6425352112676056\n"
     ]
    }
   ],
   "source": [
    "clf = GradientBoostingClassifier(random_state=2,learning_rate=0.9,n_estimators=100,min_samples_split=2,min_samples_leaf=1,min_weight_fraction_leaf=0.2)\n",
    "clf.fit(X_tr, Y_tr)\n",
    "pre = clf.predict(X_te)\n",
    "auc_score = roc_auc_score(Y_te,pre)\n",
    "print(auc_score)"
   ]
  },
  {
   "cell_type": "code",
   "execution_count": 123,
   "id": "optimum-preservation",
   "metadata": {},
   "outputs": [
    {
     "name": "stdout",
     "output_type": "stream",
     "text": [
      "0.8247887323943661\n"
     ]
    }
   ],
   "source": [
    "clf = GradientBoostingClassifier(random_state=2,learning_rate=0.9,n_estimators=100,min_samples_split=2,min_samples_leaf=1,min_weight_fraction_leaf=0.1)\n",
    "clf.fit(X_tr, Y_tr)\n",
    "pre = clf.predict(X_te)\n",
    "auc_score = roc_auc_score(Y_te,pre)\n",
    "print(auc_score)"
   ]
  },
  {
   "cell_type": "code",
   "execution_count": 124,
   "id": "auburn-warning",
   "metadata": {},
   "outputs": [
    {
     "name": "stdout",
     "output_type": "stream",
     "text": [
      "0.6484507042253521\n"
     ]
    }
   ],
   "source": [
    "clf = GradientBoostingClassifier(random_state=2,learning_rate=0.9,n_estimators=100,min_samples_split=2,min_samples_leaf=1,min_weight_fraction_leaf=0.5)\n",
    "clf.fit(X_tr, Y_tr)\n",
    "pre = clf.predict(X_te)\n",
    "auc_score = roc_auc_score(Y_te,pre)\n",
    "print(auc_score)"
   ]
  },
  {
   "cell_type": "markdown",
   "id": "automotive-dance",
   "metadata": {},
   "source": [
    "### max_depth "
   ]
  },
  {
   "cell_type": "code",
   "execution_count": 125,
   "id": "contrary-bridge",
   "metadata": {},
   "outputs": [
    {
     "name": "stdout",
     "output_type": "stream",
     "text": [
      "0.8659154929577465\n"
     ]
    }
   ],
   "source": [
    "clf = GradientBoostingClassifier(random_state=2,learning_rate=0.9,n_estimators=100,min_samples_split=2,\n",
    "                                 min_samples_leaf=1,min_weight_fraction_leaf=0,max_depth=3)\n",
    "clf.fit(X_tr, Y_tr)\n",
    "pre = clf.predict(X_te)\n",
    "auc_score = roc_auc_score(Y_te,pre)\n",
    "print(auc_score)"
   ]
  },
  {
   "cell_type": "code",
   "execution_count": 126,
   "id": "neutral-laser",
   "metadata": {},
   "outputs": [
    {
     "name": "stdout",
     "output_type": "stream",
     "text": [
      "0.8247887323943661\n"
     ]
    }
   ],
   "source": [
    "clf = GradientBoostingClassifier(random_state=2,learning_rate=0.9,n_estimators=100,min_samples_split=2,\n",
    "                                 min_samples_leaf=1,min_weight_fraction_leaf=0,max_depth=4)\n",
    "clf.fit(X_tr, Y_tr)\n",
    "pre = clf.predict(X_te)\n",
    "auc_score = roc_auc_score(Y_te,pre)\n",
    "print(auc_score)"
   ]
  },
  {
   "cell_type": "code",
   "execution_count": 127,
   "id": "cellular-falls",
   "metadata": {},
   "outputs": [
    {
     "name": "stdout",
     "output_type": "stream",
     "text": [
      "0.8447887323943661\n"
     ]
    }
   ],
   "source": [
    "clf = GradientBoostingClassifier(random_state=2,learning_rate=0.9,n_estimators=100,min_samples_split=2,\n",
    "                                 min_samples_leaf=1,min_weight_fraction_leaf=0,max_depth=5)\n",
    "clf.fit(X_tr, Y_tr)\n",
    "pre = clf.predict(X_te)\n",
    "auc_score = roc_auc_score(Y_te,pre)\n",
    "print(auc_score)"
   ]
  },
  {
   "cell_type": "code",
   "execution_count": 128,
   "id": "tested-efficiency",
   "metadata": {},
   "outputs": [
    {
     "name": "stdout",
     "output_type": "stream",
     "text": [
      "0.8259154929577467\n"
     ]
    }
   ],
   "source": [
    "clf = GradientBoostingClassifier(random_state=2,learning_rate=0.9,n_estimators=100,min_samples_split=2,\n",
    "                                 min_samples_leaf=1,min_weight_fraction_leaf=0,max_depth=6)\n",
    "clf.fit(X_tr, Y_tr)\n",
    "pre = clf.predict(X_te)\n",
    "auc_score = roc_auc_score(Y_te,pre)\n",
    "print(auc_score)"
   ]
  },
  {
   "cell_type": "code",
   "execution_count": 129,
   "id": "opened-senator",
   "metadata": {},
   "outputs": [
    {
     "name": "stdout",
     "output_type": "stream",
     "text": [
      "0.7307042253521127\n"
     ]
    }
   ],
   "source": [
    "clf = GradientBoostingClassifier(random_state=2,learning_rate=0.9,n_estimators=100,min_samples_split=2,\n",
    "                                 min_samples_leaf=1,min_weight_fraction_leaf=0,max_depth=7)\n",
    "clf.fit(X_tr, Y_tr)\n",
    "pre = clf.predict(X_te)\n",
    "auc_score = roc_auc_score(Y_te,pre)\n",
    "print(auc_score)"
   ]
  },
  {
   "cell_type": "markdown",
   "id": "romantic-illustration",
   "metadata": {},
   "source": [
    "### min_impurity_decrease"
   ]
  },
  {
   "cell_type": "code",
   "execution_count": 130,
   "id": "automotive-senator",
   "metadata": {},
   "outputs": [
    {
     "name": "stdout",
     "output_type": "stream",
     "text": [
      "0.8659154929577465\n"
     ]
    }
   ],
   "source": [
    "clf = GradientBoostingClassifier(random_state=2,learning_rate=0.9,n_estimators=100,min_samples_split=2,\n",
    "                                 min_samples_leaf=1,min_weight_fraction_leaf=0,max_depth=3,min_impurity_decrease=0)\n",
    "clf.fit(X_tr, Y_tr)\n",
    "pre = clf.predict(X_te)\n",
    "auc_score = roc_auc_score(Y_te,pre)\n",
    "print(auc_score)"
   ]
  },
  {
   "cell_type": "code",
   "execution_count": 131,
   "id": "applied-findings",
   "metadata": {},
   "outputs": [
    {
     "name": "stdout",
     "output_type": "stream",
     "text": [
      "0.811830985915493\n"
     ]
    }
   ],
   "source": [
    "clf = GradientBoostingClassifier(random_state=2,learning_rate=0.9,n_estimators=100,min_samples_split=2,\n",
    "                                 min_samples_leaf=1,min_weight_fraction_leaf=0,max_depth=3,min_impurity_decrease=0.1)\n",
    "clf.fit(X_tr, Y_tr)\n",
    "pre = clf.predict(X_te)\n",
    "auc_score = roc_auc_score(Y_te,pre)\n",
    "print(auc_score)"
   ]
  },
  {
   "cell_type": "code",
   "execution_count": 132,
   "id": "affecting-aging",
   "metadata": {},
   "outputs": [
    {
     "name": "stdout",
     "output_type": "stream",
     "text": [
      "0.811830985915493\n"
     ]
    }
   ],
   "source": [
    "clf = GradientBoostingClassifier(random_state=2,learning_rate=0.9,n_estimators=100,min_samples_split=2,\n",
    "                                 min_samples_leaf=1,min_weight_fraction_leaf=0,max_depth=3,min_impurity_decrease=0.2)\n",
    "clf.fit(X_tr, Y_tr)\n",
    "pre = clf.predict(X_te)\n",
    "auc_score = roc_auc_score(Y_te,pre)\n",
    "print(auc_score)"
   ]
  },
  {
   "cell_type": "code",
   "execution_count": 133,
   "id": "historical-fusion",
   "metadata": {},
   "outputs": [
    {
     "name": "stdout",
     "output_type": "stream",
     "text": [
      "0.8447887323943661\n"
     ]
    }
   ],
   "source": [
    "clf = GradientBoostingClassifier(random_state=2,learning_rate=0.9,n_estimators=100,min_samples_split=2,\n",
    "                                 min_samples_leaf=1,min_weight_fraction_leaf=0,max_depth=3,min_impurity_decrease=0.3)\n",
    "clf.fit(X_tr, Y_tr)\n",
    "pre = clf.predict(X_te)\n",
    "auc_score = roc_auc_score(Y_te,pre)\n",
    "print(auc_score)"
   ]
  },
  {
   "cell_type": "code",
   "execution_count": 134,
   "id": "heavy-quarter",
   "metadata": {},
   "outputs": [
    {
     "name": "stdout",
     "output_type": "stream",
     "text": [
      "0.8447887323943661\n"
     ]
    }
   ],
   "source": [
    "clf = GradientBoostingClassifier(random_state=2,learning_rate=0.9,n_estimators=100,min_samples_split=2,\n",
    "                                 min_samples_leaf=1,min_weight_fraction_leaf=0,max_depth=3,min_impurity_decrease=0.4)\n",
    "clf.fit(X_tr, Y_tr)\n",
    "pre = clf.predict(X_te)\n",
    "auc_score = roc_auc_score(Y_te,pre)\n",
    "print(auc_score)"
   ]
  },
  {
   "cell_type": "code",
   "execution_count": 135,
   "id": "colonial-skill",
   "metadata": {},
   "outputs": [
    {
     "name": "stdout",
     "output_type": "stream",
     "text": [
      "0.8588732394366198\n"
     ]
    }
   ],
   "source": [
    "clf = GradientBoostingClassifier(random_state=2,learning_rate=0.9,n_estimators=100,min_samples_split=2,\n",
    "                                 min_samples_leaf=1,min_weight_fraction_leaf=0,max_depth=3,min_impurity_decrease=0.5)\n",
    "clf.fit(X_tr, Y_tr)\n",
    "pre = clf.predict(X_te)\n",
    "auc_score = roc_auc_score(Y_te,pre)\n",
    "print(auc_score)"
   ]
  },
  {
   "cell_type": "code",
   "execution_count": 136,
   "id": "cooked-darwin",
   "metadata": {},
   "outputs": [
    {
     "name": "stdout",
     "output_type": "stream",
     "text": [
      "0.8388732394366198\n"
     ]
    }
   ],
   "source": [
    "clf = GradientBoostingClassifier(random_state=2,learning_rate=0.9,n_estimators=100,min_samples_split=2,\n",
    "                                 min_samples_leaf=1,min_weight_fraction_leaf=0,max_depth=3,min_impurity_decrease=0.6)\n",
    "clf.fit(X_tr, Y_tr)\n",
    "pre = clf.predict(X_te)\n",
    "auc_score = roc_auc_score(Y_te,pre)\n",
    "print(auc_score)"
   ]
  },
  {
   "cell_type": "markdown",
   "id": "suspended-prediction",
   "metadata": {},
   "source": [
    "### 提取指标"
   ]
  },
  {
   "cell_type": "code",
   "execution_count": 183,
   "id": "discrete-inside",
   "metadata": {},
   "outputs": [
    {
     "name": "stdout",
     "output_type": "stream",
     "text": [
      "['GOING_CONCERN_NI', 'RETAINED_EARNINGS', 'C_PAID_FOR_TAXES', 'FOREX_EFFECTS', 'OTH_COMPR_INCOME', 'N_CHANGE_IN_CASH', 'MINORITY_GAIN', 'C_INF_FR_OPERATE_A', 'ASSETS_IMPAIR_LOSS', 'N_INCOME', 'OPERATE_PROFIT', 'BASIC_EPS', 'N_CF_FR_FINAN_A', 'N_CF_FR_INVEST_A', 'LT_EQUITY_INVEST', 'INVEST_INCOME', 'MINORITY_INT', 'C_PAID_INVEST', 'OTH_COMPRE_INCOME', 'C_PAID_OTH_FINAN_A']\n"
     ]
    },
    {
     "data": {
      "text/plain": [
       "<Figure size 432x288 with 0 Axes>"
      ]
     },
     "metadata": {},
     "output_type": "display_data"
    },
    {
     "data": {
      "image/png": "[encoded data removed]",
      "text/plain": [
       "<Figure size 1440x576 with 1 Axes>"
      ]
     },
     "metadata": {
      "needs_background": "light"
     },
     "output_type": "display_data"
    }
   ],
   "source": [
    "clf = GradientBoostingClassifier(random_state=2,learning_rate=0.9,n_estimators=100,min_samples_split=2,\n",
    "                                 min_samples_leaf=1,min_weight_fraction_leaf=0,max_depth=3,min_impurity_decrease=0)\n",
    "clf.fit(X_tr, Y_tr)\n",
    "GBDT_features = []\n",
    "indices = np.argsort(clf.feature_importances_)[::-1]\n",
    "for i in X_tr.columns.values[:][indices][:20]:\n",
    "    GBDT_features.append(i)\n",
    "print(GBDT_features)\n",
    "indices = np.argsort(clf.feature_importances_)[::-1]  # 先将值按大小排序再提取索引\n",
    "\n",
    "# 绘图过程\n",
    "plt.figure()\n",
    "plt.figure(figsize=(20,8))\n",
    "plt.title(\"GBDT Feature importances\")\n",
    "\n",
    "plt.rcParams['font.sans-serif'] = ['SimHei']\n",
    "plt.rcParams['axes.unicode_minus'] =False\n",
    "\n",
    "plt.barh(range(20), clf.feature_importances_[indices][:20], height=0.7, color='steelblue', alpha=0.8)      # 从下往上画\n",
    "plt.yticks(range(20), X_kos.columns.values[:][indices][:20])\n",
    "# plt.xlim([0, max(clf.feature_importances_[indices])])\n",
    "plt.savefig('GBDT.png')\n",
    "plt.show()"
   ]
  },
  {
   "cell_type": "markdown",
   "id": "global-tulsa",
   "metadata": {},
   "source": [
    "## RF"
   ]
  },
  {
   "cell_type": "code",
   "execution_count": 111,
   "id": "coral-vermont",
   "metadata": {},
   "outputs": [
    {
     "name": "stdout",
     "output_type": "stream",
     "text": [
      "0.7729577464788733\n"
     ]
    }
   ],
   "source": [
    "import os\n",
    "import pandas as pd\n",
    "from sklearn.ensemble import RandomForestClassifier  # 随机森林\n",
    "import warnings\n",
    "warnings.filterwarnings('ignore')\n",
    "warnings.simplefilter('ignore')\n",
    "from sklearn.metrics import roc_auc_score\n",
    "from sklearn.model_selection import train_test_split\n",
    "from imblearn.over_sampling import SMOTE   # SMOTE采样\n",
    "from imblearn.combine import SMOTETomek   # 综合采样\n",
    "from collections import Counter\n",
    "\n",
    "filelist = os.listdir()\n",
    "csv_list = [x for x in filelist if 'csv' in x]\n",
    "data_rate = pd.read_csv(csv_list[4])\n",
    "data_X = data_rate[~data_rate['FLAG'].isnull()]\n",
    "data_Y = data_rate[data_rate['FLAG'].isnull()]\n",
    "data_X['FLAG'] = data_X['FLAG'].apply(lambda x :int(x))\n",
    "X_1 = data_X[data_X['FLAG']==1]\n",
    "X_0 = data_X[data_X['FLAG']==0].head(240) # .head(240)\n",
    "X_0 = X_0.append(X_1)\n",
    "\n",
    "\n",
    "X_tr, X_te, Y_tr, Y_te = train_test_split(X_0.iloc[:,12:-1],X_0.iloc[:,-1],random_state=1,test_size=0.3)   # 拆分训练集、测试集\n",
    "\n",
    "kos = SMOTETomek(random_state=0)  # 综合采样\n",
    "X_kos, y_kos = kos.fit_resample(X_tr, Y_tr)\n",
    "\n",
    "clf = RandomForestClassifier(random_state=2)\n",
    "clf.fit(X_tr, Y_tr)\n",
    "pre = clf.predict(X_te)\n",
    "auc_score = roc_auc_score(Y_te,pre)\n",
    "print(auc_score)"
   ]
  },
  {
   "cell_type": "markdown",
   "id": "involved-liechtenstein",
   "metadata": {},
   "source": [
    "### max_depth "
   ]
  },
  {
   "cell_type": "code",
   "execution_count": 112,
   "id": "brief-service",
   "metadata": {},
   "outputs": [
    {
     "name": "stdout",
     "output_type": "stream",
     "text": [
      "0.7529577464788733\n"
     ]
    }
   ],
   "source": [
    "clf = RandomForestClassifier(random_state=2,max_depth=11)\n",
    "clf.fit(X_tr, Y_tr)\n",
    "pre = clf.predict(X_te)\n",
    "auc_score = roc_auc_score(Y_te,pre)\n",
    "print(auc_score)"
   ]
  },
  {
   "cell_type": "code",
   "execution_count": 113,
   "id": "threaded-staff",
   "metadata": {},
   "outputs": [
    {
     "name": "stdout",
     "output_type": "stream",
     "text": [
      "0.7529577464788733\n"
     ]
    }
   ],
   "source": [
    "clf = RandomForestClassifier(random_state=2,max_depth=9)\n",
    "clf.fit(X_tr, Y_tr)\n",
    "pre = clf.predict(X_te)\n",
    "auc_score = roc_auc_score(Y_te,pre)\n",
    "print(auc_score)"
   ]
  },
  {
   "cell_type": "code",
   "execution_count": 114,
   "id": "historic-rebecca",
   "metadata": {},
   "outputs": [
    {
     "name": "stdout",
     "output_type": "stream",
     "text": [
      "0.7129577464788732\n"
     ]
    }
   ],
   "source": [
    "clf = RandomForestClassifier(random_state=2,max_depth=5)\n",
    "clf.fit(X_tr, Y_tr)\n",
    "pre = clf.predict(X_te)\n",
    "auc_score = roc_auc_score(Y_te,pre)\n",
    "print(auc_score)"
   ]
  },
  {
   "cell_type": "code",
   "execution_count": 115,
   "id": "seventh-supervisor",
   "metadata": {},
   "outputs": [
    {
     "name": "stdout",
     "output_type": "stream",
     "text": [
      "0.7529577464788733\n"
     ]
    }
   ],
   "source": [
    "clf = RandomForestClassifier(random_state=2,max_depth=7)\n",
    "clf.fit(X_tr, Y_tr)\n",
    "pre = clf.predict(X_te)\n",
    "auc_score = roc_auc_score(Y_te,pre)\n",
    "print(auc_score)"
   ]
  },
  {
   "cell_type": "code",
   "execution_count": 116,
   "id": "demographic-exemption",
   "metadata": {},
   "outputs": [
    {
     "name": "stdout",
     "output_type": "stream",
     "text": [
      "0.7529577464788733\n"
     ]
    }
   ],
   "source": [
    "clf = RandomForestClassifier(random_state=2,max_depth=11)\n",
    "clf.fit(X_tr, Y_tr)\n",
    "pre = clf.predict(X_te)\n",
    "auc_score = roc_auc_score(Y_te,pre)\n",
    "print(auc_score)"
   ]
  },
  {
   "cell_type": "code",
   "execution_count": 117,
   "id": "prescribed-brunei",
   "metadata": {},
   "outputs": [
    {
     "name": "stdout",
     "output_type": "stream",
     "text": [
      "0.7529577464788733\n"
     ]
    }
   ],
   "source": [
    "clf = RandomForestClassifier(random_state=2,max_depth=12)\n",
    "clf.fit(X_tr, Y_tr)\n",
    "pre = clf.predict(X_te)\n",
    "auc_score = roc_auc_score(Y_te,pre)\n",
    "print(auc_score)"
   ]
  },
  {
   "cell_type": "markdown",
   "id": "demonstrated-arnold",
   "metadata": {},
   "source": [
    "### n_estimators "
   ]
  },
  {
   "cell_type": "code",
   "execution_count": 118,
   "id": "universal-bicycle",
   "metadata": {},
   "outputs": [
    {
     "name": "stdout",
     "output_type": "stream",
     "text": [
      "0.7788732394366198\n"
     ]
    }
   ],
   "source": [
    "clf = RandomForestClassifier(random_state=2,max_depth=None,n_estimators=150)\n",
    "clf.fit(X_tr, Y_tr)\n",
    "pre = clf.predict(X_te)\n",
    "auc_score = roc_auc_score(Y_te,pre)\n",
    "print(auc_score)"
   ]
  },
  {
   "cell_type": "code",
   "execution_count": 119,
   "id": "spoken-truck",
   "metadata": {},
   "outputs": [
    {
     "name": "stdout",
     "output_type": "stream",
     "text": [
      "0.8129577464788733\n"
     ]
    }
   ],
   "source": [
    "clf = RandomForestClassifier(random_state=2,max_depth=None,n_estimators=120)\n",
    "clf.fit(X_tr, Y_tr)\n",
    "pre = clf.predict(X_te)\n",
    "auc_score = roc_auc_score(Y_te,pre)\n",
    "print(auc_score)"
   ]
  },
  {
   "cell_type": "code",
   "execution_count": 120,
   "id": "right-patrick",
   "metadata": {},
   "outputs": [
    {
     "name": "stdout",
     "output_type": "stream",
     "text": [
      "0.7929577464788733\n"
     ]
    }
   ],
   "source": [
    "clf = RandomForestClassifier(random_state=2,max_depth=None,n_estimators=110)\n",
    "clf.fit(X_tr, Y_tr)\n",
    "pre = clf.predict(X_te)\n",
    "auc_score = roc_auc_score(Y_te,pre)\n",
    "print(auc_score)"
   ]
  },
  {
   "cell_type": "code",
   "execution_count": 121,
   "id": "extensive-blast",
   "metadata": {},
   "outputs": [
    {
     "name": "stdout",
     "output_type": "stream",
     "text": [
      "0.8059154929577466\n"
     ]
    }
   ],
   "source": [
    "clf = RandomForestClassifier(random_state=2,max_depth=None,n_estimators=130)\n",
    "clf.fit(X_tr, Y_tr)\n",
    "pre = clf.predict(X_te)\n",
    "auc_score = roc_auc_score(Y_te,pre)\n",
    "print(auc_score)"
   ]
  },
  {
   "cell_type": "code",
   "execution_count": 122,
   "id": "smooth-institute",
   "metadata": {},
   "outputs": [
    {
     "name": "stdout",
     "output_type": "stream",
     "text": [
      "0.8059154929577466\n"
     ]
    }
   ],
   "source": [
    "clf = RandomForestClassifier(random_state=2,max_depth=None,n_estimators=140)\n",
    "clf.fit(X_tr, Y_tr)\n",
    "pre = clf.predict(X_te)\n",
    "auc_score = roc_auc_score(Y_te,pre)\n",
    "print(auc_score)"
   ]
  },
  {
   "cell_type": "code",
   "execution_count": 123,
   "id": "lasting-leather",
   "metadata": {},
   "outputs": [
    {
     "name": "stdout",
     "output_type": "stream",
     "text": [
      "0.7988732394366198\n"
     ]
    }
   ],
   "source": [
    "clf = RandomForestClassifier(random_state=2,max_depth=None,n_estimators=200)\n",
    "clf.fit(X_tr, Y_tr)\n",
    "pre = clf.predict(X_te)\n",
    "auc_score = roc_auc_score(Y_te,pre)\n",
    "print(auc_score)"
   ]
  },
  {
   "cell_type": "code",
   "execution_count": 124,
   "id": "consolidated-weapon",
   "metadata": {},
   "outputs": [
    {
     "name": "stdout",
     "output_type": "stream",
     "text": [
      "0.7988732394366198\n"
     ]
    }
   ],
   "source": [
    "clf = RandomForestClassifier(random_state=2,max_depth=None,n_estimators=500)\n",
    "clf.fit(X_tr, Y_tr)\n",
    "pre = clf.predict(X_te)\n",
    "auc_score = roc_auc_score(Y_te,pre)\n",
    "print(auc_score)"
   ]
  },
  {
   "cell_type": "code",
   "execution_count": 125,
   "id": "inappropriate-positive",
   "metadata": {},
   "outputs": [
    {
     "name": "stdout",
     "output_type": "stream",
     "text": [
      "0.7659154929577465\n"
     ]
    }
   ],
   "source": [
    "clf = RandomForestClassifier(random_state=2,max_depth=None,n_estimators=1000)\n",
    "clf.fit(X_tr, Y_tr)\n",
    "pre = clf.predict(X_te)\n",
    "auc_score = roc_auc_score(Y_te,pre)\n",
    "print(auc_score)"
   ]
  },
  {
   "cell_type": "code",
   "execution_count": 129,
   "id": "possible-aspect",
   "metadata": {},
   "outputs": [
    {
     "name": "stdout",
     "output_type": "stream",
     "text": [
      "0.8129577464788733\n"
     ]
    }
   ],
   "source": [
    "clf = RandomForestClassifier(random_state=2,max_depth=None,n_estimators=120,max_features='sqrt')\n",
    "clf.fit(X_tr, Y_tr)\n",
    "pre = clf.predict(X_te)\n",
    "auc_score = roc_auc_score(Y_te,pre)\n",
    "print(auc_score)"
   ]
  },
  {
   "cell_type": "code",
   "execution_count": 130,
   "id": "radical-digit",
   "metadata": {},
   "outputs": [
    {
     "name": "stdout",
     "output_type": "stream",
     "text": [
      "0.7259154929577465\n"
     ]
    }
   ],
   "source": [
    "clf = RandomForestClassifier(random_state=2,max_depth=None,n_estimators=120,criterion='entropy')\n",
    "clf.fit(X_tr, Y_tr)\n",
    "pre = clf.predict(X_te)\n",
    "auc_score = roc_auc_score(Y_te,pre)\n",
    "print(auc_score)"
   ]
  },
  {
   "cell_type": "markdown",
   "id": "spare-visit",
   "metadata": {},
   "source": [
    "### 提取指标"
   ]
  },
  {
   "cell_type": "code",
   "execution_count": 184,
   "id": "attractive-state",
   "metadata": {},
   "outputs": [
    {
     "name": "stdout",
     "output_type": "stream",
     "text": [
      "['GOING_CONCERN_NI', 'RETAINED_EARNINGS', 'C_PAID_FOR_TAXES', 'FOREX_EFFECTS', 'OTH_COMPR_INCOME', 'N_CHANGE_IN_CASH', 'MINORITY_GAIN', 'C_INF_FR_OPERATE_A', 'ASSETS_IMPAIR_LOSS', 'N_INCOME', 'OPERATE_PROFIT', 'BASIC_EPS', 'N_CF_FR_FINAN_A', 'N_CF_FR_INVEST_A', 'LT_EQUITY_INVEST', 'INVEST_INCOME', 'MINORITY_INT', 'C_PAID_INVEST', 'OTH_COMPRE_INCOME', 'C_PAID_OTH_FINAN_A', 'GOING_CONCERN_NI', 'FOREX_EFFECTS', 'RETAINED_EARNINGS', 'BASIC_EPS', 'DILUTED_EPS', 'N_CHANGE_IN_CASH', 'PAID_IN_CAPITAL', 'COMPR_INC_ATTR_M_S', 'OPERATE_PROFIT', 'OTH_PAYABLE', 'REVENUE', 'INCOME_TAX', 'MINORITY_GAIN', 'T_PROFIT', 'C_OUTF_FR_INVEST_A', 'T_NCL', 'ASSETS_IMPAIR_LOSS', 'PAYROLL_PAYABLE', 'DISP_FIX_ASSETS_OTH', 'C_FR_SALE_G_S']\n"
     ]
    },
    {
     "data": {
      "text/plain": [
       "<Figure size 432x288 with 0 Axes>"
      ]
     },
     "metadata": {},
     "output_type": "display_data"
    },
    {
     "data": {
      "image/png": "[encoded data removed]",
      "text/plain": [
       "<Figure size 1440x576 with 1 Axes>"
      ]
     },
     "metadata": {
      "needs_background": "light"
     },
     "output_type": "display_data"
    }
   ],
   "source": [
    "clf = RandomForestClassifier(random_state=2,max_depth=None,n_estimators=120)\n",
    "clf.fit(X_tr, Y_tr)\n",
    "RF_features = []\n",
    "indices = np.argsort(clf.feature_importances_)[::-1]\n",
    "for i in X_tr.columns.values[:][indices][:20]:\n",
    "    GBDT_features.append(i)\n",
    "print(GBDT_features)\n",
    "indices = np.argsort(clf.feature_importances_)[::-1]  # 先将值按大小排序再提取索引\n",
    "\n",
    "# 绘图过程\n",
    "plt.figure()\n",
    "plt.figure(figsize=(20,8))\n",
    "plt.title(\"RF Feature importances\")\n",
    "\n",
    "plt.rcParams['font.sans-serif'] = ['SimHei']\n",
    "plt.rcParams['axes.unicode_minus'] =False\n",
    "\n",
    "plt.barh(range(20), clf.feature_importances_[indices][:20], height=0.7, color='steelblue', alpha=0.8)      # 从下往上画\n",
    "plt.yticks(range(20), X_kos.columns.values[:][indices][:20])\n",
    "# plt.xlim([0, max(clf.feature_importances_[indices])])\n",
    "plt.savefig('RF.png')\n",
    "plt.show()"
   ]
  },
  {
   "cell_type": "markdown",
   "id": "complete-romania",
   "metadata": {},
   "source": [
    "# 预测"
   ]
  },
  {
   "cell_type": "code",
   "execution_count": 136,
   "id": "upset-badge",
   "metadata": {},
   "outputs": [
    {
     "data": {
      "text/plain": [
       "'农、林、牧、渔业'"
      ]
     },
     "execution_count": 136,
     "metadata": {},
     "output_type": "execute_result"
    }
   ],
   "source": [
    "filelist = os.listdir()\n",
    "\n",
    "csv_list = [x for x in filelist if 'csv' in x]\n",
    "csv_list[3][:-11]"
   ]
  },
  {
   "cell_type": "code",
   "execution_count": 152,
   "id": "figured-meter",
   "metadata": {},
   "outputs": [
    {
     "name": "stdout",
     "output_type": "stream",
     "text": [
      "['交通运输、仓储和邮政业清洗完成的数据.csv', '住宿和餐饮业清洗完成的数据.csv', '信息传输、软件和信息技术服务业清洗完成的数据.csv', '农、林、牧、渔业清洗完成的数据.csv', '卫生和社会工作清洗完成的数据.csv', '居民服务、修理和其他服务业清洗完成的数据.csv', '建筑业清洗完成的数据.csv', '房地产业清洗完成的数据.csv', '批发和零售业清洗完成的数据.csv', '教育清洗完成的数据.csv', '文化、体育和娱乐业清洗完成的数据.csv', '水利、环境和公共设施管理业清洗完成的数据.csv', '电力、热力、燃气及水生产和供应业清洗完成的数据.csv', '科学研究和技术服务业清洗完成的数据.csv', '租赁和商务服务业清洗完成的数据.csv', '综合清洗完成的数据.csv', '采矿业清洗完成的数据.csv', '金融业清洗完成的数据.csv']\n",
      "交通运输、仓储和邮政业清洗完成的数据.csv\n"
     ]
    },
    {
     "ename": "ValueError",
     "evalue": "Expected n_neighbors <= n_samples,  but n_samples = 3, n_neighbors = 6",
     "output_type": "error",
     "traceback": [
      "\u001b[1;31m---------------------------------------------------------------------------\u001b[0m",
      "\u001b[1;31mValueError\u001b[0m                                Traceback (most recent call last)",
      "\u001b[1;32m<ipython-input-152-131595a4f84a>\u001b[0m in \u001b[0;36m<module>\u001b[1;34m\u001b[0m\n\u001b[0;32m     50\u001b[0m \u001b[1;33m\u001b[0m\u001b[0m\n\u001b[0;32m     51\u001b[0m     \u001b[0msos\u001b[0m \u001b[1;33m=\u001b[0m \u001b[0mSMOTE\u001b[0m\u001b[1;33m(\u001b[0m\u001b[0mrandom_state\u001b[0m\u001b[1;33m=\u001b[0m\u001b[1;36m0\u001b[0m\u001b[1;33m)\u001b[0m  \u001b[1;31m# SMOTE采样\u001b[0m\u001b[1;33m\u001b[0m\u001b[1;33m\u001b[0m\u001b[0m\n\u001b[1;32m---> 52\u001b[1;33m     \u001b[0mX_sos\u001b[0m\u001b[1;33m,\u001b[0m \u001b[0my_sos\u001b[0m \u001b[1;33m=\u001b[0m \u001b[0msos\u001b[0m\u001b[1;33m.\u001b[0m\u001b[0mfit_resample\u001b[0m\u001b[1;33m(\u001b[0m\u001b[0mX_tr\u001b[0m\u001b[1;33m,\u001b[0m \u001b[0mY_tr\u001b[0m\u001b[1;33m)\u001b[0m\u001b[1;33m\u001b[0m\u001b[1;33m\u001b[0m\u001b[0m\n\u001b[0m\u001b[0;32m     53\u001b[0m \u001b[1;33m\u001b[0m\u001b[0m\n\u001b[0;32m     54\u001b[0m \u001b[1;33m\u001b[0m\u001b[0m\n",
      "\u001b[1;32mF:\\software\\anaconda\\lib\\site-packages\\imblearn\\base.py\u001b[0m in \u001b[0;36mfit_resample\u001b[1;34m(self, X, y)\u001b[0m\n\u001b[0;32m     81\u001b[0m         )\n\u001b[0;32m     82\u001b[0m \u001b[1;33m\u001b[0m\u001b[0m\n\u001b[1;32m---> 83\u001b[1;33m         \u001b[0moutput\u001b[0m \u001b[1;33m=\u001b[0m \u001b[0mself\u001b[0m\u001b[1;33m.\u001b[0m\u001b[0m_fit_resample\u001b[0m\u001b[1;33m(\u001b[0m\u001b[0mX\u001b[0m\u001b[1;33m,\u001b[0m \u001b[0my\u001b[0m\u001b[1;33m)\u001b[0m\u001b[1;33m\u001b[0m\u001b[1;33m\u001b[0m\u001b[0m\n\u001b[0m\u001b[0;32m     84\u001b[0m \u001b[1;33m\u001b[0m\u001b[0m\n\u001b[0;32m     85\u001b[0m         \u001b[0my_\u001b[0m \u001b[1;33m=\u001b[0m \u001b[0mlabel_binarize\u001b[0m\u001b[1;33m(\u001b[0m\u001b[0moutput\u001b[0m\u001b[1;33m[\u001b[0m\u001b[1;36m1\u001b[0m\u001b[1;33m]\u001b[0m\u001b[1;33m,\u001b[0m \u001b[0mnp\u001b[0m\u001b[1;33m.\u001b[0m\u001b[0munique\u001b[0m\u001b[1;33m(\u001b[0m\u001b[0my\u001b[0m\u001b[1;33m)\u001b[0m\u001b[1;33m)\u001b[0m \u001b[1;32mif\u001b[0m \u001b[0mbinarize_y\u001b[0m \u001b[1;32melse\u001b[0m \u001b[0moutput\u001b[0m\u001b[1;33m[\u001b[0m\u001b[1;36m1\u001b[0m\u001b[1;33m]\u001b[0m\u001b[1;33m\u001b[0m\u001b[1;33m\u001b[0m\u001b[0m\n",
      "\u001b[1;32mF:\\software\\anaconda\\lib\\site-packages\\imblearn\\over_sampling\\_smote\\base.py\u001b[0m in \u001b[0;36m_fit_resample\u001b[1;34m(self, X, y)\u001b[0m\n\u001b[0;32m    307\u001b[0m \u001b[1;33m\u001b[0m\u001b[0m\n\u001b[0;32m    308\u001b[0m             \u001b[0mself\u001b[0m\u001b[1;33m.\u001b[0m\u001b[0mnn_k_\u001b[0m\u001b[1;33m.\u001b[0m\u001b[0mfit\u001b[0m\u001b[1;33m(\u001b[0m\u001b[0mX_class\u001b[0m\u001b[1;33m)\u001b[0m\u001b[1;33m\u001b[0m\u001b[1;33m\u001b[0m\u001b[0m\n\u001b[1;32m--> 309\u001b[1;33m             \u001b[0mnns\u001b[0m \u001b[1;33m=\u001b[0m \u001b[0mself\u001b[0m\u001b[1;33m.\u001b[0m\u001b[0mnn_k_\u001b[0m\u001b[1;33m.\u001b[0m\u001b[0mkneighbors\u001b[0m\u001b[1;33m(\u001b[0m\u001b[0mX_class\u001b[0m\u001b[1;33m,\u001b[0m \u001b[0mreturn_distance\u001b[0m\u001b[1;33m=\u001b[0m\u001b[1;32mFalse\u001b[0m\u001b[1;33m)\u001b[0m\u001b[1;33m[\u001b[0m\u001b[1;33m:\u001b[0m\u001b[1;33m,\u001b[0m \u001b[1;36m1\u001b[0m\u001b[1;33m:\u001b[0m\u001b[1;33m]\u001b[0m\u001b[1;33m\u001b[0m\u001b[1;33m\u001b[0m\u001b[0m\n\u001b[0m\u001b[0;32m    310\u001b[0m             X_new, y_new = self._make_samples(\n\u001b[0;32m    311\u001b[0m                 \u001b[0mX_class\u001b[0m\u001b[1;33m,\u001b[0m \u001b[0my\u001b[0m\u001b[1;33m.\u001b[0m\u001b[0mdtype\u001b[0m\u001b[1;33m,\u001b[0m \u001b[0mclass_sample\u001b[0m\u001b[1;33m,\u001b[0m \u001b[0mX_class\u001b[0m\u001b[1;33m,\u001b[0m \u001b[0mnns\u001b[0m\u001b[1;33m,\u001b[0m \u001b[0mn_samples\u001b[0m\u001b[1;33m,\u001b[0m \u001b[1;36m1.0\u001b[0m\u001b[1;33m\u001b[0m\u001b[1;33m\u001b[0m\u001b[0m\n",
      "\u001b[1;32mF:\\software\\anaconda\\lib\\site-packages\\sklearn\\neighbors\\_base.py\u001b[0m in \u001b[0;36mkneighbors\u001b[1;34m(self, X, n_neighbors, return_distance)\u001b[0m\n\u001b[0;32m    678\u001b[0m         \u001b[0mn_samples_fit\u001b[0m \u001b[1;33m=\u001b[0m \u001b[0mself\u001b[0m\u001b[1;33m.\u001b[0m\u001b[0mn_samples_fit_\u001b[0m\u001b[1;33m\u001b[0m\u001b[1;33m\u001b[0m\u001b[0m\n\u001b[0;32m    679\u001b[0m         \u001b[1;32mif\u001b[0m \u001b[0mn_neighbors\u001b[0m \u001b[1;33m>\u001b[0m \u001b[0mn_samples_fit\u001b[0m\u001b[1;33m:\u001b[0m\u001b[1;33m\u001b[0m\u001b[1;33m\u001b[0m\u001b[0m\n\u001b[1;32m--> 680\u001b[1;33m             raise ValueError(\n\u001b[0m\u001b[0;32m    681\u001b[0m                 \u001b[1;34m\"Expected n_neighbors <= n_samples, \"\u001b[0m\u001b[1;33m\u001b[0m\u001b[1;33m\u001b[0m\u001b[0m\n\u001b[0;32m    682\u001b[0m                 \u001b[1;34m\" but n_samples = %d, n_neighbors = %d\"\u001b[0m \u001b[1;33m%\u001b[0m\u001b[1;33m\u001b[0m\u001b[1;33m\u001b[0m\u001b[0m\n",
      "\u001b[1;31mValueError\u001b[0m: Expected n_neighbors <= n_samples,  but n_samples = 3, n_neighbors = 6"
     ]
    }
   ],
   "source": [
    "import os\n",
    "import pandas as pd\n",
    "import numpy as np\n",
    "from sklearn.model_selection import train_test_split\n",
    "from imblearn.over_sampling import SMOTE   # SMOTE采样\n",
    "from collections import Counter\n",
    "from sklearn.ensemble import AdaBoostClassifier\n",
    "import warnings\n",
    "warnings.filterwarnings('ignore')\n",
    "warnings.simplefilter('ignore')\n",
    "from sklearn.ensemble import RandomForestClassifier  # 随机森林\n",
    "import lightgbm as lgb # lightgbm\n",
    "from sklearn.ensemble import GradientBoostingClassifier # GBDT\n",
    "from sklearn.linear_model import LogisticRegression # 逻辑回归\n",
    "from sklearn.tree import DecisionTreeClassifier \n",
    "from sklearn.svm import SVC\n",
    "# import xgboost\n",
    "# from xgboost import XGBClassifier\n",
    "from sklearn.metrics import classification_report\n",
    "from sklearn.metrics import roc_auc_score\n",
    "\n",
    "\n",
    "\n",
    "os.getcwd()  # 'C:\\\\Users\\\\dell\\\\zhaoxuan'\n",
    "os.listdir()  # 列出所有文件\n",
    "\n",
    "filelist = os.listdir()\n",
    "\n",
    "csv_list = [x for x in filelist if '数据.csv' in x]\n",
    "print(csv_list)\n",
    "print(csv_list[0])\n",
    "\n",
    "for i in range(len(csv_list)):\n",
    "    \n",
    "    col_list = pd.read_csv('./指标/300次训练.csv',encoding='gbk',header=None)\n",
    "    new_col = list(col_list[col_list[0]==(csv_list[i][:-11])][1])\n",
    "    new_col.append('TICKER_SYMBOL')\n",
    "    new_col.append('FLAG')\n",
    "    data_rate = pd.read_csv(csv_list[i])\n",
    "    data_rate = data_rate[new_col]\n",
    "    data_X = data_rate[~data_rate['FLAG'].isnull()]\n",
    "    data_Y = data_rate[data_rate['FLAG'].isnull()]\n",
    "    data_X['FLAG'] = data_X['FLAG'].apply(lambda x :int(x))\n",
    "    X_1 = data_X[data_X['FLAG']==1]\n",
    "    X_0 = data_X[data_X['FLAG']==0].sample(X_1.shape[0]*3)\n",
    "    X_0 = X_0.append(X_1)\n",
    "    \n",
    "    X_tr,Y_tr = X_0.iloc[:,:-2] ,X_0.iloc[:,-1]\n",
    "\n",
    "\n",
    "    sos = SMOTE(random_state=0)  # SMOTE采样\n",
    "    X_sos, y_sos = sos.fit_resample(X_tr, Y_tr)\n",
    "\n",
    "\n",
    "    clf_adaboost = AdaBoostClassifier()\n",
    "    clf_adaboost.fit(X_sos, y_sos)\n",
    "    pre_q2 = clf_adaboost.predict(data_Y.iloc[:,:-2])\n",
    "    data_Y['FLAG'] = pre_q2\n",
    "    data_Y.iloc[:,-2:].to_csv('{}问题3.csv'.format(i))"
   ]
  },
  {
   "cell_type": "code",
   "execution_count": null,
   "id": "intimate-competition",
   "metadata": {},
   "outputs": [],
   "source": []
  }
 ],
 "metadata": {
  "kernelspec": {
   "display_name": "Python 3",
   "language": "python",
   "name": "python3"
  },
  "language_info": {
   "codemirror_mode": {
    "name": "ipython",
    "version": 3
   },
   "file_extension": ".py",
   "mimetype": "text/x-python",
   "name": "python",
   "nbconvert_exporter": "python",
   "pygments_lexer": "ipython3",
   "version": "3.8.5"
  },
  "toc": {
   "base_numbering": 1,
   "nav_menu": {
    "height": "148px",
    "width": "160px"
   },
   "number_sections": true,
   "sideBar": true,
   "skip_h1_title": false,
   "title_cell": "Table of Contents",
   "title_sidebar": "Contents",
   "toc_cell": false,
   "toc_position": {
    "height": "calc(100% - 180px)",
    "left": "10px",
    "top": "150px",
    "width": "307.2px"
   },
   "toc_section_display": true,
   "toc_window_display": true
  }
 },
 "nbformat": 4,
 "nbformat_minor": 5
}
