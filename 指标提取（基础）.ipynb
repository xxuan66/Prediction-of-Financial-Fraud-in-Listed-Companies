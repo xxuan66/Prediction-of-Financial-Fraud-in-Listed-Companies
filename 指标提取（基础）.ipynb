{
 "cells": [
  {
   "cell_type": "code",
   "execution_count": null,
   "id": "printable-blogger",
   "metadata": {},
   "outputs": [],
   "source": [
    "import pandas as pd\n",
    "\n",
    "data_rate = pd.read_csv('制造业清洗完成的数据.csv')\n",
    "\n",
    "data_X = data_rate[~data_rate['FLAG'].isnull()]\n",
    "data_Y = data_rate[data_rate['FLAG'].isnull()]\n",
    "data_X['FLAG'] = data_X['FLAG'].apply(lambda x :int(x))\n",
    "\n",
    "from sklearn.model_selection import train_test_split\n",
    "from imblearn.over_sampling import SMOTE   # SMOTE采样\n",
    "from collections import Counter\n",
    "from sklearn.ensemble import AdaBoostClassifier\n",
    "\n",
    "for i in range(100):\n",
    "    X_0 = data_X[data_X['FLAG']==0].sample(len(data_X[data_X['FLAG']==1])*3)\n",
    "    X_1 = data_X[data_X['FLAG']==1]\n",
    "    X_0 = X_0.append(X_1)\n",
    "    \n",
    "    X_tr, X_te, Y_tr, Y_te = train_test_split(X_0.iloc[:,12:-1],X_0.iloc[:,-1],test_size=0.25)   # 拆分训练集、测试集,12,134\n",
    "\n",
    "    sos = SMOTE(random_state=0)  # SMOTE采样\n",
    "    X_sos, y_sos = sos.fit_resample(X_tr, Y_tr)\n",
    "\n",
    "    clf = AdaBoostClassifier(n_estimators=1000, random_state=2,learning_rate=0.25)\n",
    "    clf.fit(X_sos, y_sos)\n",
    "\n",
    "    pre = clf.predict(X_te)\n",
    "    DataF[str(i)] = pre\n",
    "    acc_te = sum(pre == Y_te)/len(pre)\n",
    "    print('测试集的准确率',acc_te)\n",
    "    \n",
    "    indices = np.argsort(clf.feature_importances_)[::-1]\n",
    "    f = open('制造业指标.csv',mode='w')\n",
    "    for i in X_0.columns.values[12:][indices][:20]:\n",
    "        f.write(i)\n",
    "        f.write(',')\n",
    "    f.write('\\n')\n",
    "    f.close()"
   ]
  }
 ],
 "metadata": {
  "kernelspec": {
   "display_name": "Python 3 (ipykernel)",
   "language": "python",
   "name": "python3"
  },
  "language_info": {
   "codemirror_mode": {
    "name": "ipython",
    "version": 3
   },
   "file_extension": ".py",
   "mimetype": "text/x-python",
   "name": "python",
   "nbconvert_exporter": "python",
   "pygments_lexer": "ipython3",
   "version": "3.11.5"
  },
  "toc": {
   "base_numbering": 1,
   "nav_menu": {},
   "number_sections": true,
   "sideBar": true,
   "skip_h1_title": false,
   "title_cell": "Table of Contents",
   "title_sidebar": "Contents",
   "toc_cell": false,
   "toc_position": {},
   "toc_section_display": true,
   "toc_window_display": false
  }
 },
 "nbformat": 4,
 "nbformat_minor": 5
}
